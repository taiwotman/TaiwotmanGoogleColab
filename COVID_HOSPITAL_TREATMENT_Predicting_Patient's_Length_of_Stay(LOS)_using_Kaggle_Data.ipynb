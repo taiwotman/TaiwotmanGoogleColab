{
  "nbformat": 4,
  "nbformat_minor": 0,
  "metadata": {
    "colab": {
      "name": "COVID HOSPITAL TREATMENT: Predicting Patient's Length of Stay(LOS) using Kaggle Data",
      "provenance": [],
      "collapsed_sections": [],
      "toc_visible": true,
      "mount_file_id": "1wAq-QKbVWDxrZSokGnSCuNC1xs3rk_0S",
      "authorship_tag": "ABX9TyP/a5F43W7eHO7U+POrwp0J",
      "include_colab_link": true
    },
    "kernelspec": {
      "name": "python3",
      "display_name": "Python 3"
    }
  },
  "cells": [
    {
      "cell_type": "markdown",
      "metadata": {
        "id": "view-in-github",
        "colab_type": "text"
      },
      "source": [
        "<a href=\"https://colab.research.google.com/github/taiwotman/TaiwotmanGoogleColab/blob/main/COVID_HOSPITAL_TREATMENT_Predicting_Patient's_Length_of_Stay(LOS)_using_Kaggle_Data.ipynb\" target=\"_parent\"><img src=\"https://colab.research.google.com/assets/colab-badge.svg\" alt=\"Open In Colab\"/></a>"
      ]
    },
    {
      "cell_type": "markdown",
      "metadata": {
        "id": "uUxJ0TdeqdTJ"
      },
      "source": [
        "## **Multi-Class Classification of COVID-19 Patients based on Length of Stay**"
      ]
    },
    {
      "cell_type": "markdown",
      "metadata": {
        "id": "7TAj51jFn_-z"
      },
      "source": [
        "***Description***: **[COVID HOSPITAL TREATMENT](https://www.kaggle.com/arashnic/covid19-hospital-treatment)**\n",
        "\n",
        "Kaggle dataset available for download: [data](https://www.kaggle.com/arashnic/covid19-hospital-treatment/download)\n",
        "\n",
        "\n",
        "\n",
        "***Authored by:*** Taiwo O. Adetiloye | [Website](https://taiwotman.github.io)\n",
        "\n",
        "***Date:*** March 15, 2021\n",
        "\n",
        "---\n",
        "\n",
        "\n"
      ]
    },
    {
      "cell_type": "markdown",
      "metadata": {
        "id": "YJXgl_0iqPq4"
      },
      "source": [
        "### **1. SET UP**"
      ]
    },
    {
      "cell_type": "markdown",
      "metadata": {
        "id": "pRvqT1spUfIJ"
      },
      "source": [
        "**Mount content from Google Drive**\n"
      ]
    },
    {
      "cell_type": "code",
      "metadata": {
        "colab": {
          "base_uri": "https://localhost:8080/"
        },
        "id": "TsKj0QruWGpn",
        "outputId": "fe70fcbe-a9f2-4dda-bf30-2612e7760881"
      },
      "source": [
        "from google.colab import drive\n",
        "drive.mount('/content/drive')\n"
      ],
      "execution_count": null,
      "outputs": [
        {
          "output_type": "stream",
          "text": [
            "Mounted at /content/drive\n"
          ],
          "name": "stdout"
        }
      ]
    },
    {
      "cell_type": "markdown",
      "metadata": {
        "id": "159mQnlapRTV"
      },
      "source": [
        "**Install Java 8**"
      ]
    },
    {
      "cell_type": "code",
      "metadata": {
        "id": "uokR5JVBYM8g"
      },
      "source": [
        "!apt-get install openjdk-8-jdk-headless -qq > /dev/null"
      ],
      "execution_count": null,
      "outputs": []
    },
    {
      "cell_type": "markdown",
      "metadata": {
        "id": "-N-VRSYZpi91"
      },
      "source": [
        "**Install pyspark libraries**"
      ]
    },
    {
      "cell_type": "code",
      "metadata": {
        "id": "VRdIhnUCYPbJ",
        "colab": {
          "base_uri": "https://localhost:8080/"
        },
        "outputId": "02534d27-849b-420b-fb8f-4b1ae869e391"
      },
      "source": [
        "!pip install -q findspark\n",
        "!pip install pyspark\n"
      ],
      "execution_count": null,
      "outputs": [
        {
          "output_type": "stream",
          "text": [
            "Collecting pyspark\n",
            "\u001b[?25l  Downloading https://files.pythonhosted.org/packages/45/b0/9d6860891ab14a39d4bddf80ba26ce51c2f9dc4805e5c6978ac0472c120a/pyspark-3.1.1.tar.gz (212.3MB)\n",
            "\u001b[K     |████████████████████████████████| 212.3MB 60kB/s \n",
            "\u001b[?25hCollecting py4j==0.10.9\n",
            "\u001b[?25l  Downloading https://files.pythonhosted.org/packages/9e/b6/6a4fb90cd235dc8e265a6a2067f2a2c99f0d91787f06aca4bcf7c23f3f80/py4j-0.10.9-py2.py3-none-any.whl (198kB)\n",
            "\u001b[K     |████████████████████████████████| 204kB 18.4MB/s \n",
            "\u001b[?25hBuilding wheels for collected packages: pyspark\n",
            "  Building wheel for pyspark (setup.py) ... \u001b[?25l\u001b[?25hdone\n",
            "  Created wheel for pyspark: filename=pyspark-3.1.1-py2.py3-none-any.whl size=212767604 sha256=6c0aaf84bc5a4b76441c8e70256518018778fc3b79d5b6670557b224f714042b\n",
            "  Stored in directory: /root/.cache/pip/wheels/0b/90/c0/01de724414ef122bd05f056541fb6a0ecf47c7ca655f8b3c0f\n",
            "Successfully built pyspark\n",
            "Installing collected packages: py4j, pyspark\n",
            "Successfully installed py4j-0.10.9 pyspark-3.1.1\n"
          ],
          "name": "stdout"
        }
      ]
    },
    {
      "cell_type": "markdown",
      "metadata": {
        "id": "HNvqk9-CptIV"
      },
      "source": [
        "**Set JAVA_HOME and SPARK_HOME**"
      ]
    },
    {
      "cell_type": "code",
      "metadata": {
        "id": "BuakdVqeXCyE"
      },
      "source": [
        "import os\n",
        "os.environ[\"JAVA_HOME\"] = \"/usr/lib/jvm/java-8-openjdk-amd64\"\n",
        "os.environ[\"SPARK_HOME\"] = \"/usr/local/lib/python3.7/dist-packages/pyspark\"\n"
      ],
      "execution_count": null,
      "outputs": []
    },
    {
      "cell_type": "markdown",
      "metadata": {
        "id": "Vh54uX-sp3Vj"
      },
      "source": [
        "**Ensure spark is set up and running.**\n"
      ]
    },
    {
      "cell_type": "code",
      "metadata": {
        "colab": {
          "base_uri": "https://localhost:8080/",
          "height": 35
        },
        "id": "OXbtvVTvgQW7",
        "outputId": "2de8cb66-bd29-4599-ea55-bd7d59b99559"
      },
      "source": [
        "import findspark \n",
        "findspark.find()"
      ],
      "execution_count": null,
      "outputs": [
        {
          "output_type": "execute_result",
          "data": {
            "application/vnd.google.colaboratory.intrinsic+json": {
              "type": "string"
            },
            "text/plain": [
              "'/usr/local/lib/python3.7/dist-packages/pyspark'"
            ]
          },
          "metadata": {
            "tags": []
          },
          "execution_count": 5
        }
      ]
    },
    {
      "cell_type": "code",
      "metadata": {
        "id": "UdY-CWvCXEmQ"
      },
      "source": [
        "\n",
        "from pyspark.sql import SparkSession\n",
        "\n",
        "spark = SparkSession.builder.master('local')\\\n",
        ".appName(\"Predicting LOS for High Risk Patient\")\\\n",
        ".getOrCreate()"
      ],
      "execution_count": null,
      "outputs": []
    },
    {
      "cell_type": "code",
      "metadata": {
        "colab": {
          "base_uri": "https://localhost:8080/",
          "height": 216
        },
        "id": "IyWFnKUtf7d0",
        "outputId": "809baf65-4515-46c7-e3d7-0e854658677c"
      },
      "source": [
        "spark"
      ],
      "execution_count": null,
      "outputs": [
        {
          "output_type": "execute_result",
          "data": {
            "text/html": [
              "\n",
              "            <div>\n",
              "                <p><b>SparkSession - in-memory</b></p>\n",
              "                \n",
              "        <div>\n",
              "            <p><b>SparkContext</b></p>\n",
              "\n",
              "            <p><a href=\"http://1fbf310775ea:4040\">Spark UI</a></p>\n",
              "\n",
              "            <dl>\n",
              "              <dt>Version</dt>\n",
              "                <dd><code>v3.1.1</code></dd>\n",
              "              <dt>Master</dt>\n",
              "                <dd><code>local</code></dd>\n",
              "              <dt>AppName</dt>\n",
              "                <dd><code>Predicting LOS for High Risk Patient</code></dd>\n",
              "            </dl>\n",
              "        </div>\n",
              "        \n",
              "            </div>\n",
              "        "
            ],
            "text/plain": [
              "<pyspark.sql.session.SparkSession at 0x7f9c50d5f210>"
            ]
          },
          "metadata": {
            "tags": []
          },
          "execution_count": 7
        }
      ]
    },
    {
      "cell_type": "markdown",
      "metadata": {
        "id": "uhZktJMQqCif"
      },
      "source": [
        "**Read file from the mounted drive to spark dataframe**"
      ]
    },
    {
      "cell_type": "code",
      "metadata": {
        "id": "zyDaR2-_gjbI"
      },
      "source": [
        "filepath = \"/content/drive/MyDrive/Colab Notebooks/data/host_train.csv\" # Change this to your data filepath\n",
        "\n",
        "df  = spark.read.option(\"header\", \"true\").csv(filepath)\n"
      ],
      "execution_count": null,
      "outputs": []
    },
    {
      "cell_type": "markdown",
      "metadata": {
        "id": "V9kIQjI0qVEt"
      },
      "source": [
        "### **2. Data Preparation**\n"
      ]
    },
    {
      "cell_type": "code",
      "metadata": {
        "colab": {
          "base_uri": "https://localhost:8080/"
        },
        "id": "-Wy2E0bLhSi5",
        "outputId": "1e92e2a1-e3b0-4f47-eedd-9524a2c427f5"
      },
      "source": [
        "df.printSchema()"
      ],
      "execution_count": null,
      "outputs": [
        {
          "output_type": "stream",
          "text": [
            "root\n",
            " |-- case_id: string (nullable = true)\n",
            " |-- Hospital: string (nullable = true)\n",
            " |-- Hospital_type: string (nullable = true)\n",
            " |-- Hospital_city: string (nullable = true)\n",
            " |-- Hospital_region: string (nullable = true)\n",
            " |-- Available_Extra_Rooms_in_Hospital: string (nullable = true)\n",
            " |-- Department: string (nullable = true)\n",
            " |-- Ward_Type: string (nullable = true)\n",
            " |-- Ward_Facility: string (nullable = true)\n",
            " |-- Bed_Grade: string (nullable = true)\n",
            " |-- patientid: string (nullable = true)\n",
            " |-- City_Code_Patient: string (nullable = true)\n",
            " |-- Type of Admission: string (nullable = true)\n",
            " |-- Illness_Severity: string (nullable = true)\n",
            " |-- Patient_Visitors: string (nullable = true)\n",
            " |-- Age: string (nullable = true)\n",
            " |-- Admission_Deposit: string (nullable = true)\n",
            " |-- Stay_Days: string (nullable = true)\n",
            "\n"
          ],
          "name": "stdout"
        }
      ]
    },
    {
      "cell_type": "code",
      "metadata": {
        "colab": {
          "base_uri": "https://localhost:8080/"
        },
        "id": "I8Pv9OcshUnw",
        "outputId": "c49a9f04-ba2c-409b-a9c9-389ff9b64aa7"
      },
      "source": [
        "print(f\"Counts of rows/samples: {df.count()}\")\n",
        "print(f\"Counts of columns/features: {len(df.columns)}\")"
      ],
      "execution_count": null,
      "outputs": [
        {
          "output_type": "stream",
          "text": [
            "Counts of rows/samples: 318438\n",
            "Counts of columns/features: 18\n"
          ],
          "name": "stdout"
        }
      ]
    },
    {
      "cell_type": "code",
      "metadata": {
        "colab": {
          "base_uri": "https://localhost:8080/"
        },
        "id": "u9Ejddl0hYVC",
        "outputId": "0010f40d-18b4-4282-b43f-7f1f49496f1e"
      },
      "source": [
        "df.show(100)"
      ],
      "execution_count": null,
      "outputs": [
        {
          "output_type": "stream",
          "text": [
            "+-------+--------+-------------+-------------+---------------+---------------------------------+------------------+---------+-------------+---------+---------+-----------------+-----------------+----------------+----------------+-----+-----------------+------------------+\n",
            "|case_id|Hospital|Hospital_type|Hospital_city|Hospital_region|Available_Extra_Rooms_in_Hospital|        Department|Ward_Type|Ward_Facility|Bed_Grade|patientid|City_Code_Patient|Type of Admission|Illness_Severity|Patient_Visitors|  Age|Admission_Deposit|         Stay_Days|\n",
            "+-------+--------+-------------+-------------+---------------+---------------------------------+------------------+---------+-------------+---------+---------+-----------------+-----------------+----------------+----------------+-----+-----------------+------------------+\n",
            "|      1|       8|            2|            3|              2|                                3|      radiotherapy|        R|            F|      2.0|    31397|              7.0|        Emergency|         Extreme|               2|51-60|           4911.0|              0-10|\n",
            "|      2|       2|            2|            5|              2|                                2|      radiotherapy|        S|            F|      2.0|    31397|              7.0|           Trauma|         Extreme|               2|51-60|           5954.0|             41-50|\n",
            "|      3|      10|            4|            1|              0|                                2|        anesthesia|        S|            E|      2.0|    31397|              7.0|           Trauma|         Extreme|               2|51-60|           4745.0|             31-40|\n",
            "|      4|      26|            1|            2|              1|                                2|      radiotherapy|        R|            D|      2.0|    31397|              7.0|           Trauma|         Extreme|               2|51-60|           7272.0|             41-50|\n",
            "|      5|      26|            1|            2|              1|                                2|      radiotherapy|        S|            D|      2.0|    31397|              7.0|           Trauma|         Extreme|               2|51-60|           5558.0|             41-50|\n",
            "|      6|      23|            0|            6|              0|                                2|        anesthesia|        S|            F|      2.0|    31397|              7.0|           Trauma|         Extreme|               2|51-60|           4449.0|             11-20|\n",
            "|      7|      32|            5|            9|              1|                                1|      radiotherapy|        S|            B|      3.0|    31397|              7.0|        Emergency|         Extreme|               2|51-60|           6167.0|              0-10|\n",
            "|      8|      23|            0|            6|              0|                                4|      radiotherapy|        Q|            F|      3.0|    31397|              7.0|           Trauma|         Extreme|               2|51-60|           5571.0|             41-50|\n",
            "|      9|       1|            3|           10|              1|                                2|        gynecology|        R|            B|      4.0|    31397|              7.0|           Trauma|         Extreme|               2|51-60|           7223.0|             51-60|\n",
            "|     10|      10|            4|            1|              0|                                2|        gynecology|        S|            E|      3.0|    31397|              7.0|           Trauma|         Extreme|               2|51-60|           6056.0|             31-40|\n",
            "|     11|      22|            6|            9|              1|                                2|      radiotherapy|        S|            B|      2.0|    31397|              7.0|           Urgent|         Extreme|               2|51-60|           5797.0|             21-30|\n",
            "|     12|      26|            1|            2|              1|                                4|      radiotherapy|        R|            D|      1.0|    31397|              7.0|           Urgent|         Extreme|               2|51-60|           5993.0|             11-20|\n",
            "|     13|      16|            2|            3|              2|                                2|      radiotherapy|        R|            A|      3.0|    31397|              7.0|        Emergency|         Extreme|               2|51-60|           5141.0|              0-10|\n",
            "|     14|       9|            3|            5|              2|                                3|      radiotherapy|        S|            F|      3.0|    31397|              7.0|           Urgent|         Extreme|               2|51-60|           8477.0|             21-30|\n",
            "|     15|       6|            0|            6|              0|                                4|        gynecology|        Q|            F|      3.0|    63418|              8.0|        Emergency|         Extreme|               2|71-80|           2685.0|              0-10|\n",
            "|     16|       6|            0|            6|              0|                                3|        gynecology|        Q|            F|      3.0|    63418|              8.0|        Emergency|         Extreme|               2|71-80|           9398.0|              0-10|\n",
            "|     17|      23|            0|            6|              0|                                4|      radiotherapy|        Q|            F|      3.0|    63418|              8.0|           Urgent|         Extreme|               4|71-80|           2933.0|              0-10|\n",
            "|     18|      29|            0|            4|              0|                                4|        anesthesia|        S|            F|      3.0|    63418|              8.0|        Emergency|         Extreme|               2|71-80|           5342.0|             11-20|\n",
            "|     19|      32|            5|            9|              1|                                4|      radiotherapy|        S|            B|      2.0|    63418|              8.0|           Trauma|         Extreme|               2|71-80|           7442.0|             21-30|\n",
            "|     20|      12|            0|            9|              1|                                4|      radiotherapy|        Q|            B|      2.0|    63418|              8.0|           Trauma|         Extreme|               2|71-80|           5155.0|             31-40|\n",
            "|     21|      16|            2|            3|              2|                                2|        anesthesia|        S|            A|      3.0|    63418|              8.0|           Trauma|         Extreme|               2|71-80|           8181.0|             31-40|\n",
            "|     22|       3|            2|            3|              2|                                2|        anesthesia|        R|            A|      3.0|    63418|              8.0|           Trauma|         Extreme|               2|71-80|           6672.0|             21-30|\n",
            "|     23|      21|            2|            3|              2|                                2|        anesthesia|        S|            A|      3.0|    63418|              8.0|           Trauma|         Extreme|               2|71-80|           6364.0|             11-20|\n",
            "|     24|       6|            0|            6|              0|                                3|        anesthesia|        R|            F|      3.0|    63418|              8.0|           Urgent|         Extreme|               2|71-80|           4664.0|             21-30|\n",
            "|     25|      26|            1|            2|              1|                                4|      radiotherapy|        Q|            D|      1.0|    63418|              8.0|           Trauma|         Extreme|               4|71-80|           4091.0|             31-40|\n",
            "|     26|      28|            1|           11|              0|                                4|        gynecology|        R|            F|      2.0|     8088|              2.0|        Emergency|        Moderate|               2|31-40|           2405.0|             11-20|\n",
            "|     27|      26|            1|            2|              1|                                4|        anesthesia|        Q|            D|      3.0|     8088|              2.0|           Trauma|        Moderate|               2|31-40|           5164.0|             11-20|\n",
            "|     28|      26|            1|            2|              1|                                4|        gynecology|        R|            D|      3.0|     8088|              2.0|           Trauma|        Moderate|               2|31-40|           5055.0|             21-30|\n",
            "|     29|       6|            0|            6|              0|                                4|        gynecology|        Q|            F|      2.0|     8088|              2.0|           Trauma|        Moderate|               4|31-40|           3339.0|             31-40|\n",
            "|     30|      27|            0|            7|              1|                                4|        gynecology|        R|            C|      2.0|     8088|              2.0|           Trauma|        Moderate|               2|31-40|           5757.0|             21-30|\n",
            "|     31|      27|            0|            7|              1|                                3|        gynecology|        R|            C|      3.0|     8088|              2.0|           Urgent|        Moderate|               4|31-40|           4515.0|             51-60|\n",
            "|     32|      19|            0|            7|              1|                                2|        gynecology|        R|            C|      2.0|    28843|              8.0|        Emergency|        Moderate|               2|41-50|           4201.0|              0-10|\n",
            "|     33|      26|            1|            2|              1|                                2|        gynecology|        R|            D|      1.0|    28843|              8.0|           Trauma|        Moderate|               2|41-50|           3822.0|             31-40|\n",
            "|     34|       5|            0|            1|              0|                                4|        gynecology|        R|            E|      2.0|   109338|              5.0|        Emergency|        Moderate|               3|31-40|           4274.0|             11-20|\n",
            "|     35|       5|            0|            1|              0|                                3|        gynecology|        R|            E|      2.0|   109338|              5.0|        Emergency|        Moderate|               3|31-40|           5587.0|             11-20|\n",
            "|     36|      10|            4|            1|              0|                                3|        gynecology|        Q|            E|      2.0|   109338|              5.0|        Emergency|        Moderate|               2|31-40|           3088.0|              0-10|\n",
            "|     37|      26|            1|            2|              1|                                3|        gynecology|        S|            D|      3.0|   115513|              7.0|        Emergency|           Minor|               8|71-80|           4110.0|             21-30|\n",
            "|     38|      12|            0|            9|              1|                                2|      radiotherapy|        S|            B|      2.0|   115513|              7.0|        Emergency|           Minor|               4|71-80|           4531.0|             31-40|\n",
            "|     39|      32|            5|            9|              1|                                2|      radiotherapy|        S|            B|      3.0|   115513|              7.0|        Emergency|           Minor|               2|71-80|           4971.0|             11-20|\n",
            "|     40|      19|            0|            7|              1|                                2|      radiotherapy|        S|            C|      3.0|   115513|              7.0|        Emergency|           Minor|               4|71-80|           4718.0|             71-80|\n",
            "|     41|      26|            1|            2|              1|                                1|      radiotherapy|        S|            D|      3.0|   115513|              7.0|        Emergency|           Minor|               2|71-80|           3650.0|              0-10|\n",
            "|     42|      27|            0|            7|              1|                                2|      radiotherapy|        S|            C|      3.0|    84932|              8.0|        Emergency|        Moderate|               2|31-40|           5038.0|              0-10|\n",
            "|     43|      26|            1|            2|              1|                                4|        gynecology|        R|            D|      2.0|    84932|              8.0|        Emergency|        Moderate|               3|31-40|           3357.0|             41-50|\n",
            "|     44|      19|            0|            7|              1|                                6|        gynecology|        Q|            C|      2.0|    84932|              8.0|        Emergency|        Moderate|               3|31-40|           4353.0|             51-60|\n",
            "|     45|      21|            2|            3|              2|                                2|        gynecology|        S|            A|      2.0|    84932|              8.0|        Emergency|        Moderate|               3|31-40|           5152.0|             51-60|\n",
            "|     46|      19|            0|            7|              1|                                3|        gynecology|        S|            C|      3.0|    84932|              8.0|        Emergency|        Moderate|               6|31-40|           4046.0|More than 100 Days|\n",
            "|     47|      26|            1|            2|              1|                                2|TB & Chest disease|        S|            D|      3.0|    44201|              2.0|        Emergency|         Extreme|               2|51-60|           7606.0|              0-10|\n",
            "|     48|       6|            0|            6|              0|                                2|        gynecology|        R|            F|      3.0|    44201|              2.0|        Emergency|         Extreme|               4|51-60|           6204.0|             51-60|\n",
            "|     49|      23|            0|            6|              0|                                2|TB & Chest disease|        R|            F|      3.0|    44201|              2.0|        Emergency|         Extreme|               2|51-60|           4638.0|             11-20|\n",
            "|     50|      23|            0|            6|              0|                                2|TB & Chest disease|        R|            F|      1.0|    44201|              2.0|        Emergency|         Extreme|               4|51-60|           5327.0|             51-60|\n",
            "|     51|      14|            0|            1|              0|                                2|      radiotherapy|        S|            E|      2.0|    33340|              2.0|           Urgent|        Moderate|               3|31-40|           3945.0|             11-20|\n",
            "|     52|      28|            1|           11|              0|                                4|      radiotherapy|        R|            F|      4.0|    33340|              2.0|        Emergency|        Moderate|               2|31-40|           4253.0|              0-10|\n",
            "|     53|      26|            1|            2|              1|                                5|      radiotherapy|        Q|            D|      2.0|    33340|              2.0|        Emergency|        Moderate|               2|31-40|           4221.0|             21-30|\n",
            "|     54|      13|            0|            5|              2|                                2|      radiotherapy|        R|            F|      4.0|    33340|              2.0|        Emergency|        Moderate|               2|31-40|           4910.0|             21-30|\n",
            "|     55|       9|            3|            5|              2|                                2|      radiotherapy|        R|            F|      4.0|    33340|              2.0|        Emergency|        Moderate|               2|31-40|           4628.0|             11-20|\n",
            "|     56|       8|            2|            3|              2|                                2|      radiotherapy|        R|            F|      4.0|    33340|              2.0|        Emergency|        Moderate|               2|31-40|           5130.0|             21-30|\n",
            "|     57|      28|            1|           11|              0|                                4|      radiotherapy|        R|            F|      2.0|    33340|              2.0|           Trauma|        Moderate|               3|31-40|           3749.0|             21-30|\n",
            "|     58|       6|            0|            6|              0|                                4|      radiotherapy|        Q|            F|      2.0|    33340|              2.0|           Urgent|        Moderate|               2|31-40|           4066.0|             21-30|\n",
            "|     59|       6|            0|            6|              0|                                4|        anesthesia|        R|            F|      4.0|    33340|              2.0|        Emergency|        Moderate|               6|31-40|           5764.0|             31-40|\n",
            "|     60|      28|            1|           11|              0|                                2|      radiotherapy|        R|            F|      4.0|    33340|              2.0|           Trauma|        Moderate|               2|31-40|           3889.0|             11-20|\n",
            "|     61|      31|            2|            3|              2|                                4|        gynecology|        R|            A|      2.0|    83512|              6.0|        Emergency|        Moderate|               2|81-90|           3475.0|              0-10|\n",
            "|     62|      31|            2|            3|              2|                                2|        gynecology|        S|            A|      3.0|    83512|              6.0|        Emergency|        Moderate|               2|81-90|           5429.0|             11-20|\n",
            "|     63|      31|            2|            3|              2|                                2|        gynecology|        R|            A|      3.0|    83512|              6.0|        Emergency|        Moderate|               4|81-90|           4182.0|             51-60|\n",
            "|     64|      31|            2|            3|              2|                                3|        gynecology|        R|            A|      2.0|    83512|              6.0|        Emergency|        Moderate|               2|81-90|           5057.0|             21-30|\n",
            "|     65|      14|            0|            1|              0|                                2|        gynecology|        R|            E|      4.0|    83512|              6.0|        Emergency|        Moderate|               2|81-90|           5792.0|             21-30|\n",
            "|     66|      24|            0|            1|              0|                                2|        gynecology|        R|            E|      4.0|    83512|              6.0|        Emergency|        Moderate|               2|81-90|           5516.0|             11-20|\n",
            "|     67|      17|            4|            1|              0|                                2|        gynecology|        R|            E|      4.0|    83512|              6.0|        Emergency|        Moderate|               2|81-90|           5304.0|              0-10|\n",
            "|     68|      25|            4|            1|              0|                                2|        gynecology|        Q|            E|      4.0|    83512|              6.0|        Emergency|        Moderate|               2|81-90|           5598.0|             11-20|\n",
            "|     69|      10|            4|            1|              0|                                2|        gynecology|        Q|            E|      4.0|    83512|              6.0|        Emergency|        Moderate|               2|81-90|           5082.0|             11-20|\n",
            "|     70|      31|            2|            3|              2|                                7|        gynecology|        R|            A|      2.0|    83512|              6.0|        Emergency|        Moderate|               4|81-90|           3611.0|             21-30|\n",
            "|     71|      31|            2|            3|              2|                                4|        gynecology|        S|            A|      2.0|    83512|              6.0|        Emergency|        Moderate|               2|81-90|           5064.0|              0-10|\n",
            "|     72|      13|            0|            5|              2|                                4|        gynecology|        R|            F|      4.0|    83512|              6.0|        Emergency|        Moderate|               3|81-90|           7057.0|             21-30|\n",
            "|     73|      13|            0|            5|              2|                                4|        gynecology|        R|            F|      4.0|    83512|              6.0|        Emergency|        Moderate|               3|81-90|           5675.0|              0-10|\n",
            "|     74|      19|            0|            7|              1|                                3|        gynecology|        Q|            C|      2.0|    64869|              3.0|        Emergency|        Moderate|               2|61-70|           4311.0|             11-20|\n",
            "|     75|      12|            0|            9|              1|                                2|        gynecology|        S|            B|      2.0|    64869|              3.0|           Trauma|        Moderate|               2|61-70|           5084.0|             11-20|\n",
            "|     76|      32|            5|            9|              1|                                2|        gynecology|        S|            B|      2.0|    64869|              3.0|           Trauma|        Moderate|               2|61-70|           5508.0|             21-30|\n",
            "|     77|      14|            0|            1|              0|                                2|        anesthesia|        S|            E|      4.0|    64869|              3.0|           Trauma|        Moderate|               4|61-70|           4204.0|             71-80|\n",
            "|     78|      24|            0|            1|              0|                                2|        anesthesia|        R|            E|      4.0|    64869|              3.0|           Trauma|        Moderate|               4|61-70|           6694.0|             41-50|\n",
            "|     79|      24|            0|            1|              0|                                2|        anesthesia|        R|            E|      4.0|    64869|              3.0|           Trauma|        Moderate|               4|61-70|           6362.0|             41-50|\n",
            "|     80|      15|            2|            5|              2|                                3|        gynecology|        Q|            F|      2.0|    30632|              4.0|           Trauma|           Minor|               3|41-50|           5364.0|             51-60|\n",
            "|     81|      15|            2|            5|              2|                                2|        gynecology|        S|            F|      2.0|    30632|              4.0|           Trauma|           Minor|               3|41-50|           4382.0|             51-60|\n",
            "|     82|      14|            0|            1|              0|                                3|        gynecology|        R|            E|      2.0|   128803|              2.0|           Trauma|           Minor|               4|41-50|           5387.0|             31-40|\n",
            "|     83|      23|            0|            6|              0|                                3|        anesthesia|        Q|            F|      3.0|   128803|              2.0|           Trauma|           Minor|               7|41-50|           4679.0|             31-40|\n",
            "|     84|      10|            4|            1|              0|                                4|        gynecology|        Q|            E|      1.0|   128803|              2.0|        Emergency|           Minor|               4|41-50|           5150.0|             21-30|\n",
            "|     85|      11|            1|            2|              1|                                3|TB & Chest disease|        Q|            D|      3.0|    82551|              8.0|        Emergency|           Minor|               2|71-80|           4081.0|              0-10|\n",
            "|     86|      11|            1|            2|              1|                                3|        gynecology|        Q|            D|      4.0|    82551|              8.0|           Trauma|           Minor|               2|71-80|           4450.0|             21-30|\n",
            "|     87|      32|            5|            9|              1|                                3|        gynecology|        S|            B|      4.0|    82551|              8.0|        Emergency|           Minor|               2|71-80|           3136.0|              0-10|\n",
            "|     88|      11|            1|            2|              1|                                3|        anesthesia|        Q|            D|      3.0|    88451|              8.0|           Trauma|        Moderate|               4|21-30|           2816.0|              0-10|\n",
            "|     89|      19|            0|            7|              1|                                4|        gynecology|        Q|            C|      2.0|    88451|              8.0|        Emergency|        Moderate|               4|21-30|           5340.0|             11-20|\n",
            "|     90|      19|            0|            7|              1|                                4|        gynecology|        Q|            C|      2.0|    88451|              8.0|        Emergency|        Moderate|               4|21-30|           4551.0|             11-20|\n",
            "|     91|       9|            3|            5|              2|                                3|      radiotherapy|        Q|            F|      3.0|    88451|              8.0|           Urgent|        Moderate|              13|21-30|           3353.0|More than 100 Days|\n",
            "|     92|      19|            0|            7|              1|                                6|        gynecology|        Q|            C|      1.0|    88451|              8.0|        Emergency|        Moderate|               4|21-30|           5430.0|             31-40|\n",
            "|     93|       9|            3|            5|              2|                                4|        gynecology|        R|            F|      2.0|    21257|              7.0|           Urgent|        Moderate|               3|31-40|           5282.0|             11-20|\n",
            "|     94|      23|            0|            6|              0|                                5|        gynecology|        Q|            F|      2.0|    21257|              7.0|           Urgent|        Moderate|               8|31-40|           5254.0|             81-90|\n",
            "|     95|      29|            0|            4|              0|                                4|        gynecology|        S|            F|      2.0|    21257|              7.0|        Emergency|        Moderate|               2|31-40|           4198.0|             21-30|\n",
            "|     96|       1|            3|           10|              1|                                4|        gynecology|        Q|            B|      1.0|    21257|              7.0|           Urgent|        Moderate|               2|31-40|           3750.0|             11-20|\n",
            "|     97|      13|            0|            5|              2|                                3|        gynecology|        R|            F|      2.0|    21257|              7.0|           Urgent|        Moderate|               2|31-40|           6162.0|             21-30|\n",
            "|     98|      15|            2|            5|              2|                                4|        gynecology|        R|            F|      2.0|    21257|              7.0|           Urgent|        Moderate|               3|31-40|           5199.0|             21-30|\n",
            "|     99|      12|            0|            9|              1|                                3|        gynecology|        R|            B|      1.0|    21257|              7.0|           Urgent|        Moderate|               2|31-40|           4796.0|             21-30|\n",
            "|    100|      27|            0|            7|              1|                                6|        anesthesia|        P|            C|      3.0|    48585|              8.0|           Urgent|        Moderate|               3|61-70|           5219.0|             11-20|\n",
            "+-------+--------+-------------+-------------+---------------+---------------------------------+------------------+---------+-------------+---------+---------+-----------------+-----------------+----------------+----------------+-----+-----------------+------------------+\n",
            "only showing top 100 rows\n",
            "\n"
          ],
          "name": "stdout"
        }
      ]
    },
    {
      "cell_type": "markdown",
      "metadata": {
        "id": "iiQaJ_86NR5J"
      },
      "source": [
        "**Observations using Dataframe Schema**\n",
        "\n",
        "\n",
        "\\begin{array}{ccc}\n",
        "Column\\:Name&Critical\\:Factor&Data\\:Type&Transformation\\:required&Transformation\\\\\n",
        "case\\_id & No &String &No&N/A \\\\ \n",
        "Hospital & Yes &String&Yes&String\\:to\\:integer\\\\\n",
        "Hospital\\_type & Yes &String&Yes& String\\:to\\:integer\\\\\n",
        "Hospital\\_city & Yes &String&Yes&String\\:to\\:integer\\\\\n",
        "Hospital\\_region & Yes &String&Yes&String\\:to\\:integer\\\\\n",
        "Available\\_extra\\_rooms\\_in\\_hospital & Yes &String&Yes&String\\:to\\:integer\\\\\n",
        "Department & Yes &String&Yes&String\\:to\\:index\\\\\n",
        "Ward\\_type & Yes &String&Yes&String\\:to\\:index\\\\\n",
        "Ward\\_facility & Yes &String&Yes&String\\:to\\:index\\\\\n",
        "Bed\\_grade & Yes &String&Yes&String\\:to\\:integer\\\\\n",
        "Patientid & No &String&Yes&String\\:to\\:integer\\\\\n",
        "City\\_Code\\_Patient & Yes &String&Yes&String\\:to\\:integer\\\\\n",
        "Type\\:of\\:Admission & Yes &String&Yes&String\\:to\\:index\\\\\n",
        "Illness\\_Severity & Yes &String&Yes&String\\:to\\:index\\\\\n",
        "Patient\\_Visitors & Yes &String&Yes&String\\:to\\:integer\\\\\n",
        "Age & Yes &String&Yes&String\\:to\\:index\\\\\n",
        "Admission\\_Deposit& Yes &String&Yes&String\\:to\\:integer\\\\\n",
        "Stay\\_Days & Target\\:variable\\:or\\:Label &String&Yes&String\\:to\\:index\\\\\n",
        "\\end{array}\n",
        "\n",
        "\n"
      ]
    },
    {
      "cell_type": "markdown",
      "metadata": {
        "id": "zAKmYoIubpql"
      },
      "source": [
        "**First Level Transformation: Rename selected columns**"
      ]
    },
    {
      "cell_type": "code",
      "metadata": {
        "colab": {
          "base_uri": "https://localhost:8080/"
        },
        "id": "MOwgFU9siyPk",
        "outputId": "ce7ebdf8-3c44-43f0-ac38-66b06b5c34b1"
      },
      "source": [
        "## Rename column \"Type of Admission\" and \"patientid\"\n",
        "df2 = df.withColumnRenamed(\"Type of Admission\", \"Type_of_Admission\")\\\n",
        "      .withColumnRenamed(\"patientid\", \"Patient_id\")\n",
        "\n",
        "## Convert all columns to lower case for uniformity\n",
        "df3 = df2.toDF(*[c.lower() for c in df2.columns])\n",
        "df3.printSchema()\n",
        "\n"
      ],
      "execution_count": null,
      "outputs": [
        {
          "output_type": "stream",
          "text": [
            "root\n",
            " |-- case_id: string (nullable = true)\n",
            " |-- hospital: string (nullable = true)\n",
            " |-- hospital_type: string (nullable = true)\n",
            " |-- hospital_city: string (nullable = true)\n",
            " |-- hospital_region: string (nullable = true)\n",
            " |-- available_extra_rooms_in_hospital: string (nullable = true)\n",
            " |-- department: string (nullable = true)\n",
            " |-- ward_type: string (nullable = true)\n",
            " |-- ward_facility: string (nullable = true)\n",
            " |-- bed_grade: string (nullable = true)\n",
            " |-- patient_id: string (nullable = true)\n",
            " |-- city_code_patient: string (nullable = true)\n",
            " |-- type_of_admission: string (nullable = true)\n",
            " |-- illness_severity: string (nullable = true)\n",
            " |-- patient_visitors: string (nullable = true)\n",
            " |-- age: string (nullable = true)\n",
            " |-- admission_deposit: string (nullable = true)\n",
            " |-- stay_days: string (nullable = true)\n",
            "\n"
          ],
          "name": "stdout"
        }
      ]
    },
    {
      "cell_type": "markdown",
      "metadata": {
        "id": "59fcw78_pxIJ"
      },
      "source": [
        "**Second Level Transformation: Change selected columns from String to Integer**"
      ]
    },
    {
      "cell_type": "code",
      "metadata": {
        "colab": {
          "base_uri": "https://localhost:8080/"
        },
        "id": "0G74Qd7YbUxm",
        "outputId": "ad378038-4c34-4edc-e5ed-f6aa45126619"
      },
      "source": [
        "from pyspark.sql.types import IntegerType\n",
        "import pyspark.sql.functions as F\n",
        "\n",
        "string_to_integer_list = ['hospital', 'hospital_type', 'hospital_city','hospital_region','available_extra_rooms_in_hospital',\n",
        "                          'bed_grade','city_code_patient','patient_visitors','admission_deposit']\n",
        "df4 = df3\n",
        "for col in string_to_integer_list:\n",
        "  df4 = df4.withColumn(col, F.col(col).astype(IntegerType()))\n",
        "\n",
        "df4.printSchema()"
      ],
      "execution_count": null,
      "outputs": [
        {
          "output_type": "stream",
          "text": [
            "root\n",
            " |-- case_id: string (nullable = true)\n",
            " |-- hospital: integer (nullable = true)\n",
            " |-- hospital_type: integer (nullable = true)\n",
            " |-- hospital_city: integer (nullable = true)\n",
            " |-- hospital_region: integer (nullable = true)\n",
            " |-- available_extra_rooms_in_hospital: integer (nullable = true)\n",
            " |-- department: string (nullable = true)\n",
            " |-- ward_type: string (nullable = true)\n",
            " |-- ward_facility: string (nullable = true)\n",
            " |-- bed_grade: integer (nullable = true)\n",
            " |-- patient_id: string (nullable = true)\n",
            " |-- city_code_patient: integer (nullable = true)\n",
            " |-- type_of_admission: string (nullable = true)\n",
            " |-- illness_severity: string (nullable = true)\n",
            " |-- patient_visitors: integer (nullable = true)\n",
            " |-- age: string (nullable = true)\n",
            " |-- admission_deposit: integer (nullable = true)\n",
            " |-- stay_days: string (nullable = true)\n",
            "\n"
          ],
          "name": "stdout"
        }
      ]
    },
    {
      "cell_type": "markdown",
      "metadata": {
        "id": "IcmJfmF7rCD_"
      },
      "source": [
        "**Third Level Transformation: Change selected columns from String to Index**\n",
        "\n"
      ]
    },
    {
      "cell_type": "code",
      "metadata": {
        "colab": {
          "base_uri": "https://localhost:8080/"
        },
        "id": "Lt0NDOnNrNwi",
        "outputId": "66bf2387-3e20-4cad-a620-3d5b301cffb9"
      },
      "source": [
        "from pyspark.ml.feature import StringIndexer\n",
        "import pyspark.sql.functions as F\n",
        "\n",
        "string_to_integer_list = ['department','ward_facility', 'ward_type','illness_severity','type_of_admission']\n",
        "\n",
        "def custom_stringindex(df, col):\n",
        "  output = col + \"_index\"\n",
        "  indexer = StringIndexer(inputCol=col, outputCol=output)\n",
        "  indexed = indexer.fit(df).transform(df)\n",
        "  \n",
        "  return indexed\n",
        "\n",
        "\n",
        "df5 = df4\n",
        "for col in string_to_integer_list:\n",
        "  df5 = custom_stringindex(df5, col)\n",
        " \n",
        "df5.printSchema()"
      ],
      "execution_count": null,
      "outputs": [
        {
          "output_type": "stream",
          "text": [
            "root\n",
            " |-- case_id: string (nullable = true)\n",
            " |-- hospital: integer (nullable = true)\n",
            " |-- hospital_type: integer (nullable = true)\n",
            " |-- hospital_city: integer (nullable = true)\n",
            " |-- hospital_region: integer (nullable = true)\n",
            " |-- available_extra_rooms_in_hospital: integer (nullable = true)\n",
            " |-- department: string (nullable = true)\n",
            " |-- ward_type: string (nullable = true)\n",
            " |-- ward_facility: string (nullable = true)\n",
            " |-- bed_grade: integer (nullable = true)\n",
            " |-- patient_id: string (nullable = true)\n",
            " |-- city_code_patient: integer (nullable = true)\n",
            " |-- type_of_admission: string (nullable = true)\n",
            " |-- illness_severity: string (nullable = true)\n",
            " |-- patient_visitors: integer (nullable = true)\n",
            " |-- age: string (nullable = true)\n",
            " |-- admission_deposit: integer (nullable = true)\n",
            " |-- stay_days: string (nullable = true)\n",
            " |-- department_index: double (nullable = false)\n",
            " |-- ward_facility_index: double (nullable = false)\n",
            " |-- ward_type_index: double (nullable = false)\n",
            " |-- illness_severity_index: double (nullable = false)\n",
            " |-- type_of_admission_index: double (nullable = false)\n",
            "\n"
          ],
          "name": "stdout"
        }
      ]
    },
    {
      "cell_type": "markdown",
      "metadata": {
        "id": "rBqGIMAbw9w4"
      },
      "source": [
        "### **3. Data Insight**"
      ]
    },
    {
      "cell_type": "markdown",
      "metadata": {
        "id": "7Dhpd1lt0Myx"
      },
      "source": [
        "**Using Group By**"
      ]
    },
    {
      "cell_type": "code",
      "metadata": {
        "colab": {
          "base_uri": "https://localhost:8080/"
        },
        "id": "aQ7JlE7ivwer",
        "outputId": "aec18197-cce2-4d27-a21b-d2c6c1b94131"
      },
      "source": [
        "from pyspark.sql.functions import col\n",
        "\n",
        "df5.groupBy(\"stay_days\") \\\n",
        "    .count() \\\n",
        "    .orderBy(col(\"count\").desc()) \\\n",
        "    .show()\n",
        "\n",
        "df5.groupBy(\"illness_severity\") \\\n",
        "    .count() \\\n",
        "    .orderBy(col(\"count\").desc()) \\\n",
        "    .show()\n",
        "\n",
        "df5.groupBy(\"ward_type\") \\\n",
        "    .count() \\\n",
        "    .orderBy(col(\"count\").desc()) \\\n",
        "    .show()\n",
        "\n",
        "df5.groupBy(\"ward_facility\") \\\n",
        "    .count() \\\n",
        "    .orderBy(col(\"count\").desc()) \\\n",
        "    .show()\n",
        "\n",
        "df5.groupBy(\"department\") \\\n",
        "    .count() \\\n",
        "    .orderBy(col(\"count\").desc()) \\\n",
        "    .show()\n",
        "\n",
        "df5.groupBy(\"age\") \\\n",
        "    .count() \\\n",
        "    .orderBy(col(\"count\").desc()) \\\n",
        "    .show()"
      ],
      "execution_count": null,
      "outputs": [
        {
          "output_type": "stream",
          "text": [
            "+------------------+-----+\n",
            "|         stay_days|count|\n",
            "+------------------+-----+\n",
            "|             21-30|87491|\n",
            "|             11-20|78139|\n",
            "|             31-40|55159|\n",
            "|             51-60|35018|\n",
            "|              0-10|23604|\n",
            "|             41-50|11743|\n",
            "|             71-80|10254|\n",
            "|More than 100 Days| 6683|\n",
            "|             81-90| 4838|\n",
            "|            91-100| 2765|\n",
            "|             61-70| 2744|\n",
            "+------------------+-----+\n",
            "\n",
            "+----------------+------+\n",
            "|illness_severity| count|\n",
            "+----------------+------+\n",
            "|        Moderate|175843|\n",
            "|           Minor| 85872|\n",
            "|         Extreme| 56723|\n",
            "+----------------+------+\n",
            "\n",
            "+---------+------+\n",
            "|ward_type| count|\n",
            "+---------+------+\n",
            "|        R|127947|\n",
            "|        Q|106165|\n",
            "|        S| 77794|\n",
            "|        P|  5046|\n",
            "|        T|  1477|\n",
            "|        U|     9|\n",
            "+---------+------+\n",
            "\n",
            "+-------------+------+\n",
            "|ward_facility| count|\n",
            "+-------------+------+\n",
            "|            F|112753|\n",
            "|            E| 55351|\n",
            "|            D| 51809|\n",
            "|            C| 35463|\n",
            "|            B| 35156|\n",
            "|            A| 27906|\n",
            "+-------------+------+\n",
            "\n",
            "+------------------+------+\n",
            "|        department| count|\n",
            "+------------------+------+\n",
            "|        gynecology|249486|\n",
            "|        anesthesia| 29649|\n",
            "|      radiotherapy| 28516|\n",
            "|TB & Chest disease|  9586|\n",
            "|           surgery|  1201|\n",
            "+------------------+------+\n",
            "\n",
            "+------+-----+\n",
            "|   age|count|\n",
            "+------+-----+\n",
            "| 41-50|63749|\n",
            "| 31-40|63639|\n",
            "| 51-60|48514|\n",
            "| 21-30|40843|\n",
            "| 71-80|35792|\n",
            "| 61-70|33687|\n",
            "| 11-20|16768|\n",
            "| 81-90| 7890|\n",
            "|  0-10| 6254|\n",
            "|91-100| 1302|\n",
            "+------+-----+\n",
            "\n"
          ],
          "name": "stdout"
        }
      ]
    },
    {
      "cell_type": "markdown",
      "metadata": {
        "id": "iUCqNmHPtiTn"
      },
      "source": [
        "###**4. Machine Learning**"
      ]
    },
    {
      "cell_type": "code",
      "metadata": {
        "id": "Mc8ILw9WvsV3"
      },
      "source": [
        "input_variable = ['hospital', 'hospital_type', 'hospital_city','hospital_region','available_extra_rooms_in_hospital',\n",
        "                  'bed_grade','city_code_patient','patient_visitors','admission_deposit',\n",
        "                  'department_index', 'ward_facility_index', 'ward_type_index', 'illness_severity_index',\n",
        "                  'type_of_admission_index']\n",
        "\n",
        "label = ['stay_days_index']\n",
        "                    "
      ],
      "execution_count": null,
      "outputs": []
    },
    {
      "cell_type": "markdown",
      "metadata": {
        "id": "h6W0FJj8wpOb"
      },
      "source": [
        "**Feature engineering**"
      ]
    },
    {
      "cell_type": "markdown",
      "metadata": {
        "id": "MhZvV-GNwtrU"
      },
      "source": [
        "*Partition training and test sets*"
      ]
    },
    {
      "cell_type": "code",
      "metadata": {
        "colab": {
          "base_uri": "https://localhost:8080/"
        },
        "id": "L1sr-4CLw2vp",
        "outputId": "db898950-905e-41cf-a4fb-f724f7b57521"
      },
      "source": [
        "# set seed for reproducibility\n",
        "(trainingData, testData) = df5.randomSplit([0.8, 0.2], seed = 200000)\n",
        "print(\"Training Dataset Count: \" + str(trainingData.count()))\n",
        "print(\"Test Dataset Count: \" + str(testData.count()))"
      ],
      "execution_count": null,
      "outputs": [
        {
          "output_type": "stream",
          "text": [
            "Training Dataset Count: 254660\n",
            "Test Dataset Count: 63778\n"
          ],
          "name": "stdout"
        }
      ]
    },
    {
      "cell_type": "markdown",
      "metadata": {
        "id": "Al_bU3OyyklX"
      },
      "source": [
        "*Vector Assembler*"
      ]
    },
    {
      "cell_type": "code",
      "metadata": {
        "id": "K583PfvSyruy"
      },
      "source": [
        "from pyspark.ml.feature import VectorAssembler\n",
        "\n",
        "assembler = VectorAssembler(\n",
        "    inputCols=input_variable,\n",
        "    outputCol=\"features\",\n",
        "    handleInvalid =\"skip\")\n",
        "\n",
        "df6 = assembler.transform(df5)\n",
        "\n",
        "\n"
      ],
      "execution_count": null,
      "outputs": []
    },
    {
      "cell_type": "markdown",
      "metadata": {
        "id": "MDreazqHGDWk"
      },
      "source": [
        "Principal Component Analysis(PCA)\n"
      ]
    },
    {
      "cell_type": "code",
      "metadata": {
        "id": "KuKC7RPT-JX8"
      },
      "source": [
        "from pyspark.ml.feature import PCA\n",
        "\n",
        "pca =PCA(k=10, inputCol=\"features\", outputCol=\"pcaFeatures\") \n"
      ],
      "execution_count": null,
      "outputs": []
    },
    {
      "cell_type": "markdown",
      "metadata": {
        "id": "X12Czyv9Ga0a"
      },
      "source": [
        "\n",
        "Standardization\n"
      ]
    },
    {
      "cell_type": "code",
      "metadata": {
        "id": "E2Mo5hVHBL9f"
      },
      "source": [
        "from pyspark.ml.feature import StandardScaler\n",
        "\n",
        "scaler = StandardScaler(inputCol=\"pcaFeatures\", outputCol=\"scaledFeatures\",\n",
        "                        withStd=True, withMean=False)"
      ],
      "execution_count": null,
      "outputs": []
    },
    {
      "cell_type": "markdown",
      "metadata": {
        "id": "GdW5kYjYtbfS"
      },
      "source": [
        "**Decison Tree**"
      ]
    },
    {
      "cell_type": "code",
      "metadata": {
        "id": "jTLOM-FstJpw"
      },
      "source": [
        "from pyspark.ml.feature import IndexToString\n",
        "from pyspark.ml.classification import DecisionTreeClassifier\n",
        "from pyspark.ml import Pipeline\n",
        "\n",
        "labelIndexer = StringIndexer(inputCol=\"stay_days\", outputCol=\"stay_days_index\").fit(df6)\n",
        "# Train a LogisticRegression model.\n",
        "dt = DecisionTreeClassifier(labelCol=\"stay_days_index\", featuresCol=\"scaledFeatures\")\n",
        "\n",
        "# Convert indexed labels back to original labels.\n",
        "labelConverter = IndexToString(inputCol=\"prediction\", outputCol=\"predictedLabel\", labels=labelIndexer.labels)\n"
      ],
      "execution_count": null,
      "outputs": []
    },
    {
      "cell_type": "code",
      "metadata": {
        "id": "7c4yBar7imYv"
      },
      "source": [
        "# Chain indexers and tree in a Pipeline\n",
        "pipeline = Pipeline(stages=[labelIndexer, assembler, pca, scaler, dt, labelConverter])\n"
      ],
      "execution_count": null,
      "outputs": []
    },
    {
      "cell_type": "code",
      "metadata": {
        "id": "kE8ZHRnyiv1D"
      },
      "source": [
        "model = pipeline.fit(trainingData)"
      ],
      "execution_count": null,
      "outputs": []
    },
    {
      "cell_type": "code",
      "metadata": {
        "colab": {
          "base_uri": "https://localhost:8080/"
        },
        "id": "umXM4ZmG7GgI",
        "outputId": "917bb9be-b737-41c0-ac53-fd086bd4b346"
      },
      "source": [
        "predictions_df = model.transform(testData)\n",
        "\n",
        "predictions_df.printSchema()"
      ],
      "execution_count": null,
      "outputs": [
        {
          "output_type": "stream",
          "text": [
            "root\n",
            " |-- case_id: string (nullable = true)\n",
            " |-- hospital: integer (nullable = true)\n",
            " |-- hospital_type: integer (nullable = true)\n",
            " |-- hospital_city: integer (nullable = true)\n",
            " |-- hospital_region: integer (nullable = true)\n",
            " |-- available_extra_rooms_in_hospital: integer (nullable = true)\n",
            " |-- department: string (nullable = true)\n",
            " |-- ward_type: string (nullable = true)\n",
            " |-- ward_facility: string (nullable = true)\n",
            " |-- bed_grade: integer (nullable = true)\n",
            " |-- patient_id: string (nullable = true)\n",
            " |-- city_code_patient: integer (nullable = true)\n",
            " |-- type_of_admission: string (nullable = true)\n",
            " |-- illness_severity: string (nullable = true)\n",
            " |-- patient_visitors: integer (nullable = true)\n",
            " |-- age: string (nullable = true)\n",
            " |-- admission_deposit: integer (nullable = true)\n",
            " |-- stay_days: string (nullable = true)\n",
            " |-- department_index: double (nullable = false)\n",
            " |-- ward_facility_index: double (nullable = false)\n",
            " |-- ward_type_index: double (nullable = false)\n",
            " |-- illness_severity_index: double (nullable = false)\n",
            " |-- type_of_admission_index: double (nullable = false)\n",
            " |-- stay_days_index: double (nullable = false)\n",
            " |-- features: vector (nullable = true)\n",
            " |-- pcaFeatures: vector (nullable = true)\n",
            " |-- scaledFeatures: vector (nullable = true)\n",
            " |-- rawPrediction: vector (nullable = true)\n",
            " |-- probability: vector (nullable = true)\n",
            " |-- prediction: double (nullable = false)\n",
            " |-- predictedLabel: string (nullable = true)\n",
            "\n"
          ],
          "name": "stdout"
        }
      ]
    },
    {
      "cell_type": "code",
      "metadata": {
        "colab": {
          "base_uri": "https://localhost:8080/"
        },
        "id": "mIcDR0yo7ZBO",
        "outputId": "1e073368-d560-4ebd-c71f-50855f2d79d2"
      },
      "source": [
        "# Select example rows to display.\n",
        "predictions_df.select(\"case_id\", \"illness_severity\",\"type_of_admission\", \"stay_days\", \"predictedLabel\" ).show(40)"
      ],
      "execution_count": null,
      "outputs": [
        {
          "output_type": "stream",
          "text": [
            "+-------+----------------+-----------------+------------------+--------------+\n",
            "|case_id|illness_severity|type_of_admission|         stay_days|predictedLabel|\n",
            "+-------+----------------+-----------------+------------------+--------------+\n",
            "|      1|         Extreme|        Emergency|              0-10|         21-30|\n",
            "|    100|        Moderate|           Urgent|             11-20|         11-20|\n",
            "| 100000|        Moderate|           Trauma|             31-40|         11-20|\n",
            "| 100002|        Moderate|           Urgent|             21-30|         21-30|\n",
            "| 100003|        Moderate|           Urgent|             21-30|         11-20|\n",
            "| 100004|         Extreme|           Trauma|             21-30|         21-30|\n",
            "| 100007|         Extreme|        Emergency|             11-20|         11-20|\n",
            "| 100010|           Minor|           Trauma|             21-30|         51-60|\n",
            "| 100022|        Moderate|           Trauma|             11-20|         21-30|\n",
            "| 100026|        Moderate|           Trauma|             21-30|         21-30|\n",
            "| 100034|         Extreme|           Trauma|            91-100|         11-20|\n",
            "| 100036|         Extreme|           Trauma|             41-50|         21-30|\n",
            "| 100037|         Extreme|           Trauma|             21-30|         11-20|\n",
            "| 100040|        Moderate|           Trauma|             21-30|         21-30|\n",
            "| 100041|        Moderate|           Trauma|             11-20|         11-20|\n",
            "| 100043|        Moderate|           Trauma|             11-20|         21-30|\n",
            "| 100044|        Moderate|           Trauma|             21-30|         21-30|\n",
            "| 100058|        Moderate|           Trauma|             51-60|         21-30|\n",
            "| 100060|           Minor|           Trauma|             21-30|         11-20|\n",
            "| 100063|           Minor|           Trauma|             11-20|         11-20|\n",
            "| 100069|        Moderate|           Trauma|             21-30|         11-20|\n",
            "| 100071|        Moderate|           Trauma|             11-20|         21-30|\n",
            "| 100072|         Extreme|           Trauma|             21-30|         21-30|\n",
            "| 100075|         Extreme|        Emergency|             11-20|         21-30|\n",
            "| 100076|        Moderate|           Trauma|             51-60|         51-60|\n",
            "| 100081|        Moderate|           Trauma|More than 100 Days|         51-60|\n",
            "| 100087|         Extreme|        Emergency|              0-10|         11-20|\n",
            "| 100090|         Extreme|           Trauma|             31-40|         51-60|\n",
            "| 100092|        Moderate|        Emergency|              0-10|         21-30|\n",
            "| 100095|        Moderate|        Emergency|             21-30|         21-30|\n",
            "|   1001|         Extreme|        Emergency|             11-20|         21-30|\n",
            "| 100106|        Moderate|        Emergency|              0-10|         11-20|\n",
            "| 100108|        Moderate|        Emergency|              0-10|         11-20|\n",
            "| 100109|        Moderate|           Trauma|             21-30|         11-20|\n",
            "| 100112|           Minor|           Trauma|             11-20|         11-20|\n",
            "| 100119|           Minor|        Emergency|More than 100 Days|         51-60|\n",
            "| 100122|        Moderate|           Trauma|             51-60|         51-60|\n",
            "| 100128|           Minor|        Emergency|              0-10|         11-20|\n",
            "| 100129|        Moderate|        Emergency|             11-20|         21-30|\n",
            "| 100130|        Moderate|           Trauma|             21-30|         21-30|\n",
            "+-------+----------------+-----------------+------------------+--------------+\n",
            "only showing top 40 rows\n",
            "\n"
          ],
          "name": "stdout"
        }
      ]
    },
    {
      "cell_type": "markdown",
      "metadata": {
        "id": "0tvtmPOtllun"
      },
      "source": [
        "**Random Forest**"
      ]
    },
    {
      "cell_type": "code",
      "metadata": {
        "id": "Q8fanjpslluq"
      },
      "source": [
        "from pyspark.ml.feature import IndexToString\n",
        "from pyspark.ml.classification import RandomForestClassifier\n",
        "from pyspark.ml import Pipeline\n",
        "\n",
        "labelIndexer = StringIndexer(inputCol=\"stay_days\", outputCol=\"stay_days_index\").fit(df6)\n",
        "# Train a LogisticRegression model.\n",
        "rf  = RandomForestClassifier(labelCol=\"stay_days_index\", featuresCol=\"scaledFeatures\")\n",
        "\n",
        "# Convert indexed labels back to original labels.\n",
        "labelConverter = IndexToString(inputCol=\"prediction\", outputCol=\"predictedLabel\", labels=labelIndexer.labels)\n"
      ],
      "execution_count": null,
      "outputs": []
    },
    {
      "cell_type": "code",
      "metadata": {
        "id": "kVk2N9FF46Y9"
      },
      "source": [
        "# Chain indexers and tree in a Pipeline\n",
        "pipeline_rf = Pipeline(stages=[labelIndexer, assembler, pca, scaler, rf, labelConverter])"
      ],
      "execution_count": null,
      "outputs": []
    },
    {
      "cell_type": "code",
      "metadata": {
        "id": "2AnelBeV2raM"
      },
      "source": [
        "model_rf = pipeline_rf.fit(trainingData)"
      ],
      "execution_count": null,
      "outputs": []
    },
    {
      "cell_type": "code",
      "metadata": {
        "id": "-jRBUw1Ni6kY"
      },
      "source": [
        "predictions_rf = model_rf.transform(testData)"
      ],
      "execution_count": null,
      "outputs": []
    },
    {
      "cell_type": "markdown",
      "metadata": {
        "id": "gIoMF9eaOa73"
      },
      "source": [
        "**Multiclass Classification Evaluation**"
      ]
    },
    {
      "cell_type": "code",
      "metadata": {
        "id": "P_hLDrQiLD3B"
      },
      "source": [
        "from pyspark.ml.evaluation import MulticlassClassificationEvaluator\n",
        "from pyspark.mllib.evaluation import MulticlassMetrics\n",
        "\n",
        "# Select (prediction, true label) and compute the accuracy and test error\n",
        "def customMulticlassClassificationEvaluator(modelname, predictions):\n",
        "  evaluator = MulticlassClassificationEvaluator(\n",
        "      labelCol=\"stay_days_index\", predictionCol=\"prediction\", metricName=\"accuracy\")\n",
        "  accuracy = evaluator.evaluate(predictions)\n",
        "\n",
        "  evaluator2 = MulticlassClassificationEvaluator(\n",
        "      labelCol=\"stay_days_index\", predictionCol=\"prediction\", metricName=\"weightedRecall\")\n",
        "  weightedRecall = evaluator2.evaluate(predictions)\n",
        "\n",
        "  evaluator3 = MulticlassClassificationEvaluator(\n",
        "      labelCol=\"stay_days_index\", predictionCol=\"prediction\", metricName=\"weightedPrecision\")\n",
        "  weightedPrecision = evaluator3.evaluate(predictions)\n",
        "\n",
        "  evaluator4 = MulticlassClassificationEvaluator(\n",
        "      labelCol=\"stay_days_index\", predictionCol=\"prediction\", metricName=\"weightedTruePositiveRate\")\n",
        "  weightedTruePositiveRate = evaluator4.evaluate(predictions)\n",
        "\n",
        "  evaluator5 = MulticlassClassificationEvaluator(\n",
        "      labelCol=\"stay_days_index\", predictionCol=\"prediction\", metricName=\"truePositiveRateByLabel\")\n",
        "  truePositiveRateByLabel = evaluator5.evaluate(predictions)\n",
        "\n",
        "  evaluator6 = MulticlassClassificationEvaluator(\n",
        "      labelCol=\"stay_days_index\", predictionCol=\"prediction\", metricName=\"falsePositiveRateByLabel\")\n",
        "  falsePositiveRateByLabel = evaluator6.evaluate(predictions)\n",
        "\n",
        "  evaluator7 = MulticlassClassificationEvaluator(\n",
        "      labelCol=\"stay_days_index\", predictionCol=\"prediction\", metricName=\"precisionByLabel\")\n",
        "  precisionByLabel = evaluator7.evaluate(predictions)\n",
        "\n",
        "  evaluator8 = MulticlassClassificationEvaluator(\n",
        "      labelCol=\"stay_days_index\", predictionCol=\"prediction\", metricName=\"weightedFMeasure\")\n",
        "  weightedFMeasure = evaluator8.evaluate(predictions)\n",
        "\n",
        "  evaluator9 = MulticlassClassificationEvaluator(\n",
        "      labelCol=\"stay_days_index\", predictionCol=\"prediction\", metricName=\"fMeasureByLabel\")\n",
        "  fMeasureByLabel = evaluator9.evaluate(predictions)\n",
        "\n",
        "  evaluator10 = MulticlassClassificationEvaluator(\n",
        "      labelCol=\"stay_days_index\", predictionCol=\"prediction\", metricName=\"recallByLabel\")\n",
        "  recallByLabel = evaluator10.evaluate(predictions)\n",
        "\n",
        "  evaluator11 = MulticlassClassificationEvaluator(\n",
        "      labelCol=\"stay_days_index\", predictionCol=\"prediction\", metricName=\"logLoss\")\n",
        "  logLoss = evaluator11.evaluate(predictions)\n",
        "\n",
        "  evaluator12 = MulticlassClassificationEvaluator(\n",
        "      labelCol=\"stay_days_index\", predictionCol=\"prediction\", metricName=\"hammingLoss\")\n",
        "  hammingLoss = evaluator12.evaluate(predictions)\n",
        "\n",
        "\n",
        "  evaluator13 = MulticlassClassificationEvaluator(\n",
        "      labelCol=\"stay_days_index\", predictionCol=\"prediction\", metricName=\"f1\")\n",
        "  f1 = evaluator13.evaluate(predictions)\n",
        "\n",
        "\n",
        "  print(f'Model name: {modelname}')\n",
        "  print(\"\\tAccuracy = %g \" %(accuracy))\n",
        "  print(\"\\tF1 = %g \" %(f1))\n",
        "  print(\"\\tTest Error = %g \" %(1.0 - accuracy))\n",
        "  print(\"\\tTrue Positive Rate By Label = %g \" %(truePositiveRateByLabel)) \n",
        "  print(\"\\tFalse Positive Rate By Label = %g \" %(falsePositiveRateByLabel)) \n",
        "  print(\"\\tPrecision By Label = %g \" %(precisionByLabel))\n",
        "  print(\"\\tRecall By Label = %g \" %(recallByLabel))\n",
        "  print(\"\\tFMeasure By Label = %g \" %(fMeasureByLabel))\n",
        "  print(\"\\tWeighted Recall = %g \" %(weightedRecall))\n",
        "  print(\"\\tWeighted Precision = %g \" %(weightedPrecision))\n",
        "  print(\"\\tWeighted True Positive Rate = %g \" %(weightedTruePositiveRate))  \n",
        "  print(\"\\tWeighted FMeasure = %g \" %(weightedFMeasure))\n",
        "  print(\"\\tLog Loss = %g \" %(logLoss))\n",
        "  print(\"\\tHamming Loss = %g \" %(hammingLoss))\n",
        "\n"
      ],
      "execution_count": null,
      "outputs": []
    },
    {
      "cell_type": "code",
      "metadata": {
        "colab": {
          "base_uri": "https://localhost:8080/"
        },
        "id": "WaX-BRBPjAHD",
        "outputId": "5d0c013f-4041-4c00-8fc4-9c167ae3cbb6"
      },
      "source": [
        "# MulticlassClassification Evaluation for DecisionTree Classifier\n",
        "customMulticlassClassificationEvaluator(\"DecisionTreeClassifier\", predictions_df)"
      ],
      "execution_count": null,
      "outputs": [
        {
          "output_type": "stream",
          "text": [
            "Model name: DecisionTreeClassifier\n",
            "\tAccuracy = 0.356036 \n",
            "\tF1 = 0.311254 \n",
            "\tTest Error = 0.643964 \n",
            "\tTrue Positive Rate By Label = 0.537581 \n",
            "\tFalse Positive Rate By Label = 0.353002 \n",
            "\tPrecision By Label = 0.368133 \n",
            "\tRecall By Label = 0.537581 \n",
            "\tFMeasure By Label = 0.437006 \n",
            "\tWeighted Recall = 0.356036 \n",
            "\tWeighted Precision = 0.289373 \n",
            "\tWeighted True Positive Rate = 0.356036 \n",
            "\tWeighted FMeasure = 0.311254 \n",
            "\tLog Loss = 1.6964 \n",
            "\tHamming Loss = 0.643964 \n"
          ],
          "name": "stdout"
        }
      ]
    },
    {
      "cell_type": "code",
      "metadata": {
        "colab": {
          "base_uri": "https://localhost:8080/"
        },
        "id": "ljnZtpHxjBwX",
        "outputId": "c1a70e85-66de-40ef-ecca-21a78e9c809e"
      },
      "source": [
        "# MulticlassClassification Evaluation for RandomForest Classifier\n",
        "customMulticlassClassificationEvaluator(\"RandomForest\", predictions_rf)"
      ],
      "execution_count": null,
      "outputs": [
        {
          "output_type": "stream",
          "text": [
            "Model name: RandomForest\n",
            "\tAccuracy = 0.364247 \n",
            "\tF1 = 0.312935 \n",
            "\tTest Error = 0.635753 \n",
            "\tTrue Positive Rate By Label = 0.602737 \n",
            "\tFalse Positive Rate By Label = 0.378567 \n",
            "\tPrecision By Label = 0.378539 \n",
            "\tRecall By Label = 0.602737 \n",
            "\tFMeasure By Label = 0.465027 \n",
            "\tWeighted Recall = 0.364247 \n",
            "\tWeighted Precision = 0.296993 \n",
            "\tWeighted True Positive Rate = 0.364247 \n",
            "\tWeighted FMeasure = 0.312935 \n",
            "\tLog Loss = 1.69166 \n",
            "\tHamming Loss = 0.635753 \n"
          ],
          "name": "stdout"
        }
      ]
    },
    {
      "cell_type": "markdown",
      "metadata": {
        "id": "EvPvsNBLQadc"
      },
      "source": [
        "**Observation:** Possible case of overfitting. Investigate root cause.\n",
        "\n",
        "**Proposed solution:** Improve the model accuracy by applying Synthetic Minority Oversampling Technique(SMOTE) to address the problem of imbalance dataset\n",
        "\n",
        "\n",
        "\n",
        "***TO BE CONTINUED...***\n",
        "\n"
      ]
    }
  ]
}