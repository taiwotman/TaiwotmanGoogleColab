{
  "nbformat": 4,
  "nbformat_minor": 0,
  "metadata": {
    "colab": {
      "name": "COVID HOSPITAL TREATMENT: Predicting Patient's Length of Stay(LOS) using Kaggle Data",
      "provenance": [],
      "collapsed_sections": [],
      "toc_visible": true,
      "mount_file_id": "1wAq-QKbVWDxrZSokGnSCuNC1xs3rk_0S",
      "authorship_tag": "ABX9TyMWxJXgbn9KlTu1Uau3lwAE",
      "include_colab_link": true
    },
    "kernelspec": {
      "name": "python3",
      "display_name": "Python 3"
    }
  },
  "cells": [
    {
      "cell_type": "markdown",
      "metadata": {
        "id": "view-in-github",
        "colab_type": "text"
      },
      "source": [
        "<a href=\"https://colab.research.google.com/github/taiwotman/TaiwotmanGoogleColab/blob/main/COVID_HOSPITAL_TREATMENT_Predicting_Patient's_Length_of_Stay(LOS)_using_Kaggle_Data.ipynb\" target=\"_parent\"><img src=\"https://colab.research.google.com/assets/colab-badge.svg\" alt=\"Open In Colab\"/></a>"
      ]
    },
    {
      "cell_type": "markdown",
      "metadata": {
        "id": "uUxJ0TdeqdTJ"
      },
      "source": [
        "## **Multi-Class Classification of COVID-19 Patients based on Length of Stay**"
      ]
    },
    {
      "cell_type": "markdown",
      "metadata": {
        "id": "7TAj51jFn_-z"
      },
      "source": [
        "***Description***: **[COVID HOSPITAL TREATMENT](https://www.kaggle.com/arashnic/covid19-hospital-treatment)**\n",
        "\n",
        "Kaggle dataset available for download: [data](https://www.kaggle.com/arashnic/covid19-hospital-treatment/download)\n",
        "\n",
        "\n",
        "\n",
        "***Authored by:*** Taiwo O. Adetiloye | [Website](https://taiwotman.github.io)\n",
        "\n",
        "***Date:*** March 15, 2021\n",
        "\n",
        "---\n",
        "\n",
        "\n"
      ]
    },
    {
      "cell_type": "markdown",
      "metadata": {
        "id": "YJXgl_0iqPq4"
      },
      "source": [
        "### **1. SET UP**"
      ]
    },
    {
      "cell_type": "markdown",
      "metadata": {
        "id": "pRvqT1spUfIJ"
      },
      "source": [
        "**Mount content from Google Drive**\n"
      ]
    },
    {
      "cell_type": "code",
      "metadata": {
        "colab": {
          "base_uri": "https://localhost:8080/"
        },
        "id": "TsKj0QruWGpn",
        "outputId": "89997c6c-6daf-42d5-fa75-b8462ad38001"
      },
      "source": [
        "from google.colab import drive\n",
        "drive.mount('/content/drive')\n"
      ],
      "execution_count": 14,
      "outputs": [
        {
          "output_type": "stream",
          "text": [
            "Drive already mounted at /content/drive; to attempt to forcibly remount, call drive.mount(\"/content/drive\", force_remount=True).\n"
          ],
          "name": "stdout"
        }
      ]
    },
    {
      "cell_type": "markdown",
      "metadata": {
        "id": "159mQnlapRTV"
      },
      "source": [
        "**Install Java 8**"
      ]
    },
    {
      "cell_type": "code",
      "metadata": {
        "id": "uokR5JVBYM8g"
      },
      "source": [
        "!apt-get install openjdk-8-jdk-headless -qq > /dev/null"
      ],
      "execution_count": 15,
      "outputs": []
    },
    {
      "cell_type": "markdown",
      "metadata": {
        "id": "-N-VRSYZpi91"
      },
      "source": [
        "**Install pyspark libraries**"
      ]
    },
    {
      "cell_type": "code",
      "metadata": {
        "id": "VRdIhnUCYPbJ",
        "colab": {
          "base_uri": "https://localhost:8080/"
        },
        "outputId": "c1cf0fa7-047e-4219-8016-353ed8f56baf"
      },
      "source": [
        "!pip install -q findspark\n",
        "!pip install pyspark\n",
        "!pip install matplotlib\n"
      ],
      "execution_count": 16,
      "outputs": [
        {
          "output_type": "stream",
          "text": [
            "Requirement already satisfied: pyspark in /usr/local/lib/python3.7/dist-packages (3.1.1)\n",
            "Requirement already satisfied: py4j==0.10.9 in /usr/local/lib/python3.7/dist-packages (from pyspark) (0.10.9)\n",
            "Requirement already satisfied: matplotlib in /usr/local/lib/python3.7/dist-packages (3.2.2)\n",
            "Requirement already satisfied: python-dateutil>=2.1 in /usr/local/lib/python3.7/dist-packages (from matplotlib) (2.8.1)\n",
            "Requirement already satisfied: kiwisolver>=1.0.1 in /usr/local/lib/python3.7/dist-packages (from matplotlib) (1.3.1)\n",
            "Requirement already satisfied: numpy>=1.11 in /usr/local/lib/python3.7/dist-packages (from matplotlib) (1.19.5)\n",
            "Requirement already satisfied: cycler>=0.10 in /usr/local/lib/python3.7/dist-packages (from matplotlib) (0.10.0)\n",
            "Requirement already satisfied: pyparsing!=2.0.4,!=2.1.2,!=2.1.6,>=2.0.1 in /usr/local/lib/python3.7/dist-packages (from matplotlib) (2.4.7)\n",
            "Requirement already satisfied: six>=1.5 in /usr/local/lib/python3.7/dist-packages (from python-dateutil>=2.1->matplotlib) (1.15.0)\n"
          ],
          "name": "stdout"
        }
      ]
    },
    {
      "cell_type": "markdown",
      "metadata": {
        "id": "HNvqk9-CptIV"
      },
      "source": [
        "**Set JAVA_HOME and SPARK_HOME**"
      ]
    },
    {
      "cell_type": "code",
      "metadata": {
        "id": "BuakdVqeXCyE"
      },
      "source": [
        "import os\n",
        "os.environ[\"JAVA_HOME\"] = \"/usr/lib/jvm/java-8-openjdk-amd64\"\n",
        "os.environ[\"SPARK_HOME\"] = \"/usr/local/lib/python3.7/dist-packages/pyspark\"\n"
      ],
      "execution_count": 17,
      "outputs": []
    },
    {
      "cell_type": "markdown",
      "metadata": {
        "id": "Vh54uX-sp3Vj"
      },
      "source": [
        "**Ensure spark is set up and running.**\n"
      ]
    },
    {
      "cell_type": "code",
      "metadata": {
        "colab": {
          "base_uri": "https://localhost:8080/",
          "height": 35
        },
        "id": "OXbtvVTvgQW7",
        "outputId": "12238e65-7fe9-401b-8102-71e8ede26bd7"
      },
      "source": [
        "import findspark \n",
        "findspark.find()"
      ],
      "execution_count": 18,
      "outputs": [
        {
          "output_type": "execute_result",
          "data": {
            "application/vnd.google.colaboratory.intrinsic+json": {
              "type": "string"
            },
            "text/plain": [
              "'/usr/local/lib/python3.7/dist-packages/pyspark'"
            ]
          },
          "metadata": {
            "tags": []
          },
          "execution_count": 18
        }
      ]
    },
    {
      "cell_type": "code",
      "metadata": {
        "id": "UdY-CWvCXEmQ"
      },
      "source": [
        "\n",
        "from pyspark.sql import SparkSession\n",
        "\n",
        "spark = SparkSession.builder.master('local')\\\n",
        ".appName(\"Predicting LOS for High Risk Patient\")\\\n",
        ".getOrCreate()"
      ],
      "execution_count": 19,
      "outputs": []
    },
    {
      "cell_type": "code",
      "metadata": {
        "colab": {
          "base_uri": "https://localhost:8080/",
          "height": 218
        },
        "id": "IyWFnKUtf7d0",
        "outputId": "08fd6769-9d12-477a-f2aa-58496420d452"
      },
      "source": [
        "spark"
      ],
      "execution_count": 20,
      "outputs": [
        {
          "output_type": "execute_result",
          "data": {
            "text/html": [
              "\n",
              "            <div>\n",
              "                <p><b>SparkSession - in-memory</b></p>\n",
              "                \n",
              "        <div>\n",
              "            <p><b>SparkContext</b></p>\n",
              "\n",
              "            <p><a href=\"http://6e26e7565b9f:4040\">Spark UI</a></p>\n",
              "\n",
              "            <dl>\n",
              "              <dt>Version</dt>\n",
              "                <dd><code>v3.1.1</code></dd>\n",
              "              <dt>Master</dt>\n",
              "                <dd><code>local</code></dd>\n",
              "              <dt>AppName</dt>\n",
              "                <dd><code>Predicting LOS for High Risk Patient</code></dd>\n",
              "            </dl>\n",
              "        </div>\n",
              "        \n",
              "            </div>\n",
              "        "
            ],
            "text/plain": [
              "<pyspark.sql.session.SparkSession at 0x7f38b9346ad0>"
            ]
          },
          "metadata": {
            "tags": []
          },
          "execution_count": 20
        }
      ]
    },
    {
      "cell_type": "markdown",
      "metadata": {
        "id": "uhZktJMQqCif"
      },
      "source": [
        "**Read file from the mounted drive to spark dataframe**"
      ]
    },
    {
      "cell_type": "code",
      "metadata": {
        "id": "zyDaR2-_gjbI"
      },
      "source": [
        "filepath = \"/content/drive/MyDrive/Colab Notebooks/data/host_train.csv\" # Change this to your data filepath\n",
        "\n",
        "df  = spark.read.option(\"header\", \"true\").csv(filepath)\n"
      ],
      "execution_count": 21,
      "outputs": []
    },
    {
      "cell_type": "markdown",
      "metadata": {
        "id": "V9kIQjI0qVEt"
      },
      "source": [
        "### **2. Data Preparation**\n"
      ]
    },
    {
      "cell_type": "code",
      "metadata": {
        "colab": {
          "base_uri": "https://localhost:8080/"
        },
        "id": "-Wy2E0bLhSi5",
        "outputId": "3a5cafed-4208-46e2-be3c-3f11c5e8cef6"
      },
      "source": [
        "df.printSchema()"
      ],
      "execution_count": 22,
      "outputs": [
        {
          "output_type": "stream",
          "text": [
            "root\n",
            " |-- case_id: string (nullable = true)\n",
            " |-- Hospital: string (nullable = true)\n",
            " |-- Hospital_type: string (nullable = true)\n",
            " |-- Hospital_city: string (nullable = true)\n",
            " |-- Hospital_region: string (nullable = true)\n",
            " |-- Available_Extra_Rooms_in_Hospital: string (nullable = true)\n",
            " |-- Department: string (nullable = true)\n",
            " |-- Ward_Type: string (nullable = true)\n",
            " |-- Ward_Facility: string (nullable = true)\n",
            " |-- Bed_Grade: string (nullable = true)\n",
            " |-- patientid: string (nullable = true)\n",
            " |-- City_Code_Patient: string (nullable = true)\n",
            " |-- Type of Admission: string (nullable = true)\n",
            " |-- Illness_Severity: string (nullable = true)\n",
            " |-- Patient_Visitors: string (nullable = true)\n",
            " |-- Age: string (nullable = true)\n",
            " |-- Admission_Deposit: string (nullable = true)\n",
            " |-- Stay_Days: string (nullable = true)\n",
            "\n"
          ],
          "name": "stdout"
        }
      ]
    },
    {
      "cell_type": "code",
      "metadata": {
        "colab": {
          "base_uri": "https://localhost:8080/"
        },
        "id": "I8Pv9OcshUnw",
        "outputId": "2992622b-b96e-44ea-9f97-f52332b63be5"
      },
      "source": [
        "print(f\"Counts of rows/samples: {df.count()}\")\n",
        "print(f\"Counts of columns/features: {len(df.columns)}\")"
      ],
      "execution_count": 23,
      "outputs": [
        {
          "output_type": "stream",
          "text": [
            "Counts of rows/samples: 318438\n",
            "Counts of columns/features: 18\n"
          ],
          "name": "stdout"
        }
      ]
    },
    {
      "cell_type": "code",
      "metadata": {
        "colab": {
          "base_uri": "https://localhost:8080/"
        },
        "id": "u9Ejddl0hYVC",
        "outputId": "8f06c4d0-8175-491a-ff51-3a3ccb80c74f"
      },
      "source": [
        "df.show(100)"
      ],
      "execution_count": 24,
      "outputs": [
        {
          "output_type": "stream",
          "text": [
            "+-------+--------+-------------+-------------+---------------+---------------------------------+------------------+---------+-------------+---------+---------+-----------------+-----------------+----------------+----------------+-----+-----------------+------------------+\n",
            "|case_id|Hospital|Hospital_type|Hospital_city|Hospital_region|Available_Extra_Rooms_in_Hospital|        Department|Ward_Type|Ward_Facility|Bed_Grade|patientid|City_Code_Patient|Type of Admission|Illness_Severity|Patient_Visitors|  Age|Admission_Deposit|         Stay_Days|\n",
            "+-------+--------+-------------+-------------+---------------+---------------------------------+------------------+---------+-------------+---------+---------+-----------------+-----------------+----------------+----------------+-----+-----------------+------------------+\n",
            "|      1|       8|            2|            3|              2|                                3|      radiotherapy|        R|            F|      2.0|    31397|              7.0|        Emergency|         Extreme|               2|51-60|           4911.0|              0-10|\n",
            "|      2|       2|            2|            5|              2|                                2|      radiotherapy|        S|            F|      2.0|    31397|              7.0|           Trauma|         Extreme|               2|51-60|           5954.0|             41-50|\n",
            "|      3|      10|            4|            1|              0|                                2|        anesthesia|        S|            E|      2.0|    31397|              7.0|           Trauma|         Extreme|               2|51-60|           4745.0|             31-40|\n",
            "|      4|      26|            1|            2|              1|                                2|      radiotherapy|        R|            D|      2.0|    31397|              7.0|           Trauma|         Extreme|               2|51-60|           7272.0|             41-50|\n",
            "|      5|      26|            1|            2|              1|                                2|      radiotherapy|        S|            D|      2.0|    31397|              7.0|           Trauma|         Extreme|               2|51-60|           5558.0|             41-50|\n",
            "|      6|      23|            0|            6|              0|                                2|        anesthesia|        S|            F|      2.0|    31397|              7.0|           Trauma|         Extreme|               2|51-60|           4449.0|             11-20|\n",
            "|      7|      32|            5|            9|              1|                                1|      radiotherapy|        S|            B|      3.0|    31397|              7.0|        Emergency|         Extreme|               2|51-60|           6167.0|              0-10|\n",
            "|      8|      23|            0|            6|              0|                                4|      radiotherapy|        Q|            F|      3.0|    31397|              7.0|           Trauma|         Extreme|               2|51-60|           5571.0|             41-50|\n",
            "|      9|       1|            3|           10|              1|                                2|        gynecology|        R|            B|      4.0|    31397|              7.0|           Trauma|         Extreme|               2|51-60|           7223.0|             51-60|\n",
            "|     10|      10|            4|            1|              0|                                2|        gynecology|        S|            E|      3.0|    31397|              7.0|           Trauma|         Extreme|               2|51-60|           6056.0|             31-40|\n",
            "|     11|      22|            6|            9|              1|                                2|      radiotherapy|        S|            B|      2.0|    31397|              7.0|           Urgent|         Extreme|               2|51-60|           5797.0|             21-30|\n",
            "|     12|      26|            1|            2|              1|                                4|      radiotherapy|        R|            D|      1.0|    31397|              7.0|           Urgent|         Extreme|               2|51-60|           5993.0|             11-20|\n",
            "|     13|      16|            2|            3|              2|                                2|      radiotherapy|        R|            A|      3.0|    31397|              7.0|        Emergency|         Extreme|               2|51-60|           5141.0|              0-10|\n",
            "|     14|       9|            3|            5|              2|                                3|      radiotherapy|        S|            F|      3.0|    31397|              7.0|           Urgent|         Extreme|               2|51-60|           8477.0|             21-30|\n",
            "|     15|       6|            0|            6|              0|                                4|        gynecology|        Q|            F|      3.0|    63418|              8.0|        Emergency|         Extreme|               2|71-80|           2685.0|              0-10|\n",
            "|     16|       6|            0|            6|              0|                                3|        gynecology|        Q|            F|      3.0|    63418|              8.0|        Emergency|         Extreme|               2|71-80|           9398.0|              0-10|\n",
            "|     17|      23|            0|            6|              0|                                4|      radiotherapy|        Q|            F|      3.0|    63418|              8.0|           Urgent|         Extreme|               4|71-80|           2933.0|              0-10|\n",
            "|     18|      29|            0|            4|              0|                                4|        anesthesia|        S|            F|      3.0|    63418|              8.0|        Emergency|         Extreme|               2|71-80|           5342.0|             11-20|\n",
            "|     19|      32|            5|            9|              1|                                4|      radiotherapy|        S|            B|      2.0|    63418|              8.0|           Trauma|         Extreme|               2|71-80|           7442.0|             21-30|\n",
            "|     20|      12|            0|            9|              1|                                4|      radiotherapy|        Q|            B|      2.0|    63418|              8.0|           Trauma|         Extreme|               2|71-80|           5155.0|             31-40|\n",
            "|     21|      16|            2|            3|              2|                                2|        anesthesia|        S|            A|      3.0|    63418|              8.0|           Trauma|         Extreme|               2|71-80|           8181.0|             31-40|\n",
            "|     22|       3|            2|            3|              2|                                2|        anesthesia|        R|            A|      3.0|    63418|              8.0|           Trauma|         Extreme|               2|71-80|           6672.0|             21-30|\n",
            "|     23|      21|            2|            3|              2|                                2|        anesthesia|        S|            A|      3.0|    63418|              8.0|           Trauma|         Extreme|               2|71-80|           6364.0|             11-20|\n",
            "|     24|       6|            0|            6|              0|                                3|        anesthesia|        R|            F|      3.0|    63418|              8.0|           Urgent|         Extreme|               2|71-80|           4664.0|             21-30|\n",
            "|     25|      26|            1|            2|              1|                                4|      radiotherapy|        Q|            D|      1.0|    63418|              8.0|           Trauma|         Extreme|               4|71-80|           4091.0|             31-40|\n",
            "|     26|      28|            1|           11|              0|                                4|        gynecology|        R|            F|      2.0|     8088|              2.0|        Emergency|        Moderate|               2|31-40|           2405.0|             11-20|\n",
            "|     27|      26|            1|            2|              1|                                4|        anesthesia|        Q|            D|      3.0|     8088|              2.0|           Trauma|        Moderate|               2|31-40|           5164.0|             11-20|\n",
            "|     28|      26|            1|            2|              1|                                4|        gynecology|        R|            D|      3.0|     8088|              2.0|           Trauma|        Moderate|               2|31-40|           5055.0|             21-30|\n",
            "|     29|       6|            0|            6|              0|                                4|        gynecology|        Q|            F|      2.0|     8088|              2.0|           Trauma|        Moderate|               4|31-40|           3339.0|             31-40|\n",
            "|     30|      27|            0|            7|              1|                                4|        gynecology|        R|            C|      2.0|     8088|              2.0|           Trauma|        Moderate|               2|31-40|           5757.0|             21-30|\n",
            "|     31|      27|            0|            7|              1|                                3|        gynecology|        R|            C|      3.0|     8088|              2.0|           Urgent|        Moderate|               4|31-40|           4515.0|             51-60|\n",
            "|     32|      19|            0|            7|              1|                                2|        gynecology|        R|            C|      2.0|    28843|              8.0|        Emergency|        Moderate|               2|41-50|           4201.0|              0-10|\n",
            "|     33|      26|            1|            2|              1|                                2|        gynecology|        R|            D|      1.0|    28843|              8.0|           Trauma|        Moderate|               2|41-50|           3822.0|             31-40|\n",
            "|     34|       5|            0|            1|              0|                                4|        gynecology|        R|            E|      2.0|   109338|              5.0|        Emergency|        Moderate|               3|31-40|           4274.0|             11-20|\n",
            "|     35|       5|            0|            1|              0|                                3|        gynecology|        R|            E|      2.0|   109338|              5.0|        Emergency|        Moderate|               3|31-40|           5587.0|             11-20|\n",
            "|     36|      10|            4|            1|              0|                                3|        gynecology|        Q|            E|      2.0|   109338|              5.0|        Emergency|        Moderate|               2|31-40|           3088.0|              0-10|\n",
            "|     37|      26|            1|            2|              1|                                3|        gynecology|        S|            D|      3.0|   115513|              7.0|        Emergency|           Minor|               8|71-80|           4110.0|             21-30|\n",
            "|     38|      12|            0|            9|              1|                                2|      radiotherapy|        S|            B|      2.0|   115513|              7.0|        Emergency|           Minor|               4|71-80|           4531.0|             31-40|\n",
            "|     39|      32|            5|            9|              1|                                2|      radiotherapy|        S|            B|      3.0|   115513|              7.0|        Emergency|           Minor|               2|71-80|           4971.0|             11-20|\n",
            "|     40|      19|            0|            7|              1|                                2|      radiotherapy|        S|            C|      3.0|   115513|              7.0|        Emergency|           Minor|               4|71-80|           4718.0|             71-80|\n",
            "|     41|      26|            1|            2|              1|                                1|      radiotherapy|        S|            D|      3.0|   115513|              7.0|        Emergency|           Minor|               2|71-80|           3650.0|              0-10|\n",
            "|     42|      27|            0|            7|              1|                                2|      radiotherapy|        S|            C|      3.0|    84932|              8.0|        Emergency|        Moderate|               2|31-40|           5038.0|              0-10|\n",
            "|     43|      26|            1|            2|              1|                                4|        gynecology|        R|            D|      2.0|    84932|              8.0|        Emergency|        Moderate|               3|31-40|           3357.0|             41-50|\n",
            "|     44|      19|            0|            7|              1|                                6|        gynecology|        Q|            C|      2.0|    84932|              8.0|        Emergency|        Moderate|               3|31-40|           4353.0|             51-60|\n",
            "|     45|      21|            2|            3|              2|                                2|        gynecology|        S|            A|      2.0|    84932|              8.0|        Emergency|        Moderate|               3|31-40|           5152.0|             51-60|\n",
            "|     46|      19|            0|            7|              1|                                3|        gynecology|        S|            C|      3.0|    84932|              8.0|        Emergency|        Moderate|               6|31-40|           4046.0|More than 100 Days|\n",
            "|     47|      26|            1|            2|              1|                                2|TB & Chest disease|        S|            D|      3.0|    44201|              2.0|        Emergency|         Extreme|               2|51-60|           7606.0|              0-10|\n",
            "|     48|       6|            0|            6|              0|                                2|        gynecology|        R|            F|      3.0|    44201|              2.0|        Emergency|         Extreme|               4|51-60|           6204.0|             51-60|\n",
            "|     49|      23|            0|            6|              0|                                2|TB & Chest disease|        R|            F|      3.0|    44201|              2.0|        Emergency|         Extreme|               2|51-60|           4638.0|             11-20|\n",
            "|     50|      23|            0|            6|              0|                                2|TB & Chest disease|        R|            F|      1.0|    44201|              2.0|        Emergency|         Extreme|               4|51-60|           5327.0|             51-60|\n",
            "|     51|      14|            0|            1|              0|                                2|      radiotherapy|        S|            E|      2.0|    33340|              2.0|           Urgent|        Moderate|               3|31-40|           3945.0|             11-20|\n",
            "|     52|      28|            1|           11|              0|                                4|      radiotherapy|        R|            F|      4.0|    33340|              2.0|        Emergency|        Moderate|               2|31-40|           4253.0|              0-10|\n",
            "|     53|      26|            1|            2|              1|                                5|      radiotherapy|        Q|            D|      2.0|    33340|              2.0|        Emergency|        Moderate|               2|31-40|           4221.0|             21-30|\n",
            "|     54|      13|            0|            5|              2|                                2|      radiotherapy|        R|            F|      4.0|    33340|              2.0|        Emergency|        Moderate|               2|31-40|           4910.0|             21-30|\n",
            "|     55|       9|            3|            5|              2|                                2|      radiotherapy|        R|            F|      4.0|    33340|              2.0|        Emergency|        Moderate|               2|31-40|           4628.0|             11-20|\n",
            "|     56|       8|            2|            3|              2|                                2|      radiotherapy|        R|            F|      4.0|    33340|              2.0|        Emergency|        Moderate|               2|31-40|           5130.0|             21-30|\n",
            "|     57|      28|            1|           11|              0|                                4|      radiotherapy|        R|            F|      2.0|    33340|              2.0|           Trauma|        Moderate|               3|31-40|           3749.0|             21-30|\n",
            "|     58|       6|            0|            6|              0|                                4|      radiotherapy|        Q|            F|      2.0|    33340|              2.0|           Urgent|        Moderate|               2|31-40|           4066.0|             21-30|\n",
            "|     59|       6|            0|            6|              0|                                4|        anesthesia|        R|            F|      4.0|    33340|              2.0|        Emergency|        Moderate|               6|31-40|           5764.0|             31-40|\n",
            "|     60|      28|            1|           11|              0|                                2|      radiotherapy|        R|            F|      4.0|    33340|              2.0|           Trauma|        Moderate|               2|31-40|           3889.0|             11-20|\n",
            "|     61|      31|            2|            3|              2|                                4|        gynecology|        R|            A|      2.0|    83512|              6.0|        Emergency|        Moderate|               2|81-90|           3475.0|              0-10|\n",
            "|     62|      31|            2|            3|              2|                                2|        gynecology|        S|            A|      3.0|    83512|              6.0|        Emergency|        Moderate|               2|81-90|           5429.0|             11-20|\n",
            "|     63|      31|            2|            3|              2|                                2|        gynecology|        R|            A|      3.0|    83512|              6.0|        Emergency|        Moderate|               4|81-90|           4182.0|             51-60|\n",
            "|     64|      31|            2|            3|              2|                                3|        gynecology|        R|            A|      2.0|    83512|              6.0|        Emergency|        Moderate|               2|81-90|           5057.0|             21-30|\n",
            "|     65|      14|            0|            1|              0|                                2|        gynecology|        R|            E|      4.0|    83512|              6.0|        Emergency|        Moderate|               2|81-90|           5792.0|             21-30|\n",
            "|     66|      24|            0|            1|              0|                                2|        gynecology|        R|            E|      4.0|    83512|              6.0|        Emergency|        Moderate|               2|81-90|           5516.0|             11-20|\n",
            "|     67|      17|            4|            1|              0|                                2|        gynecology|        R|            E|      4.0|    83512|              6.0|        Emergency|        Moderate|               2|81-90|           5304.0|              0-10|\n",
            "|     68|      25|            4|            1|              0|                                2|        gynecology|        Q|            E|      4.0|    83512|              6.0|        Emergency|        Moderate|               2|81-90|           5598.0|             11-20|\n",
            "|     69|      10|            4|            1|              0|                                2|        gynecology|        Q|            E|      4.0|    83512|              6.0|        Emergency|        Moderate|               2|81-90|           5082.0|             11-20|\n",
            "|     70|      31|            2|            3|              2|                                7|        gynecology|        R|            A|      2.0|    83512|              6.0|        Emergency|        Moderate|               4|81-90|           3611.0|             21-30|\n",
            "|     71|      31|            2|            3|              2|                                4|        gynecology|        S|            A|      2.0|    83512|              6.0|        Emergency|        Moderate|               2|81-90|           5064.0|              0-10|\n",
            "|     72|      13|            0|            5|              2|                                4|        gynecology|        R|            F|      4.0|    83512|              6.0|        Emergency|        Moderate|               3|81-90|           7057.0|             21-30|\n",
            "|     73|      13|            0|            5|              2|                                4|        gynecology|        R|            F|      4.0|    83512|              6.0|        Emergency|        Moderate|               3|81-90|           5675.0|              0-10|\n",
            "|     74|      19|            0|            7|              1|                                3|        gynecology|        Q|            C|      2.0|    64869|              3.0|        Emergency|        Moderate|               2|61-70|           4311.0|             11-20|\n",
            "|     75|      12|            0|            9|              1|                                2|        gynecology|        S|            B|      2.0|    64869|              3.0|           Trauma|        Moderate|               2|61-70|           5084.0|             11-20|\n",
            "|     76|      32|            5|            9|              1|                                2|        gynecology|        S|            B|      2.0|    64869|              3.0|           Trauma|        Moderate|               2|61-70|           5508.0|             21-30|\n",
            "|     77|      14|            0|            1|              0|                                2|        anesthesia|        S|            E|      4.0|    64869|              3.0|           Trauma|        Moderate|               4|61-70|           4204.0|             71-80|\n",
            "|     78|      24|            0|            1|              0|                                2|        anesthesia|        R|            E|      4.0|    64869|              3.0|           Trauma|        Moderate|               4|61-70|           6694.0|             41-50|\n",
            "|     79|      24|            0|            1|              0|                                2|        anesthesia|        R|            E|      4.0|    64869|              3.0|           Trauma|        Moderate|               4|61-70|           6362.0|             41-50|\n",
            "|     80|      15|            2|            5|              2|                                3|        gynecology|        Q|            F|      2.0|    30632|              4.0|           Trauma|           Minor|               3|41-50|           5364.0|             51-60|\n",
            "|     81|      15|            2|            5|              2|                                2|        gynecology|        S|            F|      2.0|    30632|              4.0|           Trauma|           Minor|               3|41-50|           4382.0|             51-60|\n",
            "|     82|      14|            0|            1|              0|                                3|        gynecology|        R|            E|      2.0|   128803|              2.0|           Trauma|           Minor|               4|41-50|           5387.0|             31-40|\n",
            "|     83|      23|            0|            6|              0|                                3|        anesthesia|        Q|            F|      3.0|   128803|              2.0|           Trauma|           Minor|               7|41-50|           4679.0|             31-40|\n",
            "|     84|      10|            4|            1|              0|                                4|        gynecology|        Q|            E|      1.0|   128803|              2.0|        Emergency|           Minor|               4|41-50|           5150.0|             21-30|\n",
            "|     85|      11|            1|            2|              1|                                3|TB & Chest disease|        Q|            D|      3.0|    82551|              8.0|        Emergency|           Minor|               2|71-80|           4081.0|              0-10|\n",
            "|     86|      11|            1|            2|              1|                                3|        gynecology|        Q|            D|      4.0|    82551|              8.0|           Trauma|           Minor|               2|71-80|           4450.0|             21-30|\n",
            "|     87|      32|            5|            9|              1|                                3|        gynecology|        S|            B|      4.0|    82551|              8.0|        Emergency|           Minor|               2|71-80|           3136.0|              0-10|\n",
            "|     88|      11|            1|            2|              1|                                3|        anesthesia|        Q|            D|      3.0|    88451|              8.0|           Trauma|        Moderate|               4|21-30|           2816.0|              0-10|\n",
            "|     89|      19|            0|            7|              1|                                4|        gynecology|        Q|            C|      2.0|    88451|              8.0|        Emergency|        Moderate|               4|21-30|           5340.0|             11-20|\n",
            "|     90|      19|            0|            7|              1|                                4|        gynecology|        Q|            C|      2.0|    88451|              8.0|        Emergency|        Moderate|               4|21-30|           4551.0|             11-20|\n",
            "|     91|       9|            3|            5|              2|                                3|      radiotherapy|        Q|            F|      3.0|    88451|              8.0|           Urgent|        Moderate|              13|21-30|           3353.0|More than 100 Days|\n",
            "|     92|      19|            0|            7|              1|                                6|        gynecology|        Q|            C|      1.0|    88451|              8.0|        Emergency|        Moderate|               4|21-30|           5430.0|             31-40|\n",
            "|     93|       9|            3|            5|              2|                                4|        gynecology|        R|            F|      2.0|    21257|              7.0|           Urgent|        Moderate|               3|31-40|           5282.0|             11-20|\n",
            "|     94|      23|            0|            6|              0|                                5|        gynecology|        Q|            F|      2.0|    21257|              7.0|           Urgent|        Moderate|               8|31-40|           5254.0|             81-90|\n",
            "|     95|      29|            0|            4|              0|                                4|        gynecology|        S|            F|      2.0|    21257|              7.0|        Emergency|        Moderate|               2|31-40|           4198.0|             21-30|\n",
            "|     96|       1|            3|           10|              1|                                4|        gynecology|        Q|            B|      1.0|    21257|              7.0|           Urgent|        Moderate|               2|31-40|           3750.0|             11-20|\n",
            "|     97|      13|            0|            5|              2|                                3|        gynecology|        R|            F|      2.0|    21257|              7.0|           Urgent|        Moderate|               2|31-40|           6162.0|             21-30|\n",
            "|     98|      15|            2|            5|              2|                                4|        gynecology|        R|            F|      2.0|    21257|              7.0|           Urgent|        Moderate|               3|31-40|           5199.0|             21-30|\n",
            "|     99|      12|            0|            9|              1|                                3|        gynecology|        R|            B|      1.0|    21257|              7.0|           Urgent|        Moderate|               2|31-40|           4796.0|             21-30|\n",
            "|    100|      27|            0|            7|              1|                                6|        anesthesia|        P|            C|      3.0|    48585|              8.0|           Urgent|        Moderate|               3|61-70|           5219.0|             11-20|\n",
            "+-------+--------+-------------+-------------+---------------+---------------------------------+------------------+---------+-------------+---------+---------+-----------------+-----------------+----------------+----------------+-----+-----------------+------------------+\n",
            "only showing top 100 rows\n",
            "\n"
          ],
          "name": "stdout"
        }
      ]
    },
    {
      "cell_type": "markdown",
      "metadata": {
        "id": "iiQaJ_86NR5J"
      },
      "source": [
        "**Observations using Dataframe Schema**\n",
        "\n",
        "\n",
        "\\begin{array}{ccc}\n",
        "Column\\:Name&Critical\\:Factor&Data\\:Type&Transformation\\:required&Transformation\\\\\n",
        "case\\_id & No &String &No&N/A \\\\ \n",
        "Hospital & Yes &String&Yes&String\\:to\\:integer\\\\\n",
        "Hospital\\_type & Yes &String&Yes& String\\:to\\:integer\\\\\n",
        "Hospital\\_city & Yes &String&Yes&String\\:to\\:integer\\\\\n",
        "Hospital\\_region & Yes &String&Yes&String\\:to\\:integer\\\\\n",
        "Available\\_extra\\_rooms\\_in\\_hospital & Yes &String&Yes&String\\:to\\:integer\\\\\n",
        "Department & Yes &String&Yes&String\\:to\\:index\\\\\n",
        "Ward\\_type & Yes &String&Yes&String\\:to\\:index\\\\\n",
        "Ward\\_facility & Yes &String&Yes&String\\:to\\:index\\\\\n",
        "Bed\\_grade & Yes &String&Yes&String\\:to\\:integer\\\\\n",
        "Patientid & No &String&Yes&String\\:to\\:integer\\\\\n",
        "City\\_Code\\_Patient & Yes &String&Yes&String\\:to\\:integer\\\\\n",
        "Type\\:of\\:Admission & Yes &String&Yes&String\\:to\\:index\\\\\n",
        "Illness\\_Severity & Yes &String&Yes&String\\:to\\:index\\\\\n",
        "Patient\\_Visitors & Yes &String&Yes&String\\:to\\:integer\\\\\n",
        "Age & Yes &String&Yes&String\\:to\\:index\\\\\n",
        "Admission\\_Deposit& Yes &String&Yes&String\\:to\\:integer\\\\\n",
        "Stay\\_Days & Target\\:variable\\:or\\:Label &String&Yes&String\\:to\\:index\\\\\n",
        "\\end{array}\n",
        "\n",
        "\n"
      ]
    },
    {
      "cell_type": "markdown",
      "metadata": {
        "id": "zAKmYoIubpql"
      },
      "source": [
        "**First Level Transformation: Rename selected columns**"
      ]
    },
    {
      "cell_type": "code",
      "metadata": {
        "colab": {
          "base_uri": "https://localhost:8080/"
        },
        "id": "MOwgFU9siyPk",
        "outputId": "7246de60-4a0e-41e0-c4a8-d1ca0bfc6b5d"
      },
      "source": [
        "## Rename column \"Type of Admission\" and \"patientid\"\n",
        "df2 = df.withColumnRenamed(\"Type of Admission\", \"Type_of_Admission\")\\\n",
        "      .withColumnRenamed(\"patientid\", \"Patient_id\")\n",
        "\n",
        "## Convert all columns to lower case for uniformity\n",
        "df3 = df2.toDF(*[c.lower() for c in df2.columns])\n",
        "df3.printSchema()\n",
        "\n"
      ],
      "execution_count": 25,
      "outputs": [
        {
          "output_type": "stream",
          "text": [
            "root\n",
            " |-- case_id: string (nullable = true)\n",
            " |-- hospital: string (nullable = true)\n",
            " |-- hospital_type: string (nullable = true)\n",
            " |-- hospital_city: string (nullable = true)\n",
            " |-- hospital_region: string (nullable = true)\n",
            " |-- available_extra_rooms_in_hospital: string (nullable = true)\n",
            " |-- department: string (nullable = true)\n",
            " |-- ward_type: string (nullable = true)\n",
            " |-- ward_facility: string (nullable = true)\n",
            " |-- bed_grade: string (nullable = true)\n",
            " |-- patient_id: string (nullable = true)\n",
            " |-- city_code_patient: string (nullable = true)\n",
            " |-- type_of_admission: string (nullable = true)\n",
            " |-- illness_severity: string (nullable = true)\n",
            " |-- patient_visitors: string (nullable = true)\n",
            " |-- age: string (nullable = true)\n",
            " |-- admission_deposit: string (nullable = true)\n",
            " |-- stay_days: string (nullable = true)\n",
            "\n"
          ],
          "name": "stdout"
        }
      ]
    },
    {
      "cell_type": "markdown",
      "metadata": {
        "id": "59fcw78_pxIJ"
      },
      "source": [
        "**Second Level Transformation: Change selected columns from String to Integer**"
      ]
    },
    {
      "cell_type": "code",
      "metadata": {
        "colab": {
          "base_uri": "https://localhost:8080/"
        },
        "id": "0G74Qd7YbUxm",
        "outputId": "c0b3188c-b4bb-4345-a5d8-9657494a4d84"
      },
      "source": [
        "from pyspark.sql.types import IntegerType\n",
        "import pyspark.sql.functions as F\n",
        "\n",
        "string_to_integer_list = ['hospital', 'hospital_type', 'hospital_city','hospital_region','available_extra_rooms_in_hospital',\n",
        "                          'bed_grade','city_code_patient','patient_visitors','admission_deposit']\n",
        "df4 = df3\n",
        "for col in string_to_integer_list:\n",
        "  df4 = df4.withColumn(col, F.col(col).astype(IntegerType()))\n",
        "\n",
        "df4.printSchema()"
      ],
      "execution_count": 26,
      "outputs": [
        {
          "output_type": "stream",
          "text": [
            "root\n",
            " |-- case_id: string (nullable = true)\n",
            " |-- hospital: integer (nullable = true)\n",
            " |-- hospital_type: integer (nullable = true)\n",
            " |-- hospital_city: integer (nullable = true)\n",
            " |-- hospital_region: integer (nullable = true)\n",
            " |-- available_extra_rooms_in_hospital: integer (nullable = true)\n",
            " |-- department: string (nullable = true)\n",
            " |-- ward_type: string (nullable = true)\n",
            " |-- ward_facility: string (nullable = true)\n",
            " |-- bed_grade: integer (nullable = true)\n",
            " |-- patient_id: string (nullable = true)\n",
            " |-- city_code_patient: integer (nullable = true)\n",
            " |-- type_of_admission: string (nullable = true)\n",
            " |-- illness_severity: string (nullable = true)\n",
            " |-- patient_visitors: integer (nullable = true)\n",
            " |-- age: string (nullable = true)\n",
            " |-- admission_deposit: integer (nullable = true)\n",
            " |-- stay_days: string (nullable = true)\n",
            "\n"
          ],
          "name": "stdout"
        }
      ]
    },
    {
      "cell_type": "markdown",
      "metadata": {
        "id": "IcmJfmF7rCD_"
      },
      "source": [
        "**Third Level Transformation: Change selected columns from String to Index**\n",
        "\n"
      ]
    },
    {
      "cell_type": "code",
      "metadata": {
        "colab": {
          "base_uri": "https://localhost:8080/"
        },
        "id": "Lt0NDOnNrNwi",
        "outputId": "d1b2436c-d8bd-4c35-e618-97053515d168"
      },
      "source": [
        "from pyspark.ml.feature import StringIndexer\n",
        "import pyspark.sql.functions as F\n",
        "\n",
        "string_to_integer_list = ['department','ward_facility', 'ward_type','illness_severity','type_of_admission']\n",
        "\n",
        "def custom_stringindex(df, col):\n",
        "  output = col + \"_index\"\n",
        "  indexer = StringIndexer(inputCol=col, outputCol=output)\n",
        "  indexed = indexer.fit(df).transform(df)\n",
        "  \n",
        "  return indexed\n",
        "\n",
        "\n",
        "df5 = df4\n",
        "for col in string_to_integer_list:\n",
        "  df5 = custom_stringindex(df5, col)\n",
        " \n",
        "df5.printSchema()"
      ],
      "execution_count": 27,
      "outputs": [
        {
          "output_type": "stream",
          "text": [
            "root\n",
            " |-- case_id: string (nullable = true)\n",
            " |-- hospital: integer (nullable = true)\n",
            " |-- hospital_type: integer (nullable = true)\n",
            " |-- hospital_city: integer (nullable = true)\n",
            " |-- hospital_region: integer (nullable = true)\n",
            " |-- available_extra_rooms_in_hospital: integer (nullable = true)\n",
            " |-- department: string (nullable = true)\n",
            " |-- ward_type: string (nullable = true)\n",
            " |-- ward_facility: string (nullable = true)\n",
            " |-- bed_grade: integer (nullable = true)\n",
            " |-- patient_id: string (nullable = true)\n",
            " |-- city_code_patient: integer (nullable = true)\n",
            " |-- type_of_admission: string (nullable = true)\n",
            " |-- illness_severity: string (nullable = true)\n",
            " |-- patient_visitors: integer (nullable = true)\n",
            " |-- age: string (nullable = true)\n",
            " |-- admission_deposit: integer (nullable = true)\n",
            " |-- stay_days: string (nullable = true)\n",
            " |-- department_index: double (nullable = false)\n",
            " |-- ward_facility_index: double (nullable = false)\n",
            " |-- ward_type_index: double (nullable = false)\n",
            " |-- illness_severity_index: double (nullable = false)\n",
            " |-- type_of_admission_index: double (nullable = false)\n",
            "\n"
          ],
          "name": "stdout"
        }
      ]
    },
    {
      "cell_type": "markdown",
      "metadata": {
        "id": "rBqGIMAbw9w4"
      },
      "source": [
        "### **3. Data Insight**"
      ]
    },
    {
      "cell_type": "markdown",
      "metadata": {
        "id": "7Dhpd1lt0Myx"
      },
      "source": [
        "**Using Group By**"
      ]
    },
    {
      "cell_type": "code",
      "metadata": {
        "colab": {
          "base_uri": "https://localhost:8080/"
        },
        "id": "aQ7JlE7ivwer",
        "outputId": "da14e41b-598a-40c6-f6ec-f8d6dcb0f603"
      },
      "source": [
        "from pyspark.sql.functions import col\n",
        "\n",
        "df5.groupBy(\"stay_days\") \\\n",
        "    .count() \\\n",
        "    .orderBy(col(\"count\").desc()) \\\n",
        "    .show()\n",
        "\n",
        "df5.groupBy(\"illness_severity\") \\\n",
        "    .count() \\\n",
        "    .orderBy(col(\"count\").desc()) \\\n",
        "    .show()\n",
        "\n",
        "df5.groupBy(\"ward_type\") \\\n",
        "    .count() \\\n",
        "    .orderBy(col(\"count\").desc()) \\\n",
        "    .show()\n",
        "\n",
        "df5.groupBy(\"ward_facility\") \\\n",
        "    .count() \\\n",
        "    .orderBy(col(\"count\").desc()) \\\n",
        "    .show()\n",
        "\n",
        "df5.groupBy(\"department\") \\\n",
        "    .count() \\\n",
        "    .orderBy(col(\"count\").desc()) \\\n",
        "    .show()\n",
        "\n",
        "df5.groupBy(\"age\") \\\n",
        "    .count() \\\n",
        "    .orderBy(col(\"count\").desc()) \\\n",
        "    .show()"
      ],
      "execution_count": 28,
      "outputs": [
        {
          "output_type": "stream",
          "text": [
            "+------------------+-----+\n",
            "|         stay_days|count|\n",
            "+------------------+-----+\n",
            "|             21-30|87491|\n",
            "|             11-20|78139|\n",
            "|             31-40|55159|\n",
            "|             51-60|35018|\n",
            "|              0-10|23604|\n",
            "|             41-50|11743|\n",
            "|             71-80|10254|\n",
            "|More than 100 Days| 6683|\n",
            "|             81-90| 4838|\n",
            "|            91-100| 2765|\n",
            "|             61-70| 2744|\n",
            "+------------------+-----+\n",
            "\n",
            "+----------------+------+\n",
            "|illness_severity| count|\n",
            "+----------------+------+\n",
            "|        Moderate|175843|\n",
            "|           Minor| 85872|\n",
            "|         Extreme| 56723|\n",
            "+----------------+------+\n",
            "\n",
            "+---------+------+\n",
            "|ward_type| count|\n",
            "+---------+------+\n",
            "|        R|127947|\n",
            "|        Q|106165|\n",
            "|        S| 77794|\n",
            "|        P|  5046|\n",
            "|        T|  1477|\n",
            "|        U|     9|\n",
            "+---------+------+\n",
            "\n",
            "+-------------+------+\n",
            "|ward_facility| count|\n",
            "+-------------+------+\n",
            "|            F|112753|\n",
            "|            E| 55351|\n",
            "|            D| 51809|\n",
            "|            C| 35463|\n",
            "|            B| 35156|\n",
            "|            A| 27906|\n",
            "+-------------+------+\n",
            "\n",
            "+------------------+------+\n",
            "|        department| count|\n",
            "+------------------+------+\n",
            "|        gynecology|249486|\n",
            "|        anesthesia| 29649|\n",
            "|      radiotherapy| 28516|\n",
            "|TB & Chest disease|  9586|\n",
            "|           surgery|  1201|\n",
            "+------------------+------+\n",
            "\n",
            "+------+-----+\n",
            "|   age|count|\n",
            "+------+-----+\n",
            "| 41-50|63749|\n",
            "| 31-40|63639|\n",
            "| 51-60|48514|\n",
            "| 21-30|40843|\n",
            "| 71-80|35792|\n",
            "| 61-70|33687|\n",
            "| 11-20|16768|\n",
            "| 81-90| 7890|\n",
            "|  0-10| 6254|\n",
            "|91-100| 1302|\n",
            "+------+-----+\n",
            "\n"
          ],
          "name": "stdout"
        }
      ]
    },
    {
      "cell_type": "markdown",
      "metadata": {
        "id": "iUCqNmHPtiTn"
      },
      "source": [
        "###**4. Machine Learning**"
      ]
    },
    {
      "cell_type": "code",
      "metadata": {
        "id": "Mc8ILw9WvsV3"
      },
      "source": [
        "input_variable = ['hospital', 'hospital_type', 'hospital_city','hospital_region','available_extra_rooms_in_hospital',\n",
        "                  'bed_grade','city_code_patient','patient_visitors','admission_deposit',\n",
        "                  'department_index', 'ward_facility_index', 'ward_type_index', 'illness_severity_index',\n",
        "                  'type_of_admission_index']\n",
        "\n",
        "label = ['stay_days_index']\n",
        "                    "
      ],
      "execution_count": 29,
      "outputs": []
    },
    {
      "cell_type": "markdown",
      "metadata": {
        "id": "h6W0FJj8wpOb"
      },
      "source": [
        "**Feature engineering**"
      ]
    },
    {
      "cell_type": "markdown",
      "metadata": {
        "id": "MhZvV-GNwtrU"
      },
      "source": [
        "*Partition training and test sets*"
      ]
    },
    {
      "cell_type": "code",
      "metadata": {
        "colab": {
          "base_uri": "https://localhost:8080/"
        },
        "id": "L1sr-4CLw2vp",
        "outputId": "264d33df-5bf9-4789-8644-c8326fa2c70c"
      },
      "source": [
        "# set seed for reproducibility\n",
        "(trainingData, testData) = df5.randomSplit([0.8, 0.2], seed = 200000)\n",
        "print(\"Training Dataset Count: \" + str(trainingData.count()))\n",
        "print(\"Test Dataset Count: \" + str(testData.count()))"
      ],
      "execution_count": 30,
      "outputs": [
        {
          "output_type": "stream",
          "text": [
            "Training Dataset Count: 254660\n",
            "Test Dataset Count: 63778\n"
          ],
          "name": "stdout"
        }
      ]
    },
    {
      "cell_type": "markdown",
      "metadata": {
        "id": "Al_bU3OyyklX"
      },
      "source": [
        "*Vector Assembler*"
      ]
    },
    {
      "cell_type": "code",
      "metadata": {
        "id": "K583PfvSyruy"
      },
      "source": [
        "from pyspark.ml.feature import VectorAssembler\n",
        "\n",
        "assembler = VectorAssembler(\n",
        "    inputCols=input_variable,\n",
        "    outputCol=\"features\",\n",
        "    handleInvalid =\"skip\")\n",
        "\n",
        "df6 = assembler.transform(df5)\n",
        "\n",
        "\n"
      ],
      "execution_count": 31,
      "outputs": []
    },
    {
      "cell_type": "markdown",
      "metadata": {
        "id": "MDreazqHGDWk"
      },
      "source": [
        "Principal Component Analysis(PCA)\n"
      ]
    },
    {
      "cell_type": "code",
      "metadata": {
        "id": "KuKC7RPT-JX8"
      },
      "source": [
        "from pyspark.ml.feature import PCA\n",
        "\n",
        "pca =PCA(k=10, inputCol=\"features\", outputCol=\"pcaFeatures\") \n"
      ],
      "execution_count": 32,
      "outputs": []
    },
    {
      "cell_type": "markdown",
      "metadata": {
        "id": "X12Czyv9Ga0a"
      },
      "source": [
        "\n",
        "Standardization\n"
      ]
    },
    {
      "cell_type": "code",
      "metadata": {
        "id": "E2Mo5hVHBL9f"
      },
      "source": [
        "from pyspark.ml.feature import StandardScaler\n",
        "\n",
        "scaler = StandardScaler(inputCol=\"pcaFeatures\", outputCol=\"scaledFeatures\",\n",
        "                        withStd=True, withMean=False)"
      ],
      "execution_count": 33,
      "outputs": []
    },
    {
      "cell_type": "markdown",
      "metadata": {
        "id": "GdW5kYjYtbfS"
      },
      "source": [
        "**Decison Tree**"
      ]
    },
    {
      "cell_type": "code",
      "metadata": {
        "id": "jTLOM-FstJpw"
      },
      "source": [
        "from pyspark.ml.feature import IndexToString\n",
        "from pyspark.ml.classification import DecisionTreeClassifier\n",
        "from pyspark.ml import Pipeline\n",
        "\n",
        "labelIndexer = StringIndexer(inputCol=\"stay_days\", outputCol=\"stay_days_index\").fit(df6)\n",
        "# Train a LogisticRegression model.\n",
        "dt = DecisionTreeClassifier(labelCol=\"stay_days_index\", featuresCol=\"scaledFeatures\")\n",
        "\n",
        "# Convert indexed labels back to original labels.\n",
        "labelConverter = IndexToString(inputCol=\"prediction\", outputCol=\"predictedLabel\", labels=labelIndexer.labels)\n"
      ],
      "execution_count": 34,
      "outputs": []
    },
    {
      "cell_type": "code",
      "metadata": {
        "id": "7c4yBar7imYv"
      },
      "source": [
        "# Chain indexers and tree in a Pipeline\n",
        "pipeline = Pipeline(stages=[labelIndexer, assembler, pca, scaler, dt, labelConverter])\n"
      ],
      "execution_count": 35,
      "outputs": []
    },
    {
      "cell_type": "code",
      "metadata": {
        "id": "kE8ZHRnyiv1D"
      },
      "source": [
        "model = pipeline.fit(trainingData)"
      ],
      "execution_count": 36,
      "outputs": []
    },
    {
      "cell_type": "code",
      "metadata": {
        "colab": {
          "base_uri": "https://localhost:8080/"
        },
        "id": "umXM4ZmG7GgI",
        "outputId": "9fb37571-88c4-417f-ff3f-f37be8c33f77"
      },
      "source": [
        "predictions_df = model.transform(testData)\n",
        "\n",
        "predictions_df.printSchema()"
      ],
      "execution_count": 37,
      "outputs": [
        {
          "output_type": "stream",
          "text": [
            "root\n",
            " |-- case_id: string (nullable = true)\n",
            " |-- hospital: integer (nullable = true)\n",
            " |-- hospital_type: integer (nullable = true)\n",
            " |-- hospital_city: integer (nullable = true)\n",
            " |-- hospital_region: integer (nullable = true)\n",
            " |-- available_extra_rooms_in_hospital: integer (nullable = true)\n",
            " |-- department: string (nullable = true)\n",
            " |-- ward_type: string (nullable = true)\n",
            " |-- ward_facility: string (nullable = true)\n",
            " |-- bed_grade: integer (nullable = true)\n",
            " |-- patient_id: string (nullable = true)\n",
            " |-- city_code_patient: integer (nullable = true)\n",
            " |-- type_of_admission: string (nullable = true)\n",
            " |-- illness_severity: string (nullable = true)\n",
            " |-- patient_visitors: integer (nullable = true)\n",
            " |-- age: string (nullable = true)\n",
            " |-- admission_deposit: integer (nullable = true)\n",
            " |-- stay_days: string (nullable = true)\n",
            " |-- department_index: double (nullable = false)\n",
            " |-- ward_facility_index: double (nullable = false)\n",
            " |-- ward_type_index: double (nullable = false)\n",
            " |-- illness_severity_index: double (nullable = false)\n",
            " |-- type_of_admission_index: double (nullable = false)\n",
            " |-- stay_days_index: double (nullable = false)\n",
            " |-- features: vector (nullable = true)\n",
            " |-- pcaFeatures: vector (nullable = true)\n",
            " |-- scaledFeatures: vector (nullable = true)\n",
            " |-- rawPrediction: vector (nullable = true)\n",
            " |-- probability: vector (nullable = true)\n",
            " |-- prediction: double (nullable = false)\n",
            " |-- predictedLabel: string (nullable = true)\n",
            "\n"
          ],
          "name": "stdout"
        }
      ]
    },
    {
      "cell_type": "code",
      "metadata": {
        "colab": {
          "base_uri": "https://localhost:8080/"
        },
        "id": "mIcDR0yo7ZBO",
        "outputId": "80f7bcd6-6d6c-4781-98df-90e0f89ded25"
      },
      "source": [
        "# Select example rows to display.\n",
        "predictions_df.select(\"case_id\", \"illness_severity\",\"type_of_admission\", \"stay_days\", \"predictedLabel\" ).show(40)"
      ],
      "execution_count": 38,
      "outputs": [
        {
          "output_type": "stream",
          "text": [
            "+-------+----------------+-----------------+------------------+--------------+\n",
            "|case_id|illness_severity|type_of_admission|         stay_days|predictedLabel|\n",
            "+-------+----------------+-----------------+------------------+--------------+\n",
            "|      1|         Extreme|        Emergency|              0-10|         21-30|\n",
            "|    100|        Moderate|           Urgent|             11-20|         11-20|\n",
            "| 100000|        Moderate|           Trauma|             31-40|         21-30|\n",
            "| 100002|        Moderate|           Urgent|             21-30|         21-30|\n",
            "| 100003|        Moderate|           Urgent|             21-30|          0-10|\n",
            "| 100004|         Extreme|           Trauma|             21-30|         21-30|\n",
            "| 100007|         Extreme|        Emergency|             11-20|         11-20|\n",
            "| 100010|           Minor|           Trauma|             21-30|         51-60|\n",
            "| 100022|        Moderate|           Trauma|             11-20|         21-30|\n",
            "| 100026|        Moderate|           Trauma|             21-30|         21-30|\n",
            "| 100034|         Extreme|           Trauma|            91-100|         31-40|\n",
            "| 100036|         Extreme|           Trauma|             41-50|         21-30|\n",
            "| 100037|         Extreme|           Trauma|             21-30|         11-20|\n",
            "| 100040|        Moderate|           Trauma|             21-30|         21-30|\n",
            "| 100041|        Moderate|           Trauma|             11-20|         11-20|\n",
            "| 100043|        Moderate|           Trauma|             11-20|         21-30|\n",
            "| 100044|        Moderate|           Trauma|             21-30|         21-30|\n",
            "| 100058|        Moderate|           Trauma|             51-60|         21-30|\n",
            "| 100060|           Minor|           Trauma|             21-30|         11-20|\n",
            "| 100063|           Minor|           Trauma|             11-20|         11-20|\n",
            "| 100069|        Moderate|           Trauma|             21-30|         11-20|\n",
            "| 100071|        Moderate|           Trauma|             11-20|         21-30|\n",
            "| 100072|         Extreme|           Trauma|             21-30|         21-30|\n",
            "| 100075|         Extreme|        Emergency|             11-20|         21-30|\n",
            "| 100076|        Moderate|           Trauma|             51-60|         51-60|\n",
            "| 100081|        Moderate|           Trauma|More than 100 Days|         51-60|\n",
            "| 100087|         Extreme|        Emergency|              0-10|          0-10|\n",
            "| 100090|         Extreme|           Trauma|             31-40|         51-60|\n",
            "| 100092|        Moderate|        Emergency|              0-10|         21-30|\n",
            "| 100095|        Moderate|        Emergency|             21-30|         11-20|\n",
            "|   1001|         Extreme|        Emergency|             11-20|         21-30|\n",
            "| 100106|        Moderate|        Emergency|              0-10|         11-20|\n",
            "| 100108|        Moderate|        Emergency|              0-10|         11-20|\n",
            "| 100109|        Moderate|           Trauma|             21-30|         11-20|\n",
            "| 100112|           Minor|           Trauma|             11-20|         11-20|\n",
            "| 100119|           Minor|        Emergency|More than 100 Days|         51-60|\n",
            "| 100122|        Moderate|           Trauma|             51-60|         51-60|\n",
            "| 100128|           Minor|        Emergency|              0-10|         11-20|\n",
            "| 100129|        Moderate|        Emergency|             11-20|         21-30|\n",
            "| 100130|        Moderate|           Trauma|             21-30|         21-30|\n",
            "+-------+----------------+-----------------+------------------+--------------+\n",
            "only showing top 40 rows\n",
            "\n"
          ],
          "name": "stdout"
        }
      ]
    },
    {
      "cell_type": "code",
      "metadata": {
        "id": "ski7iADIge36"
      },
      "source": [
        ""
      ],
      "execution_count": 38,
      "outputs": []
    },
    {
      "cell_type": "markdown",
      "metadata": {
        "id": "0tvtmPOtllun"
      },
      "source": [
        "**Random Forest**"
      ]
    },
    {
      "cell_type": "code",
      "metadata": {
        "id": "Q8fanjpslluq"
      },
      "source": [
        "from pyspark.ml.feature import IndexToString\n",
        "from pyspark.ml.classification import RandomForestClassifier\n",
        "from pyspark.ml import Pipeline\n",
        "\n",
        "labelIndexer = StringIndexer(inputCol=\"stay_days\", outputCol=\"stay_days_index\").fit(df6)\n",
        "# Train a LogisticRegression model.\n",
        "rf  = RandomForestClassifier(labelCol=\"stay_days_index\", featuresCol=\"scaledFeatures\")\n",
        "\n",
        "# Convert indexed labels back to original labels.\n",
        "labelConverter = IndexToString(inputCol=\"prediction\", outputCol=\"predictedLabel\", labels=labelIndexer.labels)\n"
      ],
      "execution_count": 44,
      "outputs": []
    },
    {
      "cell_type": "code",
      "metadata": {
        "id": "kVk2N9FF46Y9"
      },
      "source": [
        "# Chain indexers and tree in a Pipeline\n",
        "pipeline_rf = Pipeline(stages=[labelIndexer, assembler, pca, scaler, rf, labelConverter])"
      ],
      "execution_count": 45,
      "outputs": []
    },
    {
      "cell_type": "code",
      "metadata": {
        "id": "2AnelBeV2raM"
      },
      "source": [
        "model_rf = pipeline_rf.fit(trainingData)"
      ],
      "execution_count": 41,
      "outputs": []
    },
    {
      "cell_type": "code",
      "metadata": {
        "id": "-jRBUw1Ni6kY"
      },
      "source": [
        "predictions_rf = model_rf.transform(testData)"
      ],
      "execution_count": 46,
      "outputs": []
    },
    {
      "cell_type": "markdown",
      "metadata": {
        "id": "gIoMF9eaOa73"
      },
      "source": [
        "**Multiclass Classification Evaluation**"
      ]
    },
    {
      "cell_type": "code",
      "metadata": {
        "id": "P_hLDrQiLD3B"
      },
      "source": [
        "from pyspark.ml.evaluation import MulticlassClassificationEvaluator\n",
        "from pyspark.mllib.evaluation import MulticlassMetrics\n",
        "\n",
        "# Select (prediction, true label) and compute the accuracy and test error\n",
        "def customMulticlassClassificationEvaluator(modelname, predictions):\n",
        "  evaluator = MulticlassClassificationEvaluator(\n",
        "      labelCol=\"stay_days_index\", predictionCol=\"prediction\", metricName=\"accuracy\")\n",
        "  accuracy = evaluator.evaluate(predictions)\n",
        "\n",
        "  evaluator2 = MulticlassClassificationEvaluator(\n",
        "      labelCol=\"stay_days_index\", predictionCol=\"prediction\", metricName=\"weightedRecall\")\n",
        "  weightedRecall = evaluator2.evaluate(predictions)\n",
        "\n",
        "  evaluator3 = MulticlassClassificationEvaluator(\n",
        "      labelCol=\"stay_days_index\", predictionCol=\"prediction\", metricName=\"weightedPrecision\")\n",
        "  weightedPrecision = evaluator3.evaluate(predictions)\n",
        "\n",
        "  evaluator4 = MulticlassClassificationEvaluator(\n",
        "      labelCol=\"stay_days_index\", predictionCol=\"prediction\", metricName=\"weightedTruePositiveRate\")\n",
        "  weightedTruePositiveRate = evaluator4.evaluate(predictions)\n",
        "\n",
        "  evaluator5 = MulticlassClassificationEvaluator(\n",
        "      labelCol=\"stay_days_index\", predictionCol=\"prediction\", metricName=\"truePositiveRateByLabel\")\n",
        "  truePositiveRateByLabel = evaluator5.evaluate(predictions)\n",
        "\n",
        "  evaluator6 = MulticlassClassificationEvaluator(\n",
        "      labelCol=\"stay_days_index\", predictionCol=\"prediction\", metricName=\"falsePositiveRateByLabel\")\n",
        "  falsePositiveRateByLabel = evaluator6.evaluate(predictions)\n",
        "\n",
        "  evaluator7 = MulticlassClassificationEvaluator(\n",
        "      labelCol=\"stay_days_index\", predictionCol=\"prediction\", metricName=\"precisionByLabel\")\n",
        "  precisionByLabel = evaluator7.evaluate(predictions)\n",
        "\n",
        "  evaluator8 = MulticlassClassificationEvaluator(\n",
        "      labelCol=\"stay_days_index\", predictionCol=\"prediction\", metricName=\"weightedFMeasure\")\n",
        "  weightedFMeasure = evaluator8.evaluate(predictions)\n",
        "\n",
        "  evaluator9 = MulticlassClassificationEvaluator(\n",
        "      labelCol=\"stay_days_index\", predictionCol=\"prediction\", metricName=\"fMeasureByLabel\")\n",
        "  fMeasureByLabel = evaluator9.evaluate(predictions)\n",
        "\n",
        "  evaluator10 = MulticlassClassificationEvaluator(\n",
        "      labelCol=\"stay_days_index\", predictionCol=\"prediction\", metricName=\"recallByLabel\")\n",
        "  recallByLabel = evaluator10.evaluate(predictions)\n",
        "\n",
        "  evaluator11 = MulticlassClassificationEvaluator(\n",
        "      labelCol=\"stay_days_index\", predictionCol=\"prediction\", metricName=\"logLoss\")\n",
        "  logLoss = evaluator11.evaluate(predictions)\n",
        "\n",
        "  evaluator12 = MulticlassClassificationEvaluator(\n",
        "      labelCol=\"stay_days_index\", predictionCol=\"prediction\", metricName=\"hammingLoss\")\n",
        "  hammingLoss = evaluator12.evaluate(predictions)\n",
        "\n",
        "\n",
        "  evaluator13 = MulticlassClassificationEvaluator(\n",
        "      labelCol=\"stay_days_index\", predictionCol=\"prediction\", metricName=\"f1\")\n",
        "  f1 = evaluator13.evaluate(predictions)\n",
        "\n",
        "\n",
        "  print(f'Model name: {modelname}')\n",
        "  print(\"\\tAccuracy = %g \" %(accuracy))\n",
        "  print(\"\\tF1 = %g \" %(f1))\n",
        "  print(\"\\tTest Error = %g \" %(1.0 - accuracy))\n",
        "  print(\"\\tTrue Positive Rate By Label = %g \" %(truePositiveRateByLabel)) \n",
        "  print(\"\\tFalse Positive Rate By Label = %g \" %(falsePositiveRateByLabel)) \n",
        "  print(\"\\tPrecision By Label = %g \" %(precisionByLabel))\n",
        "  print(\"\\tRecall By Label = %g \" %(recallByLabel))\n",
        "  print(\"\\tFMeasure By Label = %g \" %(fMeasureByLabel))\n",
        "  print(\"\\tWeighted Recall = %g \" %(weightedRecall))\n",
        "  print(\"\\tWeighted Precision = %g \" %(weightedPrecision))\n",
        "  print(\"\\tWeighted True Positive Rate = %g \" %(weightedTruePositiveRate))  \n",
        "  print(\"\\tWeighted FMeasure = %g \" %(weightedFMeasure))\n",
        "  print(\"\\tLog Loss = %g \" %(logLoss))\n",
        "  print(\"\\tHamming Loss = %g \" %(hammingLoss))\n",
        "\n"
      ],
      "execution_count": 47,
      "outputs": []
    },
    {
      "cell_type": "code",
      "metadata": {
        "id": "WaX-BRBPjAHD"
      },
      "source": [
        "# MulticlassClassification Evaluation for DecisionTree Classifier\n",
        "customMulticlassClassificationEvaluator(\"DecisionTreeClassifier\", predictions_df)"
      ],
      "execution_count": null,
      "outputs": []
    },
    {
      "cell_type": "code",
      "metadata": {
        "id": "ljnZtpHxjBwX"
      },
      "source": [
        "# MulticlassClassification Evaluation for RandomForest Classifier\n",
        "customMulticlassClassificationEvaluator(\"RandomForest\", predictions_rf)"
      ],
      "execution_count": null,
      "outputs": []
    },
    {
      "cell_type": "markdown",
      "metadata": {
        "id": "EvPvsNBLQadc"
      },
      "source": [
        "***TO DO***\n",
        "\n",
        "**Observation:** Possible case of overfitting. Investigate root cause.\n",
        "\n",
        "**Proposed solution:** Improve the model accuracy by applying Synthetic Minority Oversampling Technique(SMOTE) to address the problem of imbalance dataset\n",
        "\n",
        "\n",
        "\n",
        "\n",
        "\n"
      ]
    },
    {
      "cell_type": "markdown",
      "metadata": {
        "id": "kZaC_iOqTqAK"
      },
      "source": [
        "#### **Virtualization**"
      ]
    },
    {
      "cell_type": "markdown",
      "metadata": {
        "id": "KtzIGLlZlGzC"
      },
      "source": [
        "#### ***Correlation Matrix***"
      ]
    },
    {
      "cell_type": "markdown",
      "metadata": {
        "id": "7eNPh_ywphNO"
      },
      "source": [
        "##### **Decision Tree**"
      ]
    },
    {
      "cell_type": "code",
      "metadata": {
        "id": "1NNIUAe9ToBz"
      },
      "source": [
        "df1= predictions_df.toPandas()"
      ],
      "execution_count": 48,
      "outputs": []
    },
    {
      "cell_type": "code",
      "metadata": {
        "colab": {
          "base_uri": "https://localhost:8080/",
          "height": 395
        },
        "id": "bYwkR4ktXlRx",
        "outputId": "644f6b07-1a74-437c-8c76-6452bd6c6966"
      },
      "source": [
        "df1.corr().style.background_gradient(cmap='coolwarm').set_precision(2)"
      ],
      "execution_count": 49,
      "outputs": [
        {
          "output_type": "execute_result",
          "data": {
            "text/html": [
              "<style  type=\"text/css\" >\n",
              "#T_86e25e7a_a517_11eb_b043_0242ac1c0002row0_col0,#T_86e25e7a_a517_11eb_b043_0242ac1c0002row1_col1,#T_86e25e7a_a517_11eb_b043_0242ac1c0002row2_col2,#T_86e25e7a_a517_11eb_b043_0242ac1c0002row3_col3,#T_86e25e7a_a517_11eb_b043_0242ac1c0002row4_col4,#T_86e25e7a_a517_11eb_b043_0242ac1c0002row5_col5,#T_86e25e7a_a517_11eb_b043_0242ac1c0002row6_col6,#T_86e25e7a_a517_11eb_b043_0242ac1c0002row7_col7,#T_86e25e7a_a517_11eb_b043_0242ac1c0002row8_col8,#T_86e25e7a_a517_11eb_b043_0242ac1c0002row9_col9,#T_86e25e7a_a517_11eb_b043_0242ac1c0002row10_col10,#T_86e25e7a_a517_11eb_b043_0242ac1c0002row11_col11,#T_86e25e7a_a517_11eb_b043_0242ac1c0002row12_col12,#T_86e25e7a_a517_11eb_b043_0242ac1c0002row13_col13,#T_86e25e7a_a517_11eb_b043_0242ac1c0002row14_col14,#T_86e25e7a_a517_11eb_b043_0242ac1c0002row15_col15{\n",
              "            background-color:  #b40426;\n",
              "            color:  #f1f1f1;\n",
              "        }#T_86e25e7a_a517_11eb_b043_0242ac1c0002row0_col1,#T_86e25e7a_a517_11eb_b043_0242ac1c0002row6_col11,#T_86e25e7a_a517_11eb_b043_0242ac1c0002row12_col0{\n",
              "            background-color:  #6180e9;\n",
              "            color:  #000000;\n",
              "        }#T_86e25e7a_a517_11eb_b043_0242ac1c0002row0_col2,#T_86e25e7a_a517_11eb_b043_0242ac1c0002row11_col7,#T_86e25e7a_a517_11eb_b043_0242ac1c0002row11_col14{\n",
              "            background-color:  #7093f3;\n",
              "            color:  #000000;\n",
              "        }#T_86e25e7a_a517_11eb_b043_0242ac1c0002row0_col3,#T_86e25e7a_a517_11eb_b043_0242ac1c0002row2_col6,#T_86e25e7a_a517_11eb_b043_0242ac1c0002row3_col0,#T_86e25e7a_a517_11eb_b043_0242ac1c0002row4_col1,#T_86e25e7a_a517_11eb_b043_0242ac1c0002row4_col5,#T_86e25e7a_a517_11eb_b043_0242ac1c0002row4_col9,#T_86e25e7a_a517_11eb_b043_0242ac1c0002row4_col11,#T_86e25e7a_a517_11eb_b043_0242ac1c0002row4_col14,#T_86e25e7a_a517_11eb_b043_0242ac1c0002row4_col15,#T_86e25e7a_a517_11eb_b043_0242ac1c0002row5_col2,#T_86e25e7a_a517_11eb_b043_0242ac1c0002row5_col10,#T_86e25e7a_a517_11eb_b043_0242ac1c0002row5_col12,#T_86e25e7a_a517_11eb_b043_0242ac1c0002row7_col8,#T_86e25e7a_a517_11eb_b043_0242ac1c0002row8_col7,#T_86e25e7a_a517_11eb_b043_0242ac1c0002row8_col13,#T_86e25e7a_a517_11eb_b043_0242ac1c0002row15_col4{\n",
              "            background-color:  #3b4cc0;\n",
              "            color:  #f1f1f1;\n",
              "        }#T_86e25e7a_a517_11eb_b043_0242ac1c0002row0_col4,#T_86e25e7a_a517_11eb_b043_0242ac1c0002row11_col9{\n",
              "            background-color:  #5977e3;\n",
              "            color:  #000000;\n",
              "        }#T_86e25e7a_a517_11eb_b043_0242ac1c0002row0_col5,#T_86e25e7a_a517_11eb_b043_0242ac1c0002row2_col8,#T_86e25e7a_a517_11eb_b043_0242ac1c0002row7_col0,#T_86e25e7a_a517_11eb_b043_0242ac1c0002row7_col11,#T_86e25e7a_a517_11eb_b043_0242ac1c0002row9_col3,#T_86e25e7a_a517_11eb_b043_0242ac1c0002row11_col13,#T_86e25e7a_a517_11eb_b043_0242ac1c0002row14_col10{\n",
              "            background-color:  #5875e1;\n",
              "            color:  #000000;\n",
              "        }#T_86e25e7a_a517_11eb_b043_0242ac1c0002row0_col6,#T_86e25e7a_a517_11eb_b043_0242ac1c0002row2_col11,#T_86e25e7a_a517_11eb_b043_0242ac1c0002row8_col2,#T_86e25e7a_a517_11eb_b043_0242ac1c0002row8_col14{\n",
              "            background-color:  #3d50c3;\n",
              "            color:  #f1f1f1;\n",
              "        }#T_86e25e7a_a517_11eb_b043_0242ac1c0002row0_col7,#T_86e25e7a_a517_11eb_b043_0242ac1c0002row2_col13,#T_86e25e7a_a517_11eb_b043_0242ac1c0002row2_col14,#T_86e25e7a_a517_11eb_b043_0242ac1c0002row6_col0,#T_86e25e7a_a517_11eb_b043_0242ac1c0002row6_col5,#T_86e25e7a_a517_11eb_b043_0242ac1c0002row6_col13,#T_86e25e7a_a517_11eb_b043_0242ac1c0002row11_col4,#T_86e25e7a_a517_11eb_b043_0242ac1c0002row11_col6,#T_86e25e7a_a517_11eb_b043_0242ac1c0002row11_col8{\n",
              "            background-color:  #5a78e4;\n",
              "            color:  #000000;\n",
              "        }#T_86e25e7a_a517_11eb_b043_0242ac1c0002row0_col8,#T_86e25e7a_a517_11eb_b043_0242ac1c0002row10_col6,#T_86e25e7a_a517_11eb_b043_0242ac1c0002row13_col3{\n",
              "            background-color:  #6f92f3;\n",
              "            color:  #000000;\n",
              "        }#T_86e25e7a_a517_11eb_b043_0242ac1c0002row0_col9,#T_86e25e7a_a517_11eb_b043_0242ac1c0002row1_col7,#T_86e25e7a_a517_11eb_b043_0242ac1c0002row7_col9,#T_86e25e7a_a517_11eb_b043_0242ac1c0002row9_col14,#T_86e25e7a_a517_11eb_b043_0242ac1c0002row12_col1,#T_86e25e7a_a517_11eb_b043_0242ac1c0002row13_col14{\n",
              "            background-color:  #5673e0;\n",
              "            color:  #000000;\n",
              "        }#T_86e25e7a_a517_11eb_b043_0242ac1c0002row0_col10,#T_86e25e7a_a517_11eb_b043_0242ac1c0002row1_col15,#T_86e25e7a_a517_11eb_b043_0242ac1c0002row5_col8,#T_86e25e7a_a517_11eb_b043_0242ac1c0002row9_col15{\n",
              "            background-color:  #7a9df8;\n",
              "            color:  #000000;\n",
              "        }#T_86e25e7a_a517_11eb_b043_0242ac1c0002row0_col11,#T_86e25e7a_a517_11eb_b043_0242ac1c0002row1_col9,#T_86e25e7a_a517_11eb_b043_0242ac1c0002row3_col9,#T_86e25e7a_a517_11eb_b043_0242ac1c0002row8_col15,#T_86e25e7a_a517_11eb_b043_0242ac1c0002row13_col5,#T_86e25e7a_a517_11eb_b043_0242ac1c0002row14_col2{\n",
              "            background-color:  #4b64d5;\n",
              "            color:  #f1f1f1;\n",
              "        }#T_86e25e7a_a517_11eb_b043_0242ac1c0002row0_col12,#T_86e25e7a_a517_11eb_b043_0242ac1c0002row1_col12,#T_86e25e7a_a517_11eb_b043_0242ac1c0002row2_col12,#T_86e25e7a_a517_11eb_b043_0242ac1c0002row5_col4,#T_86e25e7a_a517_11eb_b043_0242ac1c0002row7_col10,#T_86e25e7a_a517_11eb_b043_0242ac1c0002row7_col13,#T_86e25e7a_a517_11eb_b043_0242ac1c0002row14_col8,#T_86e25e7a_a517_11eb_b043_0242ac1c0002row15_col12,#T_86e25e7a_a517_11eb_b043_0242ac1c0002row15_col13{\n",
              "            background-color:  #4961d2;\n",
              "            color:  #f1f1f1;\n",
              "        }#T_86e25e7a_a517_11eb_b043_0242ac1c0002row0_col13,#T_86e25e7a_a517_11eb_b043_0242ac1c0002row4_col0,#T_86e25e7a_a517_11eb_b043_0242ac1c0002row9_col1,#T_86e25e7a_a517_11eb_b043_0242ac1c0002row9_col11,#T_86e25e7a_a517_11eb_b043_0242ac1c0002row10_col9,#T_86e25e7a_a517_11eb_b043_0242ac1c0002row14_col13{\n",
              "            background-color:  #4f69d9;\n",
              "            color:  #000000;\n",
              "        }#T_86e25e7a_a517_11eb_b043_0242ac1c0002row0_col14,#T_86e25e7a_a517_11eb_b043_0242ac1c0002row1_col5,#T_86e25e7a_a517_11eb_b043_0242ac1c0002row9_col0,#T_86e25e7a_a517_11eb_b043_0242ac1c0002row10_col13,#T_86e25e7a_a517_11eb_b043_0242ac1c0002row12_col3,#T_86e25e7a_a517_11eb_b043_0242ac1c0002row13_col15,#T_86e25e7a_a517_11eb_b043_0242ac1c0002row14_col11{\n",
              "            background-color:  #6384eb;\n",
              "            color:  #000000;\n",
              "        }#T_86e25e7a_a517_11eb_b043_0242ac1c0002row0_col15,#T_86e25e7a_a517_11eb_b043_0242ac1c0002row8_col0{\n",
              "            background-color:  #6c8ff1;\n",
              "            color:  #000000;\n",
              "        }#T_86e25e7a_a517_11eb_b043_0242ac1c0002row1_col0,#T_86e25e7a_a517_11eb_b043_0242ac1c0002row8_col9,#T_86e25e7a_a517_11eb_b043_0242ac1c0002row14_col0,#T_86e25e7a_a517_11eb_b043_0242ac1c0002row15_col10{\n",
              "            background-color:  #6b8df0;\n",
              "            color:  #000000;\n",
              "        }#T_86e25e7a_a517_11eb_b043_0242ac1c0002row1_col2,#T_86e25e7a_a517_11eb_b043_0242ac1c0002row10_col5,#T_86e25e7a_a517_11eb_b043_0242ac1c0002row12_col6{\n",
              "            background-color:  #455cce;\n",
              "            color:  #f1f1f1;\n",
              "        }#T_86e25e7a_a517_11eb_b043_0242ac1c0002row1_col3{\n",
              "            background-color:  #b2ccfb;\n",
              "            color:  #000000;\n",
              "        }#T_86e25e7a_a517_11eb_b043_0242ac1c0002row1_col4,#T_86e25e7a_a517_11eb_b043_0242ac1c0002row2_col5,#T_86e25e7a_a517_11eb_b043_0242ac1c0002row2_col9,#T_86e25e7a_a517_11eb_b043_0242ac1c0002row7_col2,#T_86e25e7a_a517_11eb_b043_0242ac1c0002row10_col12,#T_86e25e7a_a517_11eb_b043_0242ac1c0002row11_col12,#T_86e25e7a_a517_11eb_b043_0242ac1c0002row12_col11,#T_86e25e7a_a517_11eb_b043_0242ac1c0002row13_col6,#T_86e25e7a_a517_11eb_b043_0242ac1c0002row13_col8,#T_86e25e7a_a517_11eb_b043_0242ac1c0002row14_col4{\n",
              "            background-color:  #4e68d8;\n",
              "            color:  #000000;\n",
              "        }#T_86e25e7a_a517_11eb_b043_0242ac1c0002row1_col6,#T_86e25e7a_a517_11eb_b043_0242ac1c0002row2_col1,#T_86e25e7a_a517_11eb_b043_0242ac1c0002row12_col9,#T_86e25e7a_a517_11eb_b043_0242ac1c0002row12_col10,#T_86e25e7a_a517_11eb_b043_0242ac1c0002row15_col11{\n",
              "            background-color:  #5470de;\n",
              "            color:  #000000;\n",
              "        }#T_86e25e7a_a517_11eb_b043_0242ac1c0002row1_col8,#T_86e25e7a_a517_11eb_b043_0242ac1c0002row6_col1,#T_86e25e7a_a517_11eb_b043_0242ac1c0002row6_col4,#T_86e25e7a_a517_11eb_b043_0242ac1c0002row10_col8,#T_86e25e7a_a517_11eb_b043_0242ac1c0002row15_col1{\n",
              "            background-color:  #6788ee;\n",
              "            color:  #000000;\n",
              "        }#T_86e25e7a_a517_11eb_b043_0242ac1c0002row1_col10{\n",
              "            background-color:  #a3c2fe;\n",
              "            color:  #000000;\n",
              "        }#T_86e25e7a_a517_11eb_b043_0242ac1c0002row1_col11{\n",
              "            background-color:  #92b4fe;\n",
              "            color:  #000000;\n",
              "        }#T_86e25e7a_a517_11eb_b043_0242ac1c0002row1_col13,#T_86e25e7a_a517_11eb_b043_0242ac1c0002row3_col12,#T_86e25e7a_a517_11eb_b043_0242ac1c0002row6_col12,#T_86e25e7a_a517_11eb_b043_0242ac1c0002row9_col10,#T_86e25e7a_a517_11eb_b043_0242ac1c0002row12_col5,#T_86e25e7a_a517_11eb_b043_0242ac1c0002row13_col9{\n",
              "            background-color:  #4c66d6;\n",
              "            color:  #000000;\n",
              "        }#T_86e25e7a_a517_11eb_b043_0242ac1c0002row1_col14,#T_86e25e7a_a517_11eb_b043_0242ac1c0002row5_col14,#T_86e25e7a_a517_11eb_b043_0242ac1c0002row13_col10,#T_86e25e7a_a517_11eb_b043_0242ac1c0002row14_col1{\n",
              "            background-color:  #6485ec;\n",
              "            color:  #000000;\n",
              "        }#T_86e25e7a_a517_11eb_b043_0242ac1c0002row2_col0{\n",
              "            background-color:  #86a9fc;\n",
              "            color:  #000000;\n",
              "        }#T_86e25e7a_a517_11eb_b043_0242ac1c0002row2_col3,#T_86e25e7a_a517_11eb_b043_0242ac1c0002row3_col14,#T_86e25e7a_a517_11eb_b043_0242ac1c0002row5_col9,#T_86e25e7a_a517_11eb_b043_0242ac1c0002row11_col0,#T_86e25e7a_a517_11eb_b043_0242ac1c0002row15_col0,#T_86e25e7a_a517_11eb_b043_0242ac1c0002row15_col9{\n",
              "            background-color:  #6282ea;\n",
              "            color:  #000000;\n",
              "        }#T_86e25e7a_a517_11eb_b043_0242ac1c0002row2_col4,#T_86e25e7a_a517_11eb_b043_0242ac1c0002row3_col7,#T_86e25e7a_a517_11eb_b043_0242ac1c0002row4_col3,#T_86e25e7a_a517_11eb_b043_0242ac1c0002row5_col1,#T_86e25e7a_a517_11eb_b043_0242ac1c0002row6_col7,#T_86e25e7a_a517_11eb_b043_0242ac1c0002row10_col14{\n",
              "            background-color:  #5e7de7;\n",
              "            color:  #000000;\n",
              "        }#T_86e25e7a_a517_11eb_b043_0242ac1c0002row2_col7,#T_86e25e7a_a517_11eb_b043_0242ac1c0002row3_col4,#T_86e25e7a_a517_11eb_b043_0242ac1c0002row6_col15,#T_86e25e7a_a517_11eb_b043_0242ac1c0002row14_col5{\n",
              "            background-color:  #688aef;\n",
              "            color:  #000000;\n",
              "        }#T_86e25e7a_a517_11eb_b043_0242ac1c0002row2_col10{\n",
              "            background-color:  #6e90f2;\n",
              "            color:  #000000;\n",
              "        }#T_86e25e7a_a517_11eb_b043_0242ac1c0002row2_col15{\n",
              "            background-color:  #7ea1fa;\n",
              "            color:  #000000;\n",
              "        }#T_86e25e7a_a517_11eb_b043_0242ac1c0002row3_col1{\n",
              "            background-color:  #aac7fd;\n",
              "            color:  #000000;\n",
              "        }#T_86e25e7a_a517_11eb_b043_0242ac1c0002row3_col2,#T_86e25e7a_a517_11eb_b043_0242ac1c0002row7_col1,#T_86e25e7a_a517_11eb_b043_0242ac1c0002row8_col6,#T_86e25e7a_a517_11eb_b043_0242ac1c0002row9_col12,#T_86e25e7a_a517_11eb_b043_0242ac1c0002row9_col13,#T_86e25e7a_a517_11eb_b043_0242ac1c0002row13_col12{\n",
              "            background-color:  #4a63d3;\n",
              "            color:  #f1f1f1;\n",
              "        }#T_86e25e7a_a517_11eb_b043_0242ac1c0002row3_col5,#T_86e25e7a_a517_11eb_b043_0242ac1c0002row6_col9,#T_86e25e7a_a517_11eb_b043_0242ac1c0002row7_col12,#T_86e25e7a_a517_11eb_b043_0242ac1c0002row12_col13{\n",
              "            background-color:  #506bda;\n",
              "            color:  #000000;\n",
              "        }#T_86e25e7a_a517_11eb_b043_0242ac1c0002row3_col6,#T_86e25e7a_a517_11eb_b043_0242ac1c0002row8_col5,#T_86e25e7a_a517_11eb_b043_0242ac1c0002row11_col15{\n",
              "            background-color:  #7396f5;\n",
              "            color:  #000000;\n",
              "        }#T_86e25e7a_a517_11eb_b043_0242ac1c0002row3_col8{\n",
              "            background-color:  #799cf8;\n",
              "            color:  #000000;\n",
              "        }#T_86e25e7a_a517_11eb_b043_0242ac1c0002row3_col10{\n",
              "            background-color:  #e7d7ce;\n",
              "            color:  #000000;\n",
              "        }#T_86e25e7a_a517_11eb_b043_0242ac1c0002row3_col11{\n",
              "            background-color:  #88abfd;\n",
              "            color:  #000000;\n",
              "        }#T_86e25e7a_a517_11eb_b043_0242ac1c0002row3_col13,#T_86e25e7a_a517_11eb_b043_0242ac1c0002row12_col14,#T_86e25e7a_a517_11eb_b043_0242ac1c0002row13_col0{\n",
              "            background-color:  #5f7fe8;\n",
              "            color:  #000000;\n",
              "        }#T_86e25e7a_a517_11eb_b043_0242ac1c0002row3_col15{\n",
              "            background-color:  #7597f6;\n",
              "            color:  #000000;\n",
              "        }#T_86e25e7a_a517_11eb_b043_0242ac1c0002row4_col2,#T_86e25e7a_a517_11eb_b043_0242ac1c0002row4_col8,#T_86e25e7a_a517_11eb_b043_0242ac1c0002row11_col2{\n",
              "            background-color:  #3c4ec2;\n",
              "            color:  #f1f1f1;\n",
              "        }#T_86e25e7a_a517_11eb_b043_0242ac1c0002row4_col6,#T_86e25e7a_a517_11eb_b043_0242ac1c0002row5_col13,#T_86e25e7a_a517_11eb_b043_0242ac1c0002row6_col2{\n",
              "            background-color:  #3f53c6;\n",
              "            color:  #f1f1f1;\n",
              "        }#T_86e25e7a_a517_11eb_b043_0242ac1c0002row4_col7,#T_86e25e7a_a517_11eb_b043_0242ac1c0002row5_col7,#T_86e25e7a_a517_11eb_b043_0242ac1c0002row6_col10{\n",
              "            background-color:  #7da0f9;\n",
              "            color:  #000000;\n",
              "        }#T_86e25e7a_a517_11eb_b043_0242ac1c0002row4_col10,#T_86e25e7a_a517_11eb_b043_0242ac1c0002row5_col11,#T_86e25e7a_a517_11eb_b043_0242ac1c0002row8_col4,#T_86e25e7a_a517_11eb_b043_0242ac1c0002row8_col12,#T_86e25e7a_a517_11eb_b043_0242ac1c0002row9_col2{\n",
              "            background-color:  #4358cb;\n",
              "            color:  #f1f1f1;\n",
              "        }#T_86e25e7a_a517_11eb_b043_0242ac1c0002row4_col12,#T_86e25e7a_a517_11eb_b043_0242ac1c0002row15_col8{\n",
              "            background-color:  #445acc;\n",
              "            color:  #f1f1f1;\n",
              "        }#T_86e25e7a_a517_11eb_b043_0242ac1c0002row4_col13,#T_86e25e7a_a517_11eb_b043_0242ac1c0002row5_col0,#T_86e25e7a_a517_11eb_b043_0242ac1c0002row7_col3,#T_86e25e7a_a517_11eb_b043_0242ac1c0002row8_col1,#T_86e25e7a_a517_11eb_b043_0242ac1c0002row10_col7,#T_86e25e7a_a517_11eb_b043_0242ac1c0002row12_col8{\n",
              "            background-color:  #5b7ae5;\n",
              "            color:  #000000;\n",
              "        }#T_86e25e7a_a517_11eb_b043_0242ac1c0002row5_col3,#T_86e25e7a_a517_11eb_b043_0242ac1c0002row8_col10,#T_86e25e7a_a517_11eb_b043_0242ac1c0002row11_col5{\n",
              "            background-color:  #5572df;\n",
              "            color:  #000000;\n",
              "        }#T_86e25e7a_a517_11eb_b043_0242ac1c0002row5_col6,#T_86e25e7a_a517_11eb_b043_0242ac1c0002row9_col6{\n",
              "            background-color:  #4055c8;\n",
              "            color:  #f1f1f1;\n",
              "        }#T_86e25e7a_a517_11eb_b043_0242ac1c0002row5_col15{\n",
              "            background-color:  #bbd1f8;\n",
              "            color:  #000000;\n",
              "        }#T_86e25e7a_a517_11eb_b043_0242ac1c0002row6_col3,#T_86e25e7a_a517_11eb_b043_0242ac1c0002row10_col11{\n",
              "            background-color:  #8fb1fe;\n",
              "            color:  #000000;\n",
              "        }#T_86e25e7a_a517_11eb_b043_0242ac1c0002row6_col8,#T_86e25e7a_a517_11eb_b043_0242ac1c0002row9_col5,#T_86e25e7a_a517_11eb_b043_0242ac1c0002row12_col7,#T_86e25e7a_a517_11eb_b043_0242ac1c0002row12_col15,#T_86e25e7a_a517_11eb_b043_0242ac1c0002row14_col3,#T_86e25e7a_a517_11eb_b043_0242ac1c0002row15_col3{\n",
              "            background-color:  #6a8bef;\n",
              "            color:  #000000;\n",
              "        }#T_86e25e7a_a517_11eb_b043_0242ac1c0002row6_col14,#T_86e25e7a_a517_11eb_b043_0242ac1c0002row10_col4,#T_86e25e7a_a517_11eb_b043_0242ac1c0002row13_col7,#T_86e25e7a_a517_11eb_b043_0242ac1c0002row15_col2{\n",
              "            background-color:  #5d7ce6;\n",
              "            color:  #000000;\n",
              "        }#T_86e25e7a_a517_11eb_b043_0242ac1c0002row7_col4,#T_86e25e7a_a517_11eb_b043_0242ac1c0002row10_col15{\n",
              "            background-color:  #84a7fc;\n",
              "            color:  #000000;\n",
              "        }#T_86e25e7a_a517_11eb_b043_0242ac1c0002row7_col5,#T_86e25e7a_a517_11eb_b043_0242ac1c0002row8_col3,#T_86e25e7a_a517_11eb_b043_0242ac1c0002row13_col4{\n",
              "            background-color:  #7699f6;\n",
              "            color:  #000000;\n",
              "        }#T_86e25e7a_a517_11eb_b043_0242ac1c0002row7_col6{\n",
              "            background-color:  #3e51c5;\n",
              "            color:  #f1f1f1;\n",
              "        }#T_86e25e7a_a517_11eb_b043_0242ac1c0002row7_col14{\n",
              "            background-color:  #d2dbe8;\n",
              "            color:  #000000;\n",
              "        }#T_86e25e7a_a517_11eb_b043_0242ac1c0002row7_col15{\n",
              "            background-color:  #f6a586;\n",
              "            color:  #000000;\n",
              "        }#T_86e25e7a_a517_11eb_b043_0242ac1c0002row8_col11,#T_86e25e7a_a517_11eb_b043_0242ac1c0002row15_col6{\n",
              "            background-color:  #4257c9;\n",
              "            color:  #f1f1f1;\n",
              "        }#T_86e25e7a_a517_11eb_b043_0242ac1c0002row9_col4,#T_86e25e7a_a517_11eb_b043_0242ac1c0002row13_col11{\n",
              "            background-color:  #516ddb;\n",
              "            color:  #000000;\n",
              "        }#T_86e25e7a_a517_11eb_b043_0242ac1c0002row9_col7,#T_86e25e7a_a517_11eb_b043_0242ac1c0002row10_col2,#T_86e25e7a_a517_11eb_b043_0242ac1c0002row12_col4{\n",
              "            background-color:  #6687ed;\n",
              "            color:  #000000;\n",
              "        }#T_86e25e7a_a517_11eb_b043_0242ac1c0002row9_col8{\n",
              "            background-color:  #7b9ff9;\n",
              "            color:  #000000;\n",
              "        }#T_86e25e7a_a517_11eb_b043_0242ac1c0002row10_col0{\n",
              "            background-color:  #89acfd;\n",
              "            color:  #000000;\n",
              "        }#T_86e25e7a_a517_11eb_b043_0242ac1c0002row10_col1{\n",
              "            background-color:  #a9c6fd;\n",
              "            color:  #000000;\n",
              "        }#T_86e25e7a_a517_11eb_b043_0242ac1c0002row10_col3{\n",
              "            background-color:  #ecd3c5;\n",
              "            color:  #000000;\n",
              "        }#T_86e25e7a_a517_11eb_b043_0242ac1c0002row11_col1{\n",
              "            background-color:  #9dbdff;\n",
              "            color:  #000000;\n",
              "        }#T_86e25e7a_a517_11eb_b043_0242ac1c0002row11_col3{\n",
              "            background-color:  #9bbcff;\n",
              "            color:  #000000;\n",
              "        }#T_86e25e7a_a517_11eb_b043_0242ac1c0002row11_col10{\n",
              "            background-color:  #96b7ff;\n",
              "            color:  #000000;\n",
              "        }#T_86e25e7a_a517_11eb_b043_0242ac1c0002row12_col2,#T_86e25e7a_a517_11eb_b043_0242ac1c0002row14_col6{\n",
              "            background-color:  #485fd1;\n",
              "            color:  #f1f1f1;\n",
              "        }#T_86e25e7a_a517_11eb_b043_0242ac1c0002row13_col1,#T_86e25e7a_a517_11eb_b043_0242ac1c0002row13_col2,#T_86e25e7a_a517_11eb_b043_0242ac1c0002row14_col9,#T_86e25e7a_a517_11eb_b043_0242ac1c0002row14_col12{\n",
              "            background-color:  #536edd;\n",
              "            color:  #000000;\n",
              "        }#T_86e25e7a_a517_11eb_b043_0242ac1c0002row14_col7{\n",
              "            background-color:  #d7dce3;\n",
              "            color:  #000000;\n",
              "        }#T_86e25e7a_a517_11eb_b043_0242ac1c0002row14_col15{\n",
              "            background-color:  #d6dce4;\n",
              "            color:  #000000;\n",
              "        }#T_86e25e7a_a517_11eb_b043_0242ac1c0002row15_col5{\n",
              "            background-color:  #b1cbfc;\n",
              "            color:  #000000;\n",
              "        }#T_86e25e7a_a517_11eb_b043_0242ac1c0002row15_col7{\n",
              "            background-color:  #f7a889;\n",
              "            color:  #000000;\n",
              "        }#T_86e25e7a_a517_11eb_b043_0242ac1c0002row15_col14{\n",
              "            background-color:  #ccd9ed;\n",
              "            color:  #000000;\n",
              "        }</style><table id=\"T_86e25e7a_a517_11eb_b043_0242ac1c0002\" ><thead>    <tr>        <th class=\"blank level0\" ></th>        <th class=\"col_heading level0 col0\" >hospital</th>        <th class=\"col_heading level0 col1\" >hospital_type</th>        <th class=\"col_heading level0 col2\" >hospital_city</th>        <th class=\"col_heading level0 col3\" >hospital_region</th>        <th class=\"col_heading level0 col4\" >available_extra_rooms_in_hospital</th>        <th class=\"col_heading level0 col5\" >bed_grade</th>        <th class=\"col_heading level0 col6\" >city_code_patient</th>        <th class=\"col_heading level0 col7\" >patient_visitors</th>        <th class=\"col_heading level0 col8\" >admission_deposit</th>        <th class=\"col_heading level0 col9\" >department_index</th>        <th class=\"col_heading level0 col10\" >ward_facility_index</th>        <th class=\"col_heading level0 col11\" >ward_type_index</th>        <th class=\"col_heading level0 col12\" >illness_severity_index</th>        <th class=\"col_heading level0 col13\" >type_of_admission_index</th>        <th class=\"col_heading level0 col14\" >stay_days_index</th>        <th class=\"col_heading level0 col15\" >prediction</th>    </tr></thead><tbody>\n",
              "                <tr>\n",
              "                        <th id=\"T_86e25e7a_a517_11eb_b043_0242ac1c0002level0_row0\" class=\"row_heading level0 row0\" >hospital</th>\n",
              "                        <td id=\"T_86e25e7a_a517_11eb_b043_0242ac1c0002row0_col0\" class=\"data row0 col0\" >1.00</td>\n",
              "                        <td id=\"T_86e25e7a_a517_11eb_b043_0242ac1c0002row0_col1\" class=\"data row0 col1\" >0.04</td>\n",
              "                        <td id=\"T_86e25e7a_a517_11eb_b043_0242ac1c0002row0_col2\" class=\"data row0 col2\" >0.13</td>\n",
              "                        <td id=\"T_86e25e7a_a517_11eb_b043_0242ac1c0002row0_col3\" class=\"data row0 col3\" >-0.14</td>\n",
              "                        <td id=\"T_86e25e7a_a517_11eb_b043_0242ac1c0002row0_col4\" class=\"data row0 col4\" >-0.06</td>\n",
              "                        <td id=\"T_86e25e7a_a517_11eb_b043_0242ac1c0002row0_col5\" class=\"data row0 col5\" >-0.01</td>\n",
              "                        <td id=\"T_86e25e7a_a517_11eb_b043_0242ac1c0002row0_col6\" class=\"data row0 col6\" >-0.02</td>\n",
              "                        <td id=\"T_86e25e7a_a517_11eb_b043_0242ac1c0002row0_col7\" class=\"data row0 col7\" >-0.03</td>\n",
              "                        <td id=\"T_86e25e7a_a517_11eb_b043_0242ac1c0002row0_col8\" class=\"data row0 col8\" >0.04</td>\n",
              "                        <td id=\"T_86e25e7a_a517_11eb_b043_0242ac1c0002row0_col9\" class=\"data row0 col9\" >0.01</td>\n",
              "                        <td id=\"T_86e25e7a_a517_11eb_b043_0242ac1c0002row0_col10\" class=\"data row0 col10\" >0.13</td>\n",
              "                        <td id=\"T_86e25e7a_a517_11eb_b043_0242ac1c0002row0_col11\" class=\"data row0 col11\" >0.01</td>\n",
              "                        <td id=\"T_86e25e7a_a517_11eb_b043_0242ac1c0002row0_col12\" class=\"data row0 col12\" >0.00</td>\n",
              "                        <td id=\"T_86e25e7a_a517_11eb_b043_0242ac1c0002row0_col13\" class=\"data row0 col13\" >-0.00</td>\n",
              "                        <td id=\"T_86e25e7a_a517_11eb_b043_0242ac1c0002row0_col14\" class=\"data row0 col14\" >0.04</td>\n",
              "                        <td id=\"T_86e25e7a_a517_11eb_b043_0242ac1c0002row0_col15\" class=\"data row0 col15\" >0.01</td>\n",
              "            </tr>\n",
              "            <tr>\n",
              "                        <th id=\"T_86e25e7a_a517_11eb_b043_0242ac1c0002level0_row1\" class=\"row_heading level0 row1\" >hospital_type</th>\n",
              "                        <td id=\"T_86e25e7a_a517_11eb_b043_0242ac1c0002row1_col0\" class=\"data row1 col0\" >0.04</td>\n",
              "                        <td id=\"T_86e25e7a_a517_11eb_b043_0242ac1c0002row1_col1\" class=\"data row1 col1\" >1.00</td>\n",
              "                        <td id=\"T_86e25e7a_a517_11eb_b043_0242ac1c0002row1_col2\" class=\"data row1 col2\" >-0.01</td>\n",
              "                        <td id=\"T_86e25e7a_a517_11eb_b043_0242ac1c0002row1_col3\" class=\"data row1 col3\" >0.27</td>\n",
              "                        <td id=\"T_86e25e7a_a517_11eb_b043_0242ac1c0002row1_col4\" class=\"data row1 col4\" >-0.10</td>\n",
              "                        <td id=\"T_86e25e7a_a517_11eb_b043_0242ac1c0002row1_col5\" class=\"data row1 col5\" >0.03</td>\n",
              "                        <td id=\"T_86e25e7a_a517_11eb_b043_0242ac1c0002row1_col6\" class=\"data row1 col6\" >0.06</td>\n",
              "                        <td id=\"T_86e25e7a_a517_11eb_b043_0242ac1c0002row1_col7\" class=\"data row1 col7\" >-0.04</td>\n",
              "                        <td id=\"T_86e25e7a_a517_11eb_b043_0242ac1c0002row1_col8\" class=\"data row1 col8\" >0.02</td>\n",
              "                        <td id=\"T_86e25e7a_a517_11eb_b043_0242ac1c0002row1_col9\" class=\"data row1 col9\" >-0.03</td>\n",
              "                        <td id=\"T_86e25e7a_a517_11eb_b043_0242ac1c0002row1_col10\" class=\"data row1 col10\" >0.26</td>\n",
              "                        <td id=\"T_86e25e7a_a517_11eb_b043_0242ac1c0002row1_col11\" class=\"data row1 col11\" >0.22</td>\n",
              "                        <td id=\"T_86e25e7a_a517_11eb_b043_0242ac1c0002row1_col12\" class=\"data row1 col12\" >0.00</td>\n",
              "                        <td id=\"T_86e25e7a_a517_11eb_b043_0242ac1c0002row1_col13\" class=\"data row1 col13\" >-0.01</td>\n",
              "                        <td id=\"T_86e25e7a_a517_11eb_b043_0242ac1c0002row1_col14\" class=\"data row1 col14\" >0.05</td>\n",
              "                        <td id=\"T_86e25e7a_a517_11eb_b043_0242ac1c0002row1_col15\" class=\"data row1 col15\" >0.06</td>\n",
              "            </tr>\n",
              "            <tr>\n",
              "                        <th id=\"T_86e25e7a_a517_11eb_b043_0242ac1c0002level0_row2\" class=\"row_heading level0 row2\" >hospital_city</th>\n",
              "                        <td id=\"T_86e25e7a_a517_11eb_b043_0242ac1c0002row2_col0\" class=\"data row2 col0\" >0.13</td>\n",
              "                        <td id=\"T_86e25e7a_a517_11eb_b043_0242ac1c0002row2_col1\" class=\"data row2 col1\" >-0.01</td>\n",
              "                        <td id=\"T_86e25e7a_a517_11eb_b043_0242ac1c0002row2_col2\" class=\"data row2 col2\" >1.00</td>\n",
              "                        <td id=\"T_86e25e7a_a517_11eb_b043_0242ac1c0002row2_col3\" class=\"data row2 col3\" >0.01</td>\n",
              "                        <td id=\"T_86e25e7a_a517_11eb_b043_0242ac1c0002row2_col4\" class=\"data row2 col4\" >-0.04</td>\n",
              "                        <td id=\"T_86e25e7a_a517_11eb_b043_0242ac1c0002row2_col5\" class=\"data row2 col5\" >-0.05</td>\n",
              "                        <td id=\"T_86e25e7a_a517_11eb_b043_0242ac1c0002row2_col6\" class=\"data row2 col6\" >-0.03</td>\n",
              "                        <td id=\"T_86e25e7a_a517_11eb_b043_0242ac1c0002row2_col7\" class=\"data row2 col7\" >0.02</td>\n",
              "                        <td id=\"T_86e25e7a_a517_11eb_b043_0242ac1c0002row2_col8\" class=\"data row2 col8\" >-0.04</td>\n",
              "                        <td id=\"T_86e25e7a_a517_11eb_b043_0242ac1c0002row2_col9\" class=\"data row2 col9\" >-0.02</td>\n",
              "                        <td id=\"T_86e25e7a_a517_11eb_b043_0242ac1c0002row2_col10\" class=\"data row2 col10\" >0.10</td>\n",
              "                        <td id=\"T_86e25e7a_a517_11eb_b043_0242ac1c0002row2_col11\" class=\"data row2 col11\" >-0.04</td>\n",
              "                        <td id=\"T_86e25e7a_a517_11eb_b043_0242ac1c0002row2_col12\" class=\"data row2 col12\" >-0.00</td>\n",
              "                        <td id=\"T_86e25e7a_a517_11eb_b043_0242ac1c0002row2_col13\" class=\"data row2 col13\" >0.04</td>\n",
              "                        <td id=\"T_86e25e7a_a517_11eb_b043_0242ac1c0002row2_col14\" class=\"data row2 col14\" >0.01</td>\n",
              "                        <td id=\"T_86e25e7a_a517_11eb_b043_0242ac1c0002row2_col15\" class=\"data row2 col15\" >0.07</td>\n",
              "            </tr>\n",
              "            <tr>\n",
              "                        <th id=\"T_86e25e7a_a517_11eb_b043_0242ac1c0002level0_row3\" class=\"row_heading level0 row3\" >hospital_region</th>\n",
              "                        <td id=\"T_86e25e7a_a517_11eb_b043_0242ac1c0002row3_col0\" class=\"data row3 col0\" >-0.14</td>\n",
              "                        <td id=\"T_86e25e7a_a517_11eb_b043_0242ac1c0002row3_col1\" class=\"data row3 col1\" >0.27</td>\n",
              "                        <td id=\"T_86e25e7a_a517_11eb_b043_0242ac1c0002row3_col2\" class=\"data row3 col2\" >0.01</td>\n",
              "                        <td id=\"T_86e25e7a_a517_11eb_b043_0242ac1c0002row3_col3\" class=\"data row3 col3\" >1.00</td>\n",
              "                        <td id=\"T_86e25e7a_a517_11eb_b043_0242ac1c0002row3_col4\" class=\"data row3 col4\" >-0.01</td>\n",
              "                        <td id=\"T_86e25e7a_a517_11eb_b043_0242ac1c0002row3_col5\" class=\"data row3 col5\" >-0.04</td>\n",
              "                        <td id=\"T_86e25e7a_a517_11eb_b043_0242ac1c0002row3_col6\" class=\"data row3 col6\" >0.15</td>\n",
              "                        <td id=\"T_86e25e7a_a517_11eb_b043_0242ac1c0002row3_col7\" class=\"data row3 col7\" >-0.02</td>\n",
              "                        <td id=\"T_86e25e7a_a517_11eb_b043_0242ac1c0002row3_col8\" class=\"data row3 col8\" >0.07</td>\n",
              "                        <td id=\"T_86e25e7a_a517_11eb_b043_0242ac1c0002row3_col9\" class=\"data row3 col9\" >-0.03</td>\n",
              "                        <td id=\"T_86e25e7a_a517_11eb_b043_0242ac1c0002row3_col10\" class=\"data row3 col10\" >0.51</td>\n",
              "                        <td id=\"T_86e25e7a_a517_11eb_b043_0242ac1c0002row3_col11\" class=\"data row3 col11\" >0.19</td>\n",
              "                        <td id=\"T_86e25e7a_a517_11eb_b043_0242ac1c0002row3_col12\" class=\"data row3 col12\" >0.01</td>\n",
              "                        <td id=\"T_86e25e7a_a517_11eb_b043_0242ac1c0002row3_col13\" class=\"data row3 col13\" >0.05</td>\n",
              "                        <td id=\"T_86e25e7a_a517_11eb_b043_0242ac1c0002row3_col14\" class=\"data row3 col14\" >0.04</td>\n",
              "                        <td id=\"T_86e25e7a_a517_11eb_b043_0242ac1c0002row3_col15\" class=\"data row3 col15\" >0.04</td>\n",
              "            </tr>\n",
              "            <tr>\n",
              "                        <th id=\"T_86e25e7a_a517_11eb_b043_0242ac1c0002level0_row4\" class=\"row_heading level0 row4\" >available_extra_rooms_in_hospital</th>\n",
              "                        <td id=\"T_86e25e7a_a517_11eb_b043_0242ac1c0002row4_col0\" class=\"data row4 col0\" >-0.06</td>\n",
              "                        <td id=\"T_86e25e7a_a517_11eb_b043_0242ac1c0002row4_col1\" class=\"data row4 col1\" >-0.10</td>\n",
              "                        <td id=\"T_86e25e7a_a517_11eb_b043_0242ac1c0002row4_col2\" class=\"data row4 col2\" >-0.04</td>\n",
              "                        <td id=\"T_86e25e7a_a517_11eb_b043_0242ac1c0002row4_col3\" class=\"data row4 col3\" >-0.01</td>\n",
              "                        <td id=\"T_86e25e7a_a517_11eb_b043_0242ac1c0002row4_col4\" class=\"data row4 col4\" >1.00</td>\n",
              "                        <td id=\"T_86e25e7a_a517_11eb_b043_0242ac1c0002row4_col5\" class=\"data row4 col5\" >-0.12</td>\n",
              "                        <td id=\"T_86e25e7a_a517_11eb_b043_0242ac1c0002row4_col6\" class=\"data row4 col6\" >-0.01</td>\n",
              "                        <td id=\"T_86e25e7a_a517_11eb_b043_0242ac1c0002row4_col7\" class=\"data row4 col7\" >0.09</td>\n",
              "                        <td id=\"T_86e25e7a_a517_11eb_b043_0242ac1c0002row4_col8\" class=\"data row4 col8\" >-0.14</td>\n",
              "                        <td id=\"T_86e25e7a_a517_11eb_b043_0242ac1c0002row4_col9\" class=\"data row4 col9\" >-0.09</td>\n",
              "                        <td id=\"T_86e25e7a_a517_11eb_b043_0242ac1c0002row4_col10\" class=\"data row4 col10\" >-0.05</td>\n",
              "                        <td id=\"T_86e25e7a_a517_11eb_b043_0242ac1c0002row4_col11\" class=\"data row4 col11\" >-0.05</td>\n",
              "                        <td id=\"T_86e25e7a_a517_11eb_b043_0242ac1c0002row4_col12\" class=\"data row4 col12\" >-0.02</td>\n",
              "                        <td id=\"T_86e25e7a_a517_11eb_b043_0242ac1c0002row4_col13\" class=\"data row4 col13\" >0.04</td>\n",
              "                        <td id=\"T_86e25e7a_a517_11eb_b043_0242ac1c0002row4_col14\" class=\"data row4 col14\" >-0.10</td>\n",
              "                        <td id=\"T_86e25e7a_a517_11eb_b043_0242ac1c0002row4_col15\" class=\"data row4 col15\" >-0.18</td>\n",
              "            </tr>\n",
              "            <tr>\n",
              "                        <th id=\"T_86e25e7a_a517_11eb_b043_0242ac1c0002level0_row5\" class=\"row_heading level0 row5\" >bed_grade</th>\n",
              "                        <td id=\"T_86e25e7a_a517_11eb_b043_0242ac1c0002row5_col0\" class=\"data row5 col0\" >-0.01</td>\n",
              "                        <td id=\"T_86e25e7a_a517_11eb_b043_0242ac1c0002row5_col1\" class=\"data row5 col1\" >0.03</td>\n",
              "                        <td id=\"T_86e25e7a_a517_11eb_b043_0242ac1c0002row5_col2\" class=\"data row5 col2\" >-0.05</td>\n",
              "                        <td id=\"T_86e25e7a_a517_11eb_b043_0242ac1c0002row5_col3\" class=\"data row5 col3\" >-0.04</td>\n",
              "                        <td id=\"T_86e25e7a_a517_11eb_b043_0242ac1c0002row5_col4\" class=\"data row5 col4\" >-0.12</td>\n",
              "                        <td id=\"T_86e25e7a_a517_11eb_b043_0242ac1c0002row5_col5\" class=\"data row5 col5\" >1.00</td>\n",
              "                        <td id=\"T_86e25e7a_a517_11eb_b043_0242ac1c0002row5_col6\" class=\"data row5 col6\" >-0.01</td>\n",
              "                        <td id=\"T_86e25e7a_a517_11eb_b043_0242ac1c0002row5_col7\" class=\"data row5 col7\" >0.09</td>\n",
              "                        <td id=\"T_86e25e7a_a517_11eb_b043_0242ac1c0002row5_col8\" class=\"data row5 col8\" >0.08</td>\n",
              "                        <td id=\"T_86e25e7a_a517_11eb_b043_0242ac1c0002row5_col9\" class=\"data row5 col9\" >0.05</td>\n",
              "                        <td id=\"T_86e25e7a_a517_11eb_b043_0242ac1c0002row5_col10\" class=\"data row5 col10\" >-0.08</td>\n",
              "                        <td id=\"T_86e25e7a_a517_11eb_b043_0242ac1c0002row5_col11\" class=\"data row5 col11\" >-0.02</td>\n",
              "                        <td id=\"T_86e25e7a_a517_11eb_b043_0242ac1c0002row5_col12\" class=\"data row5 col12\" >-0.05</td>\n",
              "                        <td id=\"T_86e25e7a_a517_11eb_b043_0242ac1c0002row5_col13\" class=\"data row5 col13\" >-0.06</td>\n",
              "                        <td id=\"T_86e25e7a_a517_11eb_b043_0242ac1c0002row5_col14\" class=\"data row5 col14\" >0.04</td>\n",
              "                        <td id=\"T_86e25e7a_a517_11eb_b043_0242ac1c0002row5_col15\" class=\"data row5 col15\" >0.28</td>\n",
              "            </tr>\n",
              "            <tr>\n",
              "                        <th id=\"T_86e25e7a_a517_11eb_b043_0242ac1c0002level0_row6\" class=\"row_heading level0 row6\" >city_code_patient</th>\n",
              "                        <td id=\"T_86e25e7a_a517_11eb_b043_0242ac1c0002row6_col0\" class=\"data row6 col0\" >-0.02</td>\n",
              "                        <td id=\"T_86e25e7a_a517_11eb_b043_0242ac1c0002row6_col1\" class=\"data row6 col1\" >0.06</td>\n",
              "                        <td id=\"T_86e25e7a_a517_11eb_b043_0242ac1c0002row6_col2\" class=\"data row6 col2\" >-0.03</td>\n",
              "                        <td id=\"T_86e25e7a_a517_11eb_b043_0242ac1c0002row6_col3\" class=\"data row6 col3\" >0.15</td>\n",
              "                        <td id=\"T_86e25e7a_a517_11eb_b043_0242ac1c0002row6_col4\" class=\"data row6 col4\" >-0.01</td>\n",
              "                        <td id=\"T_86e25e7a_a517_11eb_b043_0242ac1c0002row6_col5\" class=\"data row6 col5\" >-0.01</td>\n",
              "                        <td id=\"T_86e25e7a_a517_11eb_b043_0242ac1c0002row6_col6\" class=\"data row6 col6\" >1.00</td>\n",
              "                        <td id=\"T_86e25e7a_a517_11eb_b043_0242ac1c0002row6_col7\" class=\"data row6 col7\" >-0.01</td>\n",
              "                        <td id=\"T_86e25e7a_a517_11eb_b043_0242ac1c0002row6_col8\" class=\"data row6 col8\" >0.03</td>\n",
              "                        <td id=\"T_86e25e7a_a517_11eb_b043_0242ac1c0002row6_col9\" class=\"data row6 col9\" >-0.01</td>\n",
              "                        <td id=\"T_86e25e7a_a517_11eb_b043_0242ac1c0002row6_col10\" class=\"data row6 col10\" >0.14</td>\n",
              "                        <td id=\"T_86e25e7a_a517_11eb_b043_0242ac1c0002row6_col11\" class=\"data row6 col11\" >0.08</td>\n",
              "                        <td id=\"T_86e25e7a_a517_11eb_b043_0242ac1c0002row6_col12\" class=\"data row6 col12\" >0.01</td>\n",
              "                        <td id=\"T_86e25e7a_a517_11eb_b043_0242ac1c0002row6_col13\" class=\"data row6 col13\" >0.04</td>\n",
              "                        <td id=\"T_86e25e7a_a517_11eb_b043_0242ac1c0002row6_col14\" class=\"data row6 col14\" >0.02</td>\n",
              "                        <td id=\"T_86e25e7a_a517_11eb_b043_0242ac1c0002row6_col15\" class=\"data row6 col15\" >-0.00</td>\n",
              "            </tr>\n",
              "            <tr>\n",
              "                        <th id=\"T_86e25e7a_a517_11eb_b043_0242ac1c0002level0_row7\" class=\"row_heading level0 row7\" >patient_visitors</th>\n",
              "                        <td id=\"T_86e25e7a_a517_11eb_b043_0242ac1c0002row7_col0\" class=\"data row7 col0\" >-0.03</td>\n",
              "                        <td id=\"T_86e25e7a_a517_11eb_b043_0242ac1c0002row7_col1\" class=\"data row7 col1\" >-0.04</td>\n",
              "                        <td id=\"T_86e25e7a_a517_11eb_b043_0242ac1c0002row7_col2\" class=\"data row7 col2\" >0.02</td>\n",
              "                        <td id=\"T_86e25e7a_a517_11eb_b043_0242ac1c0002row7_col3\" class=\"data row7 col3\" >-0.02</td>\n",
              "                        <td id=\"T_86e25e7a_a517_11eb_b043_0242ac1c0002row7_col4\" class=\"data row7 col4\" >0.09</td>\n",
              "                        <td id=\"T_86e25e7a_a517_11eb_b043_0242ac1c0002row7_col5\" class=\"data row7 col5\" >0.09</td>\n",
              "                        <td id=\"T_86e25e7a_a517_11eb_b043_0242ac1c0002row7_col6\" class=\"data row7 col6\" >-0.01</td>\n",
              "                        <td id=\"T_86e25e7a_a517_11eb_b043_0242ac1c0002row7_col7\" class=\"data row7 col7\" >1.00</td>\n",
              "                        <td id=\"T_86e25e7a_a517_11eb_b043_0242ac1c0002row7_col8\" class=\"data row7 col8\" >-0.15</td>\n",
              "                        <td id=\"T_86e25e7a_a517_11eb_b043_0242ac1c0002row7_col9\" class=\"data row7 col9\" >0.01</td>\n",
              "                        <td id=\"T_86e25e7a_a517_11eb_b043_0242ac1c0002row7_col10\" class=\"data row7 col10\" >-0.03</td>\n",
              "                        <td id=\"T_86e25e7a_a517_11eb_b043_0242ac1c0002row7_col11\" class=\"data row7 col11\" >0.05</td>\n",
              "                        <td id=\"T_86e25e7a_a517_11eb_b043_0242ac1c0002row7_col12\" class=\"data row7 col12\" >0.02</td>\n",
              "                        <td id=\"T_86e25e7a_a517_11eb_b043_0242ac1c0002row7_col13\" class=\"data row7 col13\" >-0.02</td>\n",
              "                        <td id=\"T_86e25e7a_a517_11eb_b043_0242ac1c0002row7_col14\" class=\"data row7 col14\" >0.40</td>\n",
              "                        <td id=\"T_86e25e7a_a517_11eb_b043_0242ac1c0002row7_col15\" class=\"data row7 col15\" >0.67</td>\n",
              "            </tr>\n",
              "            <tr>\n",
              "                        <th id=\"T_86e25e7a_a517_11eb_b043_0242ac1c0002level0_row8\" class=\"row_heading level0 row8\" >admission_deposit</th>\n",
              "                        <td id=\"T_86e25e7a_a517_11eb_b043_0242ac1c0002row8_col0\" class=\"data row8 col0\" >0.04</td>\n",
              "                        <td id=\"T_86e25e7a_a517_11eb_b043_0242ac1c0002row8_col1\" class=\"data row8 col1\" >0.02</td>\n",
              "                        <td id=\"T_86e25e7a_a517_11eb_b043_0242ac1c0002row8_col2\" class=\"data row8 col2\" >-0.04</td>\n",
              "                        <td id=\"T_86e25e7a_a517_11eb_b043_0242ac1c0002row8_col3\" class=\"data row8 col3\" >0.07</td>\n",
              "                        <td id=\"T_86e25e7a_a517_11eb_b043_0242ac1c0002row8_col4\" class=\"data row8 col4\" >-0.14</td>\n",
              "                        <td id=\"T_86e25e7a_a517_11eb_b043_0242ac1c0002row8_col5\" class=\"data row8 col5\" >0.08</td>\n",
              "                        <td id=\"T_86e25e7a_a517_11eb_b043_0242ac1c0002row8_col6\" class=\"data row8 col6\" >0.03</td>\n",
              "                        <td id=\"T_86e25e7a_a517_11eb_b043_0242ac1c0002row8_col7\" class=\"data row8 col7\" >-0.15</td>\n",
              "                        <td id=\"T_86e25e7a_a517_11eb_b043_0242ac1c0002row8_col8\" class=\"data row8 col8\" >1.00</td>\n",
              "                        <td id=\"T_86e25e7a_a517_11eb_b043_0242ac1c0002row8_col9\" class=\"data row8 col9\" >0.08</td>\n",
              "                        <td id=\"T_86e25e7a_a517_11eb_b043_0242ac1c0002row8_col10\" class=\"data row8 col10\" >0.02</td>\n",
              "                        <td id=\"T_86e25e7a_a517_11eb_b043_0242ac1c0002row8_col11\" class=\"data row8 col11\" >-0.03</td>\n",
              "                        <td id=\"T_86e25e7a_a517_11eb_b043_0242ac1c0002row8_col12\" class=\"data row8 col12\" >-0.02</td>\n",
              "                        <td id=\"T_86e25e7a_a517_11eb_b043_0242ac1c0002row8_col13\" class=\"data row8 col13\" >-0.08</td>\n",
              "                        <td id=\"T_86e25e7a_a517_11eb_b043_0242ac1c0002row8_col14\" class=\"data row8 col14\" >-0.09</td>\n",
              "                        <td id=\"T_86e25e7a_a517_11eb_b043_0242ac1c0002row8_col15\" class=\"data row8 col15\" >-0.11</td>\n",
              "            </tr>\n",
              "            <tr>\n",
              "                        <th id=\"T_86e25e7a_a517_11eb_b043_0242ac1c0002level0_row9\" class=\"row_heading level0 row9\" >department_index</th>\n",
              "                        <td id=\"T_86e25e7a_a517_11eb_b043_0242ac1c0002row9_col0\" class=\"data row9 col0\" >0.01</td>\n",
              "                        <td id=\"T_86e25e7a_a517_11eb_b043_0242ac1c0002row9_col1\" class=\"data row9 col1\" >-0.03</td>\n",
              "                        <td id=\"T_86e25e7a_a517_11eb_b043_0242ac1c0002row9_col2\" class=\"data row9 col2\" >-0.02</td>\n",
              "                        <td id=\"T_86e25e7a_a517_11eb_b043_0242ac1c0002row9_col3\" class=\"data row9 col3\" >-0.03</td>\n",
              "                        <td id=\"T_86e25e7a_a517_11eb_b043_0242ac1c0002row9_col4\" class=\"data row9 col4\" >-0.09</td>\n",
              "                        <td id=\"T_86e25e7a_a517_11eb_b043_0242ac1c0002row9_col5\" class=\"data row9 col5\" >0.05</td>\n",
              "                        <td id=\"T_86e25e7a_a517_11eb_b043_0242ac1c0002row9_col6\" class=\"data row9 col6\" >-0.01</td>\n",
              "                        <td id=\"T_86e25e7a_a517_11eb_b043_0242ac1c0002row9_col7\" class=\"data row9 col7\" >0.01</td>\n",
              "                        <td id=\"T_86e25e7a_a517_11eb_b043_0242ac1c0002row9_col8\" class=\"data row9 col8\" >0.08</td>\n",
              "                        <td id=\"T_86e25e7a_a517_11eb_b043_0242ac1c0002row9_col9\" class=\"data row9 col9\" >1.00</td>\n",
              "                        <td id=\"T_86e25e7a_a517_11eb_b043_0242ac1c0002row9_col10\" class=\"data row9 col10\" >-0.01</td>\n",
              "                        <td id=\"T_86e25e7a_a517_11eb_b043_0242ac1c0002row9_col11\" class=\"data row9 col11\" >0.02</td>\n",
              "                        <td id=\"T_86e25e7a_a517_11eb_b043_0242ac1c0002row9_col12\" class=\"data row9 col12\" >0.00</td>\n",
              "                        <td id=\"T_86e25e7a_a517_11eb_b043_0242ac1c0002row9_col13\" class=\"data row9 col13\" >-0.02</td>\n",
              "                        <td id=\"T_86e25e7a_a517_11eb_b043_0242ac1c0002row9_col14\" class=\"data row9 col14\" >-0.00</td>\n",
              "                        <td id=\"T_86e25e7a_a517_11eb_b043_0242ac1c0002row9_col15\" class=\"data row9 col15\" >0.05</td>\n",
              "            </tr>\n",
              "            <tr>\n",
              "                        <th id=\"T_86e25e7a_a517_11eb_b043_0242ac1c0002level0_row10\" class=\"row_heading level0 row10\" >ward_facility_index</th>\n",
              "                        <td id=\"T_86e25e7a_a517_11eb_b043_0242ac1c0002row10_col0\" class=\"data row10 col0\" >0.13</td>\n",
              "                        <td id=\"T_86e25e7a_a517_11eb_b043_0242ac1c0002row10_col1\" class=\"data row10 col1\" >0.26</td>\n",
              "                        <td id=\"T_86e25e7a_a517_11eb_b043_0242ac1c0002row10_col2\" class=\"data row10 col2\" >0.10</td>\n",
              "                        <td id=\"T_86e25e7a_a517_11eb_b043_0242ac1c0002row10_col3\" class=\"data row10 col3\" >0.51</td>\n",
              "                        <td id=\"T_86e25e7a_a517_11eb_b043_0242ac1c0002row10_col4\" class=\"data row10 col4\" >-0.05</td>\n",
              "                        <td id=\"T_86e25e7a_a517_11eb_b043_0242ac1c0002row10_col5\" class=\"data row10 col5\" >-0.08</td>\n",
              "                        <td id=\"T_86e25e7a_a517_11eb_b043_0242ac1c0002row10_col6\" class=\"data row10 col6\" >0.14</td>\n",
              "                        <td id=\"T_86e25e7a_a517_11eb_b043_0242ac1c0002row10_col7\" class=\"data row10 col7\" >-0.03</td>\n",
              "                        <td id=\"T_86e25e7a_a517_11eb_b043_0242ac1c0002row10_col8\" class=\"data row10 col8\" >0.02</td>\n",
              "                        <td id=\"T_86e25e7a_a517_11eb_b043_0242ac1c0002row10_col9\" class=\"data row10 col9\" >-0.01</td>\n",
              "                        <td id=\"T_86e25e7a_a517_11eb_b043_0242ac1c0002row10_col10\" class=\"data row10 col10\" >1.00</td>\n",
              "                        <td id=\"T_86e25e7a_a517_11eb_b043_0242ac1c0002row10_col11\" class=\"data row10 col11\" >0.22</td>\n",
              "                        <td id=\"T_86e25e7a_a517_11eb_b043_0242ac1c0002row10_col12\" class=\"data row10 col12\" >0.01</td>\n",
              "                        <td id=\"T_86e25e7a_a517_11eb_b043_0242ac1c0002row10_col13\" class=\"data row10 col13\" >0.07</td>\n",
              "                        <td id=\"T_86e25e7a_a517_11eb_b043_0242ac1c0002row10_col14\" class=\"data row10 col14\" >0.03</td>\n",
              "                        <td id=\"T_86e25e7a_a517_11eb_b043_0242ac1c0002row10_col15\" class=\"data row10 col15\" >0.09</td>\n",
              "            </tr>\n",
              "            <tr>\n",
              "                        <th id=\"T_86e25e7a_a517_11eb_b043_0242ac1c0002level0_row11\" class=\"row_heading level0 row11\" >ward_type_index</th>\n",
              "                        <td id=\"T_86e25e7a_a517_11eb_b043_0242ac1c0002row11_col0\" class=\"data row11 col0\" >0.01</td>\n",
              "                        <td id=\"T_86e25e7a_a517_11eb_b043_0242ac1c0002row11_col1\" class=\"data row11 col1\" >0.22</td>\n",
              "                        <td id=\"T_86e25e7a_a517_11eb_b043_0242ac1c0002row11_col2\" class=\"data row11 col2\" >-0.04</td>\n",
              "                        <td id=\"T_86e25e7a_a517_11eb_b043_0242ac1c0002row11_col3\" class=\"data row11 col3\" >0.19</td>\n",
              "                        <td id=\"T_86e25e7a_a517_11eb_b043_0242ac1c0002row11_col4\" class=\"data row11 col4\" >-0.05</td>\n",
              "                        <td id=\"T_86e25e7a_a517_11eb_b043_0242ac1c0002row11_col5\" class=\"data row11 col5\" >-0.02</td>\n",
              "                        <td id=\"T_86e25e7a_a517_11eb_b043_0242ac1c0002row11_col6\" class=\"data row11 col6\" >0.08</td>\n",
              "                        <td id=\"T_86e25e7a_a517_11eb_b043_0242ac1c0002row11_col7\" class=\"data row11 col7\" >0.05</td>\n",
              "                        <td id=\"T_86e25e7a_a517_11eb_b043_0242ac1c0002row11_col8\" class=\"data row11 col8\" >-0.03</td>\n",
              "                        <td id=\"T_86e25e7a_a517_11eb_b043_0242ac1c0002row11_col9\" class=\"data row11 col9\" >0.02</td>\n",
              "                        <td id=\"T_86e25e7a_a517_11eb_b043_0242ac1c0002row11_col10\" class=\"data row11 col10\" >0.22</td>\n",
              "                        <td id=\"T_86e25e7a_a517_11eb_b043_0242ac1c0002row11_col11\" class=\"data row11 col11\" >1.00</td>\n",
              "                        <td id=\"T_86e25e7a_a517_11eb_b043_0242ac1c0002row11_col12\" class=\"data row11 col12\" >0.01</td>\n",
              "                        <td id=\"T_86e25e7a_a517_11eb_b043_0242ac1c0002row11_col13\" class=\"data row11 col13\" >0.03</td>\n",
              "                        <td id=\"T_86e25e7a_a517_11eb_b043_0242ac1c0002row11_col14\" class=\"data row11 col14\" >0.08</td>\n",
              "                        <td id=\"T_86e25e7a_a517_11eb_b043_0242ac1c0002row11_col15\" class=\"data row11 col15\" >0.03</td>\n",
              "            </tr>\n",
              "            <tr>\n",
              "                        <th id=\"T_86e25e7a_a517_11eb_b043_0242ac1c0002level0_row12\" class=\"row_heading level0 row12\" >illness_severity_index</th>\n",
              "                        <td id=\"T_86e25e7a_a517_11eb_b043_0242ac1c0002row12_col0\" class=\"data row12 col0\" >0.00</td>\n",
              "                        <td id=\"T_86e25e7a_a517_11eb_b043_0242ac1c0002row12_col1\" class=\"data row12 col1\" >0.00</td>\n",
              "                        <td id=\"T_86e25e7a_a517_11eb_b043_0242ac1c0002row12_col2\" class=\"data row12 col2\" >-0.00</td>\n",
              "                        <td id=\"T_86e25e7a_a517_11eb_b043_0242ac1c0002row12_col3\" class=\"data row12 col3\" >0.01</td>\n",
              "                        <td id=\"T_86e25e7a_a517_11eb_b043_0242ac1c0002row12_col4\" class=\"data row12 col4\" >-0.02</td>\n",
              "                        <td id=\"T_86e25e7a_a517_11eb_b043_0242ac1c0002row12_col5\" class=\"data row12 col5\" >-0.05</td>\n",
              "                        <td id=\"T_86e25e7a_a517_11eb_b043_0242ac1c0002row12_col6\" class=\"data row12 col6\" >0.01</td>\n",
              "                        <td id=\"T_86e25e7a_a517_11eb_b043_0242ac1c0002row12_col7\" class=\"data row12 col7\" >0.02</td>\n",
              "                        <td id=\"T_86e25e7a_a517_11eb_b043_0242ac1c0002row12_col8\" class=\"data row12 col8\" >-0.02</td>\n",
              "                        <td id=\"T_86e25e7a_a517_11eb_b043_0242ac1c0002row12_col9\" class=\"data row12 col9\" >0.00</td>\n",
              "                        <td id=\"T_86e25e7a_a517_11eb_b043_0242ac1c0002row12_col10\" class=\"data row12 col10\" >0.01</td>\n",
              "                        <td id=\"T_86e25e7a_a517_11eb_b043_0242ac1c0002row12_col11\" class=\"data row12 col11\" >0.01</td>\n",
              "                        <td id=\"T_86e25e7a_a517_11eb_b043_0242ac1c0002row12_col12\" class=\"data row12 col12\" >1.00</td>\n",
              "                        <td id=\"T_86e25e7a_a517_11eb_b043_0242ac1c0002row12_col13\" class=\"data row12 col13\" >0.00</td>\n",
              "                        <td id=\"T_86e25e7a_a517_11eb_b043_0242ac1c0002row12_col14\" class=\"data row12 col14\" >0.03</td>\n",
              "                        <td id=\"T_86e25e7a_a517_11eb_b043_0242ac1c0002row12_col15\" class=\"data row12 col15\" >-0.00</td>\n",
              "            </tr>\n",
              "            <tr>\n",
              "                        <th id=\"T_86e25e7a_a517_11eb_b043_0242ac1c0002level0_row13\" class=\"row_heading level0 row13\" >type_of_admission_index</th>\n",
              "                        <td id=\"T_86e25e7a_a517_11eb_b043_0242ac1c0002row13_col0\" class=\"data row13 col0\" >-0.00</td>\n",
              "                        <td id=\"T_86e25e7a_a517_11eb_b043_0242ac1c0002row13_col1\" class=\"data row13 col1\" >-0.01</td>\n",
              "                        <td id=\"T_86e25e7a_a517_11eb_b043_0242ac1c0002row13_col2\" class=\"data row13 col2\" >0.04</td>\n",
              "                        <td id=\"T_86e25e7a_a517_11eb_b043_0242ac1c0002row13_col3\" class=\"data row13 col3\" >0.05</td>\n",
              "                        <td id=\"T_86e25e7a_a517_11eb_b043_0242ac1c0002row13_col4\" class=\"data row13 col4\" >0.04</td>\n",
              "                        <td id=\"T_86e25e7a_a517_11eb_b043_0242ac1c0002row13_col5\" class=\"data row13 col5\" >-0.06</td>\n",
              "                        <td id=\"T_86e25e7a_a517_11eb_b043_0242ac1c0002row13_col6\" class=\"data row13 col6\" >0.04</td>\n",
              "                        <td id=\"T_86e25e7a_a517_11eb_b043_0242ac1c0002row13_col7\" class=\"data row13 col7\" >-0.02</td>\n",
              "                        <td id=\"T_86e25e7a_a517_11eb_b043_0242ac1c0002row13_col8\" class=\"data row13 col8\" >-0.08</td>\n",
              "                        <td id=\"T_86e25e7a_a517_11eb_b043_0242ac1c0002row13_col9\" class=\"data row13 col9\" >-0.02</td>\n",
              "                        <td id=\"T_86e25e7a_a517_11eb_b043_0242ac1c0002row13_col10\" class=\"data row13 col10\" >0.07</td>\n",
              "                        <td id=\"T_86e25e7a_a517_11eb_b043_0242ac1c0002row13_col11\" class=\"data row13 col11\" >0.03</td>\n",
              "                        <td id=\"T_86e25e7a_a517_11eb_b043_0242ac1c0002row13_col12\" class=\"data row13 col12\" >0.00</td>\n",
              "                        <td id=\"T_86e25e7a_a517_11eb_b043_0242ac1c0002row13_col13\" class=\"data row13 col13\" >1.00</td>\n",
              "                        <td id=\"T_86e25e7a_a517_11eb_b043_0242ac1c0002row13_col14\" class=\"data row13 col14\" >-0.00</td>\n",
              "                        <td id=\"T_86e25e7a_a517_11eb_b043_0242ac1c0002row13_col15\" class=\"data row13 col15\" >-0.02</td>\n",
              "            </tr>\n",
              "            <tr>\n",
              "                        <th id=\"T_86e25e7a_a517_11eb_b043_0242ac1c0002level0_row14\" class=\"row_heading level0 row14\" >stay_days_index</th>\n",
              "                        <td id=\"T_86e25e7a_a517_11eb_b043_0242ac1c0002row14_col0\" class=\"data row14 col0\" >0.04</td>\n",
              "                        <td id=\"T_86e25e7a_a517_11eb_b043_0242ac1c0002row14_col1\" class=\"data row14 col1\" >0.05</td>\n",
              "                        <td id=\"T_86e25e7a_a517_11eb_b043_0242ac1c0002row14_col2\" class=\"data row14 col2\" >0.01</td>\n",
              "                        <td id=\"T_86e25e7a_a517_11eb_b043_0242ac1c0002row14_col3\" class=\"data row14 col3\" >0.04</td>\n",
              "                        <td id=\"T_86e25e7a_a517_11eb_b043_0242ac1c0002row14_col4\" class=\"data row14 col4\" >-0.10</td>\n",
              "                        <td id=\"T_86e25e7a_a517_11eb_b043_0242ac1c0002row14_col5\" class=\"data row14 col5\" >0.04</td>\n",
              "                        <td id=\"T_86e25e7a_a517_11eb_b043_0242ac1c0002row14_col6\" class=\"data row14 col6\" >0.02</td>\n",
              "                        <td id=\"T_86e25e7a_a517_11eb_b043_0242ac1c0002row14_col7\" class=\"data row14 col7\" >0.40</td>\n",
              "                        <td id=\"T_86e25e7a_a517_11eb_b043_0242ac1c0002row14_col8\" class=\"data row14 col8\" >-0.09</td>\n",
              "                        <td id=\"T_86e25e7a_a517_11eb_b043_0242ac1c0002row14_col9\" class=\"data row14 col9\" >-0.00</td>\n",
              "                        <td id=\"T_86e25e7a_a517_11eb_b043_0242ac1c0002row14_col10\" class=\"data row14 col10\" >0.03</td>\n",
              "                        <td id=\"T_86e25e7a_a517_11eb_b043_0242ac1c0002row14_col11\" class=\"data row14 col11\" >0.08</td>\n",
              "                        <td id=\"T_86e25e7a_a517_11eb_b043_0242ac1c0002row14_col12\" class=\"data row14 col12\" >0.03</td>\n",
              "                        <td id=\"T_86e25e7a_a517_11eb_b043_0242ac1c0002row14_col13\" class=\"data row14 col13\" >-0.00</td>\n",
              "                        <td id=\"T_86e25e7a_a517_11eb_b043_0242ac1c0002row14_col14\" class=\"data row14 col14\" >1.00</td>\n",
              "                        <td id=\"T_86e25e7a_a517_11eb_b043_0242ac1c0002row14_col15\" class=\"data row14 col15\" >0.38</td>\n",
              "            </tr>\n",
              "            <tr>\n",
              "                        <th id=\"T_86e25e7a_a517_11eb_b043_0242ac1c0002level0_row15\" class=\"row_heading level0 row15\" >prediction</th>\n",
              "                        <td id=\"T_86e25e7a_a517_11eb_b043_0242ac1c0002row15_col0\" class=\"data row15 col0\" >0.01</td>\n",
              "                        <td id=\"T_86e25e7a_a517_11eb_b043_0242ac1c0002row15_col1\" class=\"data row15 col1\" >0.06</td>\n",
              "                        <td id=\"T_86e25e7a_a517_11eb_b043_0242ac1c0002row15_col2\" class=\"data row15 col2\" >0.07</td>\n",
              "                        <td id=\"T_86e25e7a_a517_11eb_b043_0242ac1c0002row15_col3\" class=\"data row15 col3\" >0.04</td>\n",
              "                        <td id=\"T_86e25e7a_a517_11eb_b043_0242ac1c0002row15_col4\" class=\"data row15 col4\" >-0.18</td>\n",
              "                        <td id=\"T_86e25e7a_a517_11eb_b043_0242ac1c0002row15_col5\" class=\"data row15 col5\" >0.28</td>\n",
              "                        <td id=\"T_86e25e7a_a517_11eb_b043_0242ac1c0002row15_col6\" class=\"data row15 col6\" >-0.00</td>\n",
              "                        <td id=\"T_86e25e7a_a517_11eb_b043_0242ac1c0002row15_col7\" class=\"data row15 col7\" >0.67</td>\n",
              "                        <td id=\"T_86e25e7a_a517_11eb_b043_0242ac1c0002row15_col8\" class=\"data row15 col8\" >-0.11</td>\n",
              "                        <td id=\"T_86e25e7a_a517_11eb_b043_0242ac1c0002row15_col9\" class=\"data row15 col9\" >0.05</td>\n",
              "                        <td id=\"T_86e25e7a_a517_11eb_b043_0242ac1c0002row15_col10\" class=\"data row15 col10\" >0.09</td>\n",
              "                        <td id=\"T_86e25e7a_a517_11eb_b043_0242ac1c0002row15_col11\" class=\"data row15 col11\" >0.03</td>\n",
              "                        <td id=\"T_86e25e7a_a517_11eb_b043_0242ac1c0002row15_col12\" class=\"data row15 col12\" >-0.00</td>\n",
              "                        <td id=\"T_86e25e7a_a517_11eb_b043_0242ac1c0002row15_col13\" class=\"data row15 col13\" >-0.02</td>\n",
              "                        <td id=\"T_86e25e7a_a517_11eb_b043_0242ac1c0002row15_col14\" class=\"data row15 col14\" >0.38</td>\n",
              "                        <td id=\"T_86e25e7a_a517_11eb_b043_0242ac1c0002row15_col15\" class=\"data row15 col15\" >1.00</td>\n",
              "            </tr>\n",
              "    </tbody></table>"
            ],
            "text/plain": [
              "<pandas.io.formats.style.Styler at 0x7f38b6dc7e10>"
            ]
          },
          "metadata": {
            "tags": []
          },
          "execution_count": 49
        }
      ]
    },
    {
      "cell_type": "markdown",
      "metadata": {
        "id": "s2hFhb20pwHZ"
      },
      "source": [
        "##### **Random Forest**"
      ]
    },
    {
      "cell_type": "code",
      "metadata": {
        "id": "dZg26cDFp2B6"
      },
      "source": [
        "df2= predictions_rf.toPandas()"
      ],
      "execution_count": 52,
      "outputs": []
    },
    {
      "cell_type": "code",
      "metadata": {
        "colab": {
          "base_uri": "https://localhost:8080/",
          "height": 395
        },
        "id": "1DRBaZHsqCh-",
        "outputId": "4a8087d4-d5c8-43f9-d2c1-50dee4a2ca99"
      },
      "source": [
        "df2.corr().style.background_gradient(cmap='coolwarm').set_precision(2)"
      ],
      "execution_count": 53,
      "outputs": [
        {
          "output_type": "execute_result",
          "data": {
            "text/html": [
              "<style  type=\"text/css\" >\n",
              "#T_050d147a_a518_11eb_b043_0242ac1c0002row0_col0,#T_050d147a_a518_11eb_b043_0242ac1c0002row1_col1,#T_050d147a_a518_11eb_b043_0242ac1c0002row2_col2,#T_050d147a_a518_11eb_b043_0242ac1c0002row3_col3,#T_050d147a_a518_11eb_b043_0242ac1c0002row4_col4,#T_050d147a_a518_11eb_b043_0242ac1c0002row5_col5,#T_050d147a_a518_11eb_b043_0242ac1c0002row6_col6,#T_050d147a_a518_11eb_b043_0242ac1c0002row7_col7,#T_050d147a_a518_11eb_b043_0242ac1c0002row8_col8,#T_050d147a_a518_11eb_b043_0242ac1c0002row9_col9,#T_050d147a_a518_11eb_b043_0242ac1c0002row10_col10,#T_050d147a_a518_11eb_b043_0242ac1c0002row11_col11,#T_050d147a_a518_11eb_b043_0242ac1c0002row12_col12,#T_050d147a_a518_11eb_b043_0242ac1c0002row13_col13,#T_050d147a_a518_11eb_b043_0242ac1c0002row14_col14,#T_050d147a_a518_11eb_b043_0242ac1c0002row15_col15{\n",
              "            background-color:  #b40426;\n",
              "            color:  #f1f1f1;\n",
              "        }#T_050d147a_a518_11eb_b043_0242ac1c0002row0_col1,#T_050d147a_a518_11eb_b043_0242ac1c0002row6_col11,#T_050d147a_a518_11eb_b043_0242ac1c0002row12_col0{\n",
              "            background-color:  #6180e9;\n",
              "            color:  #000000;\n",
              "        }#T_050d147a_a518_11eb_b043_0242ac1c0002row0_col2,#T_050d147a_a518_11eb_b043_0242ac1c0002row6_col4,#T_050d147a_a518_11eb_b043_0242ac1c0002row11_col7,#T_050d147a_a518_11eb_b043_0242ac1c0002row11_col14{\n",
              "            background-color:  #7093f3;\n",
              "            color:  #000000;\n",
              "        }#T_050d147a_a518_11eb_b043_0242ac1c0002row0_col3,#T_050d147a_a518_11eb_b043_0242ac1c0002row2_col6,#T_050d147a_a518_11eb_b043_0242ac1c0002row3_col0,#T_050d147a_a518_11eb_b043_0242ac1c0002row4_col1,#T_050d147a_a518_11eb_b043_0242ac1c0002row4_col5,#T_050d147a_a518_11eb_b043_0242ac1c0002row4_col9,#T_050d147a_a518_11eb_b043_0242ac1c0002row4_col11,#T_050d147a_a518_11eb_b043_0242ac1c0002row4_col14,#T_050d147a_a518_11eb_b043_0242ac1c0002row4_col15,#T_050d147a_a518_11eb_b043_0242ac1c0002row5_col2,#T_050d147a_a518_11eb_b043_0242ac1c0002row5_col10,#T_050d147a_a518_11eb_b043_0242ac1c0002row5_col12,#T_050d147a_a518_11eb_b043_0242ac1c0002row7_col8,#T_050d147a_a518_11eb_b043_0242ac1c0002row8_col7,#T_050d147a_a518_11eb_b043_0242ac1c0002row8_col13,#T_050d147a_a518_11eb_b043_0242ac1c0002row15_col4{\n",
              "            background-color:  #3b4cc0;\n",
              "            color:  #f1f1f1;\n",
              "        }#T_050d147a_a518_11eb_b043_0242ac1c0002row0_col4,#T_050d147a_a518_11eb_b043_0242ac1c0002row0_col14,#T_050d147a_a518_11eb_b043_0242ac1c0002row1_col5,#T_050d147a_a518_11eb_b043_0242ac1c0002row9_col0,#T_050d147a_a518_11eb_b043_0242ac1c0002row10_col13,#T_050d147a_a518_11eb_b043_0242ac1c0002row12_col3,#T_050d147a_a518_11eb_b043_0242ac1c0002row14_col11,#T_050d147a_a518_11eb_b043_0242ac1c0002row15_col0{\n",
              "            background-color:  #6384eb;\n",
              "            color:  #000000;\n",
              "        }#T_050d147a_a518_11eb_b043_0242ac1c0002row0_col5,#T_050d147a_a518_11eb_b043_0242ac1c0002row1_col4,#T_050d147a_a518_11eb_b043_0242ac1c0002row2_col8,#T_050d147a_a518_11eb_b043_0242ac1c0002row7_col0,#T_050d147a_a518_11eb_b043_0242ac1c0002row7_col11,#T_050d147a_a518_11eb_b043_0242ac1c0002row9_col3,#T_050d147a_a518_11eb_b043_0242ac1c0002row11_col13,#T_050d147a_a518_11eb_b043_0242ac1c0002row14_col4,#T_050d147a_a518_11eb_b043_0242ac1c0002row14_col10{\n",
              "            background-color:  #5875e1;\n",
              "            color:  #000000;\n",
              "        }#T_050d147a_a518_11eb_b043_0242ac1c0002row0_col6,#T_050d147a_a518_11eb_b043_0242ac1c0002row2_col11,#T_050d147a_a518_11eb_b043_0242ac1c0002row8_col2,#T_050d147a_a518_11eb_b043_0242ac1c0002row8_col14{\n",
              "            background-color:  #3d50c3;\n",
              "            color:  #f1f1f1;\n",
              "        }#T_050d147a_a518_11eb_b043_0242ac1c0002row0_col7,#T_050d147a_a518_11eb_b043_0242ac1c0002row2_col13,#T_050d147a_a518_11eb_b043_0242ac1c0002row2_col14,#T_050d147a_a518_11eb_b043_0242ac1c0002row6_col0,#T_050d147a_a518_11eb_b043_0242ac1c0002row6_col5,#T_050d147a_a518_11eb_b043_0242ac1c0002row6_col13,#T_050d147a_a518_11eb_b043_0242ac1c0002row11_col6,#T_050d147a_a518_11eb_b043_0242ac1c0002row11_col8{\n",
              "            background-color:  #5a78e4;\n",
              "            color:  #000000;\n",
              "        }#T_050d147a_a518_11eb_b043_0242ac1c0002row0_col8,#T_050d147a_a518_11eb_b043_0242ac1c0002row6_col15,#T_050d147a_a518_11eb_b043_0242ac1c0002row10_col6,#T_050d147a_a518_11eb_b043_0242ac1c0002row12_col4,#T_050d147a_a518_11eb_b043_0242ac1c0002row13_col3,#T_050d147a_a518_11eb_b043_0242ac1c0002row15_col10{\n",
              "            background-color:  #6f92f3;\n",
              "            color:  #000000;\n",
              "        }#T_050d147a_a518_11eb_b043_0242ac1c0002row0_col9,#T_050d147a_a518_11eb_b043_0242ac1c0002row1_col7,#T_050d147a_a518_11eb_b043_0242ac1c0002row7_col9,#T_050d147a_a518_11eb_b043_0242ac1c0002row9_col14,#T_050d147a_a518_11eb_b043_0242ac1c0002row12_col1,#T_050d147a_a518_11eb_b043_0242ac1c0002row13_col14{\n",
              "            background-color:  #5673e0;\n",
              "            color:  #000000;\n",
              "        }#T_050d147a_a518_11eb_b043_0242ac1c0002row0_col10,#T_050d147a_a518_11eb_b043_0242ac1c0002row5_col8{\n",
              "            background-color:  #7a9df8;\n",
              "            color:  #000000;\n",
              "        }#T_050d147a_a518_11eb_b043_0242ac1c0002row0_col11,#T_050d147a_a518_11eb_b043_0242ac1c0002row1_col9,#T_050d147a_a518_11eb_b043_0242ac1c0002row3_col9,#T_050d147a_a518_11eb_b043_0242ac1c0002row13_col5,#T_050d147a_a518_11eb_b043_0242ac1c0002row14_col2{\n",
              "            background-color:  #4b64d5;\n",
              "            color:  #f1f1f1;\n",
              "        }#T_050d147a_a518_11eb_b043_0242ac1c0002row0_col12,#T_050d147a_a518_11eb_b043_0242ac1c0002row1_col12,#T_050d147a_a518_11eb_b043_0242ac1c0002row2_col12,#T_050d147a_a518_11eb_b043_0242ac1c0002row7_col10,#T_050d147a_a518_11eb_b043_0242ac1c0002row7_col13,#T_050d147a_a518_11eb_b043_0242ac1c0002row14_col8{\n",
              "            background-color:  #4961d2;\n",
              "            color:  #f1f1f1;\n",
              "        }#T_050d147a_a518_11eb_b043_0242ac1c0002row0_col13,#T_050d147a_a518_11eb_b043_0242ac1c0002row4_col0,#T_050d147a_a518_11eb_b043_0242ac1c0002row9_col1,#T_050d147a_a518_11eb_b043_0242ac1c0002row9_col11,#T_050d147a_a518_11eb_b043_0242ac1c0002row10_col9,#T_050d147a_a518_11eb_b043_0242ac1c0002row14_col13{\n",
              "            background-color:  #4f69d9;\n",
              "            color:  #000000;\n",
              "        }#T_050d147a_a518_11eb_b043_0242ac1c0002row0_col15,#T_050d147a_a518_11eb_b043_0242ac1c0002row7_col5,#T_050d147a_a518_11eb_b043_0242ac1c0002row8_col3{\n",
              "            background-color:  #7699f6;\n",
              "            color:  #000000;\n",
              "        }#T_050d147a_a518_11eb_b043_0242ac1c0002row1_col0,#T_050d147a_a518_11eb_b043_0242ac1c0002row8_col9,#T_050d147a_a518_11eb_b043_0242ac1c0002row14_col0,#T_050d147a_a518_11eb_b043_0242ac1c0002row15_col3{\n",
              "            background-color:  #6b8df0;\n",
              "            color:  #000000;\n",
              "        }#T_050d147a_a518_11eb_b043_0242ac1c0002row1_col2,#T_050d147a_a518_11eb_b043_0242ac1c0002row10_col5,#T_050d147a_a518_11eb_b043_0242ac1c0002row12_col6{\n",
              "            background-color:  #455cce;\n",
              "            color:  #f1f1f1;\n",
              "        }#T_050d147a_a518_11eb_b043_0242ac1c0002row1_col3{\n",
              "            background-color:  #b2ccfb;\n",
              "            color:  #000000;\n",
              "        }#T_050d147a_a518_11eb_b043_0242ac1c0002row1_col6,#T_050d147a_a518_11eb_b043_0242ac1c0002row2_col1,#T_050d147a_a518_11eb_b043_0242ac1c0002row12_col9,#T_050d147a_a518_11eb_b043_0242ac1c0002row12_col10{\n",
              "            background-color:  #5470de;\n",
              "            color:  #000000;\n",
              "        }#T_050d147a_a518_11eb_b043_0242ac1c0002row1_col8,#T_050d147a_a518_11eb_b043_0242ac1c0002row6_col1,#T_050d147a_a518_11eb_b043_0242ac1c0002row10_col8,#T_050d147a_a518_11eb_b043_0242ac1c0002row15_col1{\n",
              "            background-color:  #6788ee;\n",
              "            color:  #000000;\n",
              "        }#T_050d147a_a518_11eb_b043_0242ac1c0002row1_col10{\n",
              "            background-color:  #a3c2fe;\n",
              "            color:  #000000;\n",
              "        }#T_050d147a_a518_11eb_b043_0242ac1c0002row1_col11{\n",
              "            background-color:  #92b4fe;\n",
              "            color:  #000000;\n",
              "        }#T_050d147a_a518_11eb_b043_0242ac1c0002row1_col13,#T_050d147a_a518_11eb_b043_0242ac1c0002row3_col12,#T_050d147a_a518_11eb_b043_0242ac1c0002row6_col12,#T_050d147a_a518_11eb_b043_0242ac1c0002row9_col10,#T_050d147a_a518_11eb_b043_0242ac1c0002row12_col5,#T_050d147a_a518_11eb_b043_0242ac1c0002row13_col9{\n",
              "            background-color:  #4c66d6;\n",
              "            color:  #000000;\n",
              "        }#T_050d147a_a518_11eb_b043_0242ac1c0002row1_col14,#T_050d147a_a518_11eb_b043_0242ac1c0002row5_col14,#T_050d147a_a518_11eb_b043_0242ac1c0002row11_col4,#T_050d147a_a518_11eb_b043_0242ac1c0002row13_col10,#T_050d147a_a518_11eb_b043_0242ac1c0002row14_col1,#T_050d147a_a518_11eb_b043_0242ac1c0002row15_col9{\n",
              "            background-color:  #6485ec;\n",
              "            color:  #000000;\n",
              "        }#T_050d147a_a518_11eb_b043_0242ac1c0002row1_col15,#T_050d147a_a518_11eb_b043_0242ac1c0002row2_col15{\n",
              "            background-color:  #84a7fc;\n",
              "            color:  #000000;\n",
              "        }#T_050d147a_a518_11eb_b043_0242ac1c0002row2_col0{\n",
              "            background-color:  #86a9fc;\n",
              "            color:  #000000;\n",
              "        }#T_050d147a_a518_11eb_b043_0242ac1c0002row2_col3,#T_050d147a_a518_11eb_b043_0242ac1c0002row3_col14,#T_050d147a_a518_11eb_b043_0242ac1c0002row5_col9,#T_050d147a_a518_11eb_b043_0242ac1c0002row11_col0{\n",
              "            background-color:  #6282ea;\n",
              "            color:  #000000;\n",
              "        }#T_050d147a_a518_11eb_b043_0242ac1c0002row2_col4,#T_050d147a_a518_11eb_b043_0242ac1c0002row2_col7,#T_050d147a_a518_11eb_b043_0242ac1c0002row13_col15,#T_050d147a_a518_11eb_b043_0242ac1c0002row14_col5{\n",
              "            background-color:  #688aef;\n",
              "            color:  #000000;\n",
              "        }#T_050d147a_a518_11eb_b043_0242ac1c0002row2_col5,#T_050d147a_a518_11eb_b043_0242ac1c0002row2_col9,#T_050d147a_a518_11eb_b043_0242ac1c0002row7_col2,#T_050d147a_a518_11eb_b043_0242ac1c0002row8_col4,#T_050d147a_a518_11eb_b043_0242ac1c0002row10_col12,#T_050d147a_a518_11eb_b043_0242ac1c0002row11_col12,#T_050d147a_a518_11eb_b043_0242ac1c0002row12_col11,#T_050d147a_a518_11eb_b043_0242ac1c0002row13_col6,#T_050d147a_a518_11eb_b043_0242ac1c0002row13_col8,#T_050d147a_a518_11eb_b043_0242ac1c0002row15_col8{\n",
              "            background-color:  #4e68d8;\n",
              "            color:  #000000;\n",
              "        }#T_050d147a_a518_11eb_b043_0242ac1c0002row2_col10{\n",
              "            background-color:  #6e90f2;\n",
              "            color:  #000000;\n",
              "        }#T_050d147a_a518_11eb_b043_0242ac1c0002row3_col1{\n",
              "            background-color:  #aac7fd;\n",
              "            color:  #000000;\n",
              "        }#T_050d147a_a518_11eb_b043_0242ac1c0002row3_col2,#T_050d147a_a518_11eb_b043_0242ac1c0002row7_col1,#T_050d147a_a518_11eb_b043_0242ac1c0002row8_col6,#T_050d147a_a518_11eb_b043_0242ac1c0002row9_col12,#T_050d147a_a518_11eb_b043_0242ac1c0002row9_col13,#T_050d147a_a518_11eb_b043_0242ac1c0002row13_col12,#T_050d147a_a518_11eb_b043_0242ac1c0002row15_col12{\n",
              "            background-color:  #4a63d3;\n",
              "            color:  #f1f1f1;\n",
              "        }#T_050d147a_a518_11eb_b043_0242ac1c0002row3_col4{\n",
              "            background-color:  #7295f4;\n",
              "            color:  #000000;\n",
              "        }#T_050d147a_a518_11eb_b043_0242ac1c0002row3_col5,#T_050d147a_a518_11eb_b043_0242ac1c0002row6_col9,#T_050d147a_a518_11eb_b043_0242ac1c0002row7_col12,#T_050d147a_a518_11eb_b043_0242ac1c0002row12_col13{\n",
              "            background-color:  #506bda;\n",
              "            color:  #000000;\n",
              "        }#T_050d147a_a518_11eb_b043_0242ac1c0002row3_col6,#T_050d147a_a518_11eb_b043_0242ac1c0002row8_col5{\n",
              "            background-color:  #7396f5;\n",
              "            color:  #000000;\n",
              "        }#T_050d147a_a518_11eb_b043_0242ac1c0002row3_col7,#T_050d147a_a518_11eb_b043_0242ac1c0002row4_col3,#T_050d147a_a518_11eb_b043_0242ac1c0002row5_col1,#T_050d147a_a518_11eb_b043_0242ac1c0002row6_col7,#T_050d147a_a518_11eb_b043_0242ac1c0002row10_col14,#T_050d147a_a518_11eb_b043_0242ac1c0002row15_col11{\n",
              "            background-color:  #5e7de7;\n",
              "            color:  #000000;\n",
              "        }#T_050d147a_a518_11eb_b043_0242ac1c0002row3_col8{\n",
              "            background-color:  #799cf8;\n",
              "            color:  #000000;\n",
              "        }#T_050d147a_a518_11eb_b043_0242ac1c0002row3_col10{\n",
              "            background-color:  #e7d7ce;\n",
              "            color:  #000000;\n",
              "        }#T_050d147a_a518_11eb_b043_0242ac1c0002row3_col11,#T_050d147a_a518_11eb_b043_0242ac1c0002row11_col15{\n",
              "            background-color:  #88abfd;\n",
              "            color:  #000000;\n",
              "        }#T_050d147a_a518_11eb_b043_0242ac1c0002row3_col13,#T_050d147a_a518_11eb_b043_0242ac1c0002row8_col15,#T_050d147a_a518_11eb_b043_0242ac1c0002row12_col14,#T_050d147a_a518_11eb_b043_0242ac1c0002row13_col0{\n",
              "            background-color:  #5f7fe8;\n",
              "            color:  #000000;\n",
              "        }#T_050d147a_a518_11eb_b043_0242ac1c0002row3_col15,#T_050d147a_a518_11eb_b043_0242ac1c0002row13_col4{\n",
              "            background-color:  #80a3fa;\n",
              "            color:  #000000;\n",
              "        }#T_050d147a_a518_11eb_b043_0242ac1c0002row4_col2,#T_050d147a_a518_11eb_b043_0242ac1c0002row4_col8,#T_050d147a_a518_11eb_b043_0242ac1c0002row11_col2{\n",
              "            background-color:  #3c4ec2;\n",
              "            color:  #f1f1f1;\n",
              "        }#T_050d147a_a518_11eb_b043_0242ac1c0002row4_col6,#T_050d147a_a518_11eb_b043_0242ac1c0002row5_col13,#T_050d147a_a518_11eb_b043_0242ac1c0002row6_col2{\n",
              "            background-color:  #3f53c6;\n",
              "            color:  #f1f1f1;\n",
              "        }#T_050d147a_a518_11eb_b043_0242ac1c0002row4_col7,#T_050d147a_a518_11eb_b043_0242ac1c0002row5_col7,#T_050d147a_a518_11eb_b043_0242ac1c0002row6_col10{\n",
              "            background-color:  #7da0f9;\n",
              "            color:  #000000;\n",
              "        }#T_050d147a_a518_11eb_b043_0242ac1c0002row4_col10,#T_050d147a_a518_11eb_b043_0242ac1c0002row5_col11,#T_050d147a_a518_11eb_b043_0242ac1c0002row8_col12,#T_050d147a_a518_11eb_b043_0242ac1c0002row9_col2{\n",
              "            background-color:  #4358cb;\n",
              "            color:  #f1f1f1;\n",
              "        }#T_050d147a_a518_11eb_b043_0242ac1c0002row4_col12,#T_050d147a_a518_11eb_b043_0242ac1c0002row15_col13{\n",
              "            background-color:  #445acc;\n",
              "            color:  #f1f1f1;\n",
              "        }#T_050d147a_a518_11eb_b043_0242ac1c0002row4_col13,#T_050d147a_a518_11eb_b043_0242ac1c0002row5_col0,#T_050d147a_a518_11eb_b043_0242ac1c0002row7_col3,#T_050d147a_a518_11eb_b043_0242ac1c0002row8_col1,#T_050d147a_a518_11eb_b043_0242ac1c0002row9_col4,#T_050d147a_a518_11eb_b043_0242ac1c0002row10_col7,#T_050d147a_a518_11eb_b043_0242ac1c0002row12_col8{\n",
              "            background-color:  #5b7ae5;\n",
              "            color:  #000000;\n",
              "        }#T_050d147a_a518_11eb_b043_0242ac1c0002row5_col3,#T_050d147a_a518_11eb_b043_0242ac1c0002row8_col10,#T_050d147a_a518_11eb_b043_0242ac1c0002row11_col5{\n",
              "            background-color:  #5572df;\n",
              "            color:  #000000;\n",
              "        }#T_050d147a_a518_11eb_b043_0242ac1c0002row5_col4,#T_050d147a_a518_11eb_b043_0242ac1c0002row13_col1,#T_050d147a_a518_11eb_b043_0242ac1c0002row13_col2,#T_050d147a_a518_11eb_b043_0242ac1c0002row14_col9,#T_050d147a_a518_11eb_b043_0242ac1c0002row14_col12{\n",
              "            background-color:  #536edd;\n",
              "            color:  #000000;\n",
              "        }#T_050d147a_a518_11eb_b043_0242ac1c0002row5_col6,#T_050d147a_a518_11eb_b043_0242ac1c0002row9_col6{\n",
              "            background-color:  #4055c8;\n",
              "            color:  #f1f1f1;\n",
              "        }#T_050d147a_a518_11eb_b043_0242ac1c0002row5_col15{\n",
              "            background-color:  #c6d6f1;\n",
              "            color:  #000000;\n",
              "        }#T_050d147a_a518_11eb_b043_0242ac1c0002row6_col3,#T_050d147a_a518_11eb_b043_0242ac1c0002row10_col11{\n",
              "            background-color:  #8fb1fe;\n",
              "            color:  #000000;\n",
              "        }#T_050d147a_a518_11eb_b043_0242ac1c0002row6_col8,#T_050d147a_a518_11eb_b043_0242ac1c0002row9_col5,#T_050d147a_a518_11eb_b043_0242ac1c0002row12_col7,#T_050d147a_a518_11eb_b043_0242ac1c0002row14_col3{\n",
              "            background-color:  #6a8bef;\n",
              "            color:  #000000;\n",
              "        }#T_050d147a_a518_11eb_b043_0242ac1c0002row6_col14,#T_050d147a_a518_11eb_b043_0242ac1c0002row13_col7{\n",
              "            background-color:  #5d7ce6;\n",
              "            color:  #000000;\n",
              "        }#T_050d147a_a518_11eb_b043_0242ac1c0002row7_col4{\n",
              "            background-color:  #8db0fe;\n",
              "            color:  #000000;\n",
              "        }#T_050d147a_a518_11eb_b043_0242ac1c0002row7_col6,#T_050d147a_a518_11eb_b043_0242ac1c0002row15_col6{\n",
              "            background-color:  #3e51c5;\n",
              "            color:  #f1f1f1;\n",
              "        }#T_050d147a_a518_11eb_b043_0242ac1c0002row7_col14{\n",
              "            background-color:  #d2dbe8;\n",
              "            color:  #000000;\n",
              "        }#T_050d147a_a518_11eb_b043_0242ac1c0002row7_col15{\n",
              "            background-color:  #f59c7d;\n",
              "            color:  #000000;\n",
              "        }#T_050d147a_a518_11eb_b043_0242ac1c0002row8_col0{\n",
              "            background-color:  #6c8ff1;\n",
              "            color:  #000000;\n",
              "        }#T_050d147a_a518_11eb_b043_0242ac1c0002row8_col11{\n",
              "            background-color:  #4257c9;\n",
              "            color:  #f1f1f1;\n",
              "        }#T_050d147a_a518_11eb_b043_0242ac1c0002row9_col7,#T_050d147a_a518_11eb_b043_0242ac1c0002row10_col2,#T_050d147a_a518_11eb_b043_0242ac1c0002row10_col4{\n",
              "            background-color:  #6687ed;\n",
              "            color:  #000000;\n",
              "        }#T_050d147a_a518_11eb_b043_0242ac1c0002row9_col8{\n",
              "            background-color:  #7b9ff9;\n",
              "            color:  #000000;\n",
              "        }#T_050d147a_a518_11eb_b043_0242ac1c0002row9_col15{\n",
              "            background-color:  #85a8fc;\n",
              "            color:  #000000;\n",
              "        }#T_050d147a_a518_11eb_b043_0242ac1c0002row10_col0{\n",
              "            background-color:  #89acfd;\n",
              "            color:  #000000;\n",
              "        }#T_050d147a_a518_11eb_b043_0242ac1c0002row10_col1{\n",
              "            background-color:  #a9c6fd;\n",
              "            color:  #000000;\n",
              "        }#T_050d147a_a518_11eb_b043_0242ac1c0002row10_col3{\n",
              "            background-color:  #ecd3c5;\n",
              "            color:  #000000;\n",
              "        }#T_050d147a_a518_11eb_b043_0242ac1c0002row10_col15{\n",
              "            background-color:  #90b2fe;\n",
              "            color:  #000000;\n",
              "        }#T_050d147a_a518_11eb_b043_0242ac1c0002row11_col1{\n",
              "            background-color:  #9dbdff;\n",
              "            color:  #000000;\n",
              "        }#T_050d147a_a518_11eb_b043_0242ac1c0002row11_col3{\n",
              "            background-color:  #9bbcff;\n",
              "            color:  #000000;\n",
              "        }#T_050d147a_a518_11eb_b043_0242ac1c0002row11_col9,#T_050d147a_a518_11eb_b043_0242ac1c0002row15_col2{\n",
              "            background-color:  #5977e3;\n",
              "            color:  #000000;\n",
              "        }#T_050d147a_a518_11eb_b043_0242ac1c0002row11_col10{\n",
              "            background-color:  #96b7ff;\n",
              "            color:  #000000;\n",
              "        }#T_050d147a_a518_11eb_b043_0242ac1c0002row12_col2,#T_050d147a_a518_11eb_b043_0242ac1c0002row14_col6{\n",
              "            background-color:  #485fd1;\n",
              "            color:  #f1f1f1;\n",
              "        }#T_050d147a_a518_11eb_b043_0242ac1c0002row12_col15{\n",
              "            background-color:  #7597f6;\n",
              "            color:  #000000;\n",
              "        }#T_050d147a_a518_11eb_b043_0242ac1c0002row13_col11{\n",
              "            background-color:  #516ddb;\n",
              "            color:  #000000;\n",
              "        }#T_050d147a_a518_11eb_b043_0242ac1c0002row14_col7{\n",
              "            background-color:  #d7dce3;\n",
              "            color:  #000000;\n",
              "        }#T_050d147a_a518_11eb_b043_0242ac1c0002row14_col15{\n",
              "            background-color:  #dadce0;\n",
              "            color:  #000000;\n",
              "        }#T_050d147a_a518_11eb_b043_0242ac1c0002row15_col5{\n",
              "            background-color:  #b6cefa;\n",
              "            color:  #000000;\n",
              "        }#T_050d147a_a518_11eb_b043_0242ac1c0002row15_col7{\n",
              "            background-color:  #f6a283;\n",
              "            color:  #000000;\n",
              "        }#T_050d147a_a518_11eb_b043_0242ac1c0002row15_col14{\n",
              "            background-color:  #cbd8ee;\n",
              "            color:  #000000;\n",
              "        }</style><table id=\"T_050d147a_a518_11eb_b043_0242ac1c0002\" ><thead>    <tr>        <th class=\"blank level0\" ></th>        <th class=\"col_heading level0 col0\" >hospital</th>        <th class=\"col_heading level0 col1\" >hospital_type</th>        <th class=\"col_heading level0 col2\" >hospital_city</th>        <th class=\"col_heading level0 col3\" >hospital_region</th>        <th class=\"col_heading level0 col4\" >available_extra_rooms_in_hospital</th>        <th class=\"col_heading level0 col5\" >bed_grade</th>        <th class=\"col_heading level0 col6\" >city_code_patient</th>        <th class=\"col_heading level0 col7\" >patient_visitors</th>        <th class=\"col_heading level0 col8\" >admission_deposit</th>        <th class=\"col_heading level0 col9\" >department_index</th>        <th class=\"col_heading level0 col10\" >ward_facility_index</th>        <th class=\"col_heading level0 col11\" >ward_type_index</th>        <th class=\"col_heading level0 col12\" >illness_severity_index</th>        <th class=\"col_heading level0 col13\" >type_of_admission_index</th>        <th class=\"col_heading level0 col14\" >stay_days_index</th>        <th class=\"col_heading level0 col15\" >prediction</th>    </tr></thead><tbody>\n",
              "                <tr>\n",
              "                        <th id=\"T_050d147a_a518_11eb_b043_0242ac1c0002level0_row0\" class=\"row_heading level0 row0\" >hospital</th>\n",
              "                        <td id=\"T_050d147a_a518_11eb_b043_0242ac1c0002row0_col0\" class=\"data row0 col0\" >1.00</td>\n",
              "                        <td id=\"T_050d147a_a518_11eb_b043_0242ac1c0002row0_col1\" class=\"data row0 col1\" >0.04</td>\n",
              "                        <td id=\"T_050d147a_a518_11eb_b043_0242ac1c0002row0_col2\" class=\"data row0 col2\" >0.13</td>\n",
              "                        <td id=\"T_050d147a_a518_11eb_b043_0242ac1c0002row0_col3\" class=\"data row0 col3\" >-0.14</td>\n",
              "                        <td id=\"T_050d147a_a518_11eb_b043_0242ac1c0002row0_col4\" class=\"data row0 col4\" >-0.06</td>\n",
              "                        <td id=\"T_050d147a_a518_11eb_b043_0242ac1c0002row0_col5\" class=\"data row0 col5\" >-0.01</td>\n",
              "                        <td id=\"T_050d147a_a518_11eb_b043_0242ac1c0002row0_col6\" class=\"data row0 col6\" >-0.02</td>\n",
              "                        <td id=\"T_050d147a_a518_11eb_b043_0242ac1c0002row0_col7\" class=\"data row0 col7\" >-0.03</td>\n",
              "                        <td id=\"T_050d147a_a518_11eb_b043_0242ac1c0002row0_col8\" class=\"data row0 col8\" >0.04</td>\n",
              "                        <td id=\"T_050d147a_a518_11eb_b043_0242ac1c0002row0_col9\" class=\"data row0 col9\" >0.01</td>\n",
              "                        <td id=\"T_050d147a_a518_11eb_b043_0242ac1c0002row0_col10\" class=\"data row0 col10\" >0.13</td>\n",
              "                        <td id=\"T_050d147a_a518_11eb_b043_0242ac1c0002row0_col11\" class=\"data row0 col11\" >0.01</td>\n",
              "                        <td id=\"T_050d147a_a518_11eb_b043_0242ac1c0002row0_col12\" class=\"data row0 col12\" >0.00</td>\n",
              "                        <td id=\"T_050d147a_a518_11eb_b043_0242ac1c0002row0_col13\" class=\"data row0 col13\" >-0.00</td>\n",
              "                        <td id=\"T_050d147a_a518_11eb_b043_0242ac1c0002row0_col14\" class=\"data row0 col14\" >0.04</td>\n",
              "                        <td id=\"T_050d147a_a518_11eb_b043_0242ac1c0002row0_col15\" class=\"data row0 col15\" >0.01</td>\n",
              "            </tr>\n",
              "            <tr>\n",
              "                        <th id=\"T_050d147a_a518_11eb_b043_0242ac1c0002level0_row1\" class=\"row_heading level0 row1\" >hospital_type</th>\n",
              "                        <td id=\"T_050d147a_a518_11eb_b043_0242ac1c0002row1_col0\" class=\"data row1 col0\" >0.04</td>\n",
              "                        <td id=\"T_050d147a_a518_11eb_b043_0242ac1c0002row1_col1\" class=\"data row1 col1\" >1.00</td>\n",
              "                        <td id=\"T_050d147a_a518_11eb_b043_0242ac1c0002row1_col2\" class=\"data row1 col2\" >-0.01</td>\n",
              "                        <td id=\"T_050d147a_a518_11eb_b043_0242ac1c0002row1_col3\" class=\"data row1 col3\" >0.27</td>\n",
              "                        <td id=\"T_050d147a_a518_11eb_b043_0242ac1c0002row1_col4\" class=\"data row1 col4\" >-0.10</td>\n",
              "                        <td id=\"T_050d147a_a518_11eb_b043_0242ac1c0002row1_col5\" class=\"data row1 col5\" >0.03</td>\n",
              "                        <td id=\"T_050d147a_a518_11eb_b043_0242ac1c0002row1_col6\" class=\"data row1 col6\" >0.06</td>\n",
              "                        <td id=\"T_050d147a_a518_11eb_b043_0242ac1c0002row1_col7\" class=\"data row1 col7\" >-0.04</td>\n",
              "                        <td id=\"T_050d147a_a518_11eb_b043_0242ac1c0002row1_col8\" class=\"data row1 col8\" >0.02</td>\n",
              "                        <td id=\"T_050d147a_a518_11eb_b043_0242ac1c0002row1_col9\" class=\"data row1 col9\" >-0.03</td>\n",
              "                        <td id=\"T_050d147a_a518_11eb_b043_0242ac1c0002row1_col10\" class=\"data row1 col10\" >0.26</td>\n",
              "                        <td id=\"T_050d147a_a518_11eb_b043_0242ac1c0002row1_col11\" class=\"data row1 col11\" >0.22</td>\n",
              "                        <td id=\"T_050d147a_a518_11eb_b043_0242ac1c0002row1_col12\" class=\"data row1 col12\" >0.00</td>\n",
              "                        <td id=\"T_050d147a_a518_11eb_b043_0242ac1c0002row1_col13\" class=\"data row1 col13\" >-0.01</td>\n",
              "                        <td id=\"T_050d147a_a518_11eb_b043_0242ac1c0002row1_col14\" class=\"data row1 col14\" >0.05</td>\n",
              "                        <td id=\"T_050d147a_a518_11eb_b043_0242ac1c0002row1_col15\" class=\"data row1 col15\" >0.06</td>\n",
              "            </tr>\n",
              "            <tr>\n",
              "                        <th id=\"T_050d147a_a518_11eb_b043_0242ac1c0002level0_row2\" class=\"row_heading level0 row2\" >hospital_city</th>\n",
              "                        <td id=\"T_050d147a_a518_11eb_b043_0242ac1c0002row2_col0\" class=\"data row2 col0\" >0.13</td>\n",
              "                        <td id=\"T_050d147a_a518_11eb_b043_0242ac1c0002row2_col1\" class=\"data row2 col1\" >-0.01</td>\n",
              "                        <td id=\"T_050d147a_a518_11eb_b043_0242ac1c0002row2_col2\" class=\"data row2 col2\" >1.00</td>\n",
              "                        <td id=\"T_050d147a_a518_11eb_b043_0242ac1c0002row2_col3\" class=\"data row2 col3\" >0.01</td>\n",
              "                        <td id=\"T_050d147a_a518_11eb_b043_0242ac1c0002row2_col4\" class=\"data row2 col4\" >-0.04</td>\n",
              "                        <td id=\"T_050d147a_a518_11eb_b043_0242ac1c0002row2_col5\" class=\"data row2 col5\" >-0.05</td>\n",
              "                        <td id=\"T_050d147a_a518_11eb_b043_0242ac1c0002row2_col6\" class=\"data row2 col6\" >-0.03</td>\n",
              "                        <td id=\"T_050d147a_a518_11eb_b043_0242ac1c0002row2_col7\" class=\"data row2 col7\" >0.02</td>\n",
              "                        <td id=\"T_050d147a_a518_11eb_b043_0242ac1c0002row2_col8\" class=\"data row2 col8\" >-0.04</td>\n",
              "                        <td id=\"T_050d147a_a518_11eb_b043_0242ac1c0002row2_col9\" class=\"data row2 col9\" >-0.02</td>\n",
              "                        <td id=\"T_050d147a_a518_11eb_b043_0242ac1c0002row2_col10\" class=\"data row2 col10\" >0.10</td>\n",
              "                        <td id=\"T_050d147a_a518_11eb_b043_0242ac1c0002row2_col11\" class=\"data row2 col11\" >-0.04</td>\n",
              "                        <td id=\"T_050d147a_a518_11eb_b043_0242ac1c0002row2_col12\" class=\"data row2 col12\" >-0.00</td>\n",
              "                        <td id=\"T_050d147a_a518_11eb_b043_0242ac1c0002row2_col13\" class=\"data row2 col13\" >0.04</td>\n",
              "                        <td id=\"T_050d147a_a518_11eb_b043_0242ac1c0002row2_col14\" class=\"data row2 col14\" >0.01</td>\n",
              "                        <td id=\"T_050d147a_a518_11eb_b043_0242ac1c0002row2_col15\" class=\"data row2 col15\" >0.06</td>\n",
              "            </tr>\n",
              "            <tr>\n",
              "                        <th id=\"T_050d147a_a518_11eb_b043_0242ac1c0002level0_row3\" class=\"row_heading level0 row3\" >hospital_region</th>\n",
              "                        <td id=\"T_050d147a_a518_11eb_b043_0242ac1c0002row3_col0\" class=\"data row3 col0\" >-0.14</td>\n",
              "                        <td id=\"T_050d147a_a518_11eb_b043_0242ac1c0002row3_col1\" class=\"data row3 col1\" >0.27</td>\n",
              "                        <td id=\"T_050d147a_a518_11eb_b043_0242ac1c0002row3_col2\" class=\"data row3 col2\" >0.01</td>\n",
              "                        <td id=\"T_050d147a_a518_11eb_b043_0242ac1c0002row3_col3\" class=\"data row3 col3\" >1.00</td>\n",
              "                        <td id=\"T_050d147a_a518_11eb_b043_0242ac1c0002row3_col4\" class=\"data row3 col4\" >-0.01</td>\n",
              "                        <td id=\"T_050d147a_a518_11eb_b043_0242ac1c0002row3_col5\" class=\"data row3 col5\" >-0.04</td>\n",
              "                        <td id=\"T_050d147a_a518_11eb_b043_0242ac1c0002row3_col6\" class=\"data row3 col6\" >0.15</td>\n",
              "                        <td id=\"T_050d147a_a518_11eb_b043_0242ac1c0002row3_col7\" class=\"data row3 col7\" >-0.02</td>\n",
              "                        <td id=\"T_050d147a_a518_11eb_b043_0242ac1c0002row3_col8\" class=\"data row3 col8\" >0.07</td>\n",
              "                        <td id=\"T_050d147a_a518_11eb_b043_0242ac1c0002row3_col9\" class=\"data row3 col9\" >-0.03</td>\n",
              "                        <td id=\"T_050d147a_a518_11eb_b043_0242ac1c0002row3_col10\" class=\"data row3 col10\" >0.51</td>\n",
              "                        <td id=\"T_050d147a_a518_11eb_b043_0242ac1c0002row3_col11\" class=\"data row3 col11\" >0.19</td>\n",
              "                        <td id=\"T_050d147a_a518_11eb_b043_0242ac1c0002row3_col12\" class=\"data row3 col12\" >0.01</td>\n",
              "                        <td id=\"T_050d147a_a518_11eb_b043_0242ac1c0002row3_col13\" class=\"data row3 col13\" >0.05</td>\n",
              "                        <td id=\"T_050d147a_a518_11eb_b043_0242ac1c0002row3_col14\" class=\"data row3 col14\" >0.04</td>\n",
              "                        <td id=\"T_050d147a_a518_11eb_b043_0242ac1c0002row3_col15\" class=\"data row3 col15\" >0.04</td>\n",
              "            </tr>\n",
              "            <tr>\n",
              "                        <th id=\"T_050d147a_a518_11eb_b043_0242ac1c0002level0_row4\" class=\"row_heading level0 row4\" >available_extra_rooms_in_hospital</th>\n",
              "                        <td id=\"T_050d147a_a518_11eb_b043_0242ac1c0002row4_col0\" class=\"data row4 col0\" >-0.06</td>\n",
              "                        <td id=\"T_050d147a_a518_11eb_b043_0242ac1c0002row4_col1\" class=\"data row4 col1\" >-0.10</td>\n",
              "                        <td id=\"T_050d147a_a518_11eb_b043_0242ac1c0002row4_col2\" class=\"data row4 col2\" >-0.04</td>\n",
              "                        <td id=\"T_050d147a_a518_11eb_b043_0242ac1c0002row4_col3\" class=\"data row4 col3\" >-0.01</td>\n",
              "                        <td id=\"T_050d147a_a518_11eb_b043_0242ac1c0002row4_col4\" class=\"data row4 col4\" >1.00</td>\n",
              "                        <td id=\"T_050d147a_a518_11eb_b043_0242ac1c0002row4_col5\" class=\"data row4 col5\" >-0.12</td>\n",
              "                        <td id=\"T_050d147a_a518_11eb_b043_0242ac1c0002row4_col6\" class=\"data row4 col6\" >-0.01</td>\n",
              "                        <td id=\"T_050d147a_a518_11eb_b043_0242ac1c0002row4_col7\" class=\"data row4 col7\" >0.09</td>\n",
              "                        <td id=\"T_050d147a_a518_11eb_b043_0242ac1c0002row4_col8\" class=\"data row4 col8\" >-0.14</td>\n",
              "                        <td id=\"T_050d147a_a518_11eb_b043_0242ac1c0002row4_col9\" class=\"data row4 col9\" >-0.09</td>\n",
              "                        <td id=\"T_050d147a_a518_11eb_b043_0242ac1c0002row4_col10\" class=\"data row4 col10\" >-0.05</td>\n",
              "                        <td id=\"T_050d147a_a518_11eb_b043_0242ac1c0002row4_col11\" class=\"data row4 col11\" >-0.05</td>\n",
              "                        <td id=\"T_050d147a_a518_11eb_b043_0242ac1c0002row4_col12\" class=\"data row4 col12\" >-0.02</td>\n",
              "                        <td id=\"T_050d147a_a518_11eb_b043_0242ac1c0002row4_col13\" class=\"data row4 col13\" >0.04</td>\n",
              "                        <td id=\"T_050d147a_a518_11eb_b043_0242ac1c0002row4_col14\" class=\"data row4 col14\" >-0.10</td>\n",
              "                        <td id=\"T_050d147a_a518_11eb_b043_0242ac1c0002row4_col15\" class=\"data row4 col15\" >-0.22</td>\n",
              "            </tr>\n",
              "            <tr>\n",
              "                        <th id=\"T_050d147a_a518_11eb_b043_0242ac1c0002level0_row5\" class=\"row_heading level0 row5\" >bed_grade</th>\n",
              "                        <td id=\"T_050d147a_a518_11eb_b043_0242ac1c0002row5_col0\" class=\"data row5 col0\" >-0.01</td>\n",
              "                        <td id=\"T_050d147a_a518_11eb_b043_0242ac1c0002row5_col1\" class=\"data row5 col1\" >0.03</td>\n",
              "                        <td id=\"T_050d147a_a518_11eb_b043_0242ac1c0002row5_col2\" class=\"data row5 col2\" >-0.05</td>\n",
              "                        <td id=\"T_050d147a_a518_11eb_b043_0242ac1c0002row5_col3\" class=\"data row5 col3\" >-0.04</td>\n",
              "                        <td id=\"T_050d147a_a518_11eb_b043_0242ac1c0002row5_col4\" class=\"data row5 col4\" >-0.12</td>\n",
              "                        <td id=\"T_050d147a_a518_11eb_b043_0242ac1c0002row5_col5\" class=\"data row5 col5\" >1.00</td>\n",
              "                        <td id=\"T_050d147a_a518_11eb_b043_0242ac1c0002row5_col6\" class=\"data row5 col6\" >-0.01</td>\n",
              "                        <td id=\"T_050d147a_a518_11eb_b043_0242ac1c0002row5_col7\" class=\"data row5 col7\" >0.09</td>\n",
              "                        <td id=\"T_050d147a_a518_11eb_b043_0242ac1c0002row5_col8\" class=\"data row5 col8\" >0.08</td>\n",
              "                        <td id=\"T_050d147a_a518_11eb_b043_0242ac1c0002row5_col9\" class=\"data row5 col9\" >0.05</td>\n",
              "                        <td id=\"T_050d147a_a518_11eb_b043_0242ac1c0002row5_col10\" class=\"data row5 col10\" >-0.08</td>\n",
              "                        <td id=\"T_050d147a_a518_11eb_b043_0242ac1c0002row5_col11\" class=\"data row5 col11\" >-0.02</td>\n",
              "                        <td id=\"T_050d147a_a518_11eb_b043_0242ac1c0002row5_col12\" class=\"data row5 col12\" >-0.05</td>\n",
              "                        <td id=\"T_050d147a_a518_11eb_b043_0242ac1c0002row5_col13\" class=\"data row5 col13\" >-0.06</td>\n",
              "                        <td id=\"T_050d147a_a518_11eb_b043_0242ac1c0002row5_col14\" class=\"data row5 col14\" >0.04</td>\n",
              "                        <td id=\"T_050d147a_a518_11eb_b043_0242ac1c0002row5_col15\" class=\"data row5 col15\" >0.30</td>\n",
              "            </tr>\n",
              "            <tr>\n",
              "                        <th id=\"T_050d147a_a518_11eb_b043_0242ac1c0002level0_row6\" class=\"row_heading level0 row6\" >city_code_patient</th>\n",
              "                        <td id=\"T_050d147a_a518_11eb_b043_0242ac1c0002row6_col0\" class=\"data row6 col0\" >-0.02</td>\n",
              "                        <td id=\"T_050d147a_a518_11eb_b043_0242ac1c0002row6_col1\" class=\"data row6 col1\" >0.06</td>\n",
              "                        <td id=\"T_050d147a_a518_11eb_b043_0242ac1c0002row6_col2\" class=\"data row6 col2\" >-0.03</td>\n",
              "                        <td id=\"T_050d147a_a518_11eb_b043_0242ac1c0002row6_col3\" class=\"data row6 col3\" >0.15</td>\n",
              "                        <td id=\"T_050d147a_a518_11eb_b043_0242ac1c0002row6_col4\" class=\"data row6 col4\" >-0.01</td>\n",
              "                        <td id=\"T_050d147a_a518_11eb_b043_0242ac1c0002row6_col5\" class=\"data row6 col5\" >-0.01</td>\n",
              "                        <td id=\"T_050d147a_a518_11eb_b043_0242ac1c0002row6_col6\" class=\"data row6 col6\" >1.00</td>\n",
              "                        <td id=\"T_050d147a_a518_11eb_b043_0242ac1c0002row6_col7\" class=\"data row6 col7\" >-0.01</td>\n",
              "                        <td id=\"T_050d147a_a518_11eb_b043_0242ac1c0002row6_col8\" class=\"data row6 col8\" >0.03</td>\n",
              "                        <td id=\"T_050d147a_a518_11eb_b043_0242ac1c0002row6_col9\" class=\"data row6 col9\" >-0.01</td>\n",
              "                        <td id=\"T_050d147a_a518_11eb_b043_0242ac1c0002row6_col10\" class=\"data row6 col10\" >0.14</td>\n",
              "                        <td id=\"T_050d147a_a518_11eb_b043_0242ac1c0002row6_col11\" class=\"data row6 col11\" >0.08</td>\n",
              "                        <td id=\"T_050d147a_a518_11eb_b043_0242ac1c0002row6_col12\" class=\"data row6 col12\" >0.01</td>\n",
              "                        <td id=\"T_050d147a_a518_11eb_b043_0242ac1c0002row6_col13\" class=\"data row6 col13\" >0.04</td>\n",
              "                        <td id=\"T_050d147a_a518_11eb_b043_0242ac1c0002row6_col14\" class=\"data row6 col14\" >0.02</td>\n",
              "                        <td id=\"T_050d147a_a518_11eb_b043_0242ac1c0002row6_col15\" class=\"data row6 col15\" >-0.01</td>\n",
              "            </tr>\n",
              "            <tr>\n",
              "                        <th id=\"T_050d147a_a518_11eb_b043_0242ac1c0002level0_row7\" class=\"row_heading level0 row7\" >patient_visitors</th>\n",
              "                        <td id=\"T_050d147a_a518_11eb_b043_0242ac1c0002row7_col0\" class=\"data row7 col0\" >-0.03</td>\n",
              "                        <td id=\"T_050d147a_a518_11eb_b043_0242ac1c0002row7_col1\" class=\"data row7 col1\" >-0.04</td>\n",
              "                        <td id=\"T_050d147a_a518_11eb_b043_0242ac1c0002row7_col2\" class=\"data row7 col2\" >0.02</td>\n",
              "                        <td id=\"T_050d147a_a518_11eb_b043_0242ac1c0002row7_col3\" class=\"data row7 col3\" >-0.02</td>\n",
              "                        <td id=\"T_050d147a_a518_11eb_b043_0242ac1c0002row7_col4\" class=\"data row7 col4\" >0.09</td>\n",
              "                        <td id=\"T_050d147a_a518_11eb_b043_0242ac1c0002row7_col5\" class=\"data row7 col5\" >0.09</td>\n",
              "                        <td id=\"T_050d147a_a518_11eb_b043_0242ac1c0002row7_col6\" class=\"data row7 col6\" >-0.01</td>\n",
              "                        <td id=\"T_050d147a_a518_11eb_b043_0242ac1c0002row7_col7\" class=\"data row7 col7\" >1.00</td>\n",
              "                        <td id=\"T_050d147a_a518_11eb_b043_0242ac1c0002row7_col8\" class=\"data row7 col8\" >-0.15</td>\n",
              "                        <td id=\"T_050d147a_a518_11eb_b043_0242ac1c0002row7_col9\" class=\"data row7 col9\" >0.01</td>\n",
              "                        <td id=\"T_050d147a_a518_11eb_b043_0242ac1c0002row7_col10\" class=\"data row7 col10\" >-0.03</td>\n",
              "                        <td id=\"T_050d147a_a518_11eb_b043_0242ac1c0002row7_col11\" class=\"data row7 col11\" >0.05</td>\n",
              "                        <td id=\"T_050d147a_a518_11eb_b043_0242ac1c0002row7_col12\" class=\"data row7 col12\" >0.02</td>\n",
              "                        <td id=\"T_050d147a_a518_11eb_b043_0242ac1c0002row7_col13\" class=\"data row7 col13\" >-0.02</td>\n",
              "                        <td id=\"T_050d147a_a518_11eb_b043_0242ac1c0002row7_col14\" class=\"data row7 col14\" >0.40</td>\n",
              "                        <td id=\"T_050d147a_a518_11eb_b043_0242ac1c0002row7_col15\" class=\"data row7 col15\" >0.69</td>\n",
              "            </tr>\n",
              "            <tr>\n",
              "                        <th id=\"T_050d147a_a518_11eb_b043_0242ac1c0002level0_row8\" class=\"row_heading level0 row8\" >admission_deposit</th>\n",
              "                        <td id=\"T_050d147a_a518_11eb_b043_0242ac1c0002row8_col0\" class=\"data row8 col0\" >0.04</td>\n",
              "                        <td id=\"T_050d147a_a518_11eb_b043_0242ac1c0002row8_col1\" class=\"data row8 col1\" >0.02</td>\n",
              "                        <td id=\"T_050d147a_a518_11eb_b043_0242ac1c0002row8_col2\" class=\"data row8 col2\" >-0.04</td>\n",
              "                        <td id=\"T_050d147a_a518_11eb_b043_0242ac1c0002row8_col3\" class=\"data row8 col3\" >0.07</td>\n",
              "                        <td id=\"T_050d147a_a518_11eb_b043_0242ac1c0002row8_col4\" class=\"data row8 col4\" >-0.14</td>\n",
              "                        <td id=\"T_050d147a_a518_11eb_b043_0242ac1c0002row8_col5\" class=\"data row8 col5\" >0.08</td>\n",
              "                        <td id=\"T_050d147a_a518_11eb_b043_0242ac1c0002row8_col6\" class=\"data row8 col6\" >0.03</td>\n",
              "                        <td id=\"T_050d147a_a518_11eb_b043_0242ac1c0002row8_col7\" class=\"data row8 col7\" >-0.15</td>\n",
              "                        <td id=\"T_050d147a_a518_11eb_b043_0242ac1c0002row8_col8\" class=\"data row8 col8\" >1.00</td>\n",
              "                        <td id=\"T_050d147a_a518_11eb_b043_0242ac1c0002row8_col9\" class=\"data row8 col9\" >0.08</td>\n",
              "                        <td id=\"T_050d147a_a518_11eb_b043_0242ac1c0002row8_col10\" class=\"data row8 col10\" >0.02</td>\n",
              "                        <td id=\"T_050d147a_a518_11eb_b043_0242ac1c0002row8_col11\" class=\"data row8 col11\" >-0.03</td>\n",
              "                        <td id=\"T_050d147a_a518_11eb_b043_0242ac1c0002row8_col12\" class=\"data row8 col12\" >-0.02</td>\n",
              "                        <td id=\"T_050d147a_a518_11eb_b043_0242ac1c0002row8_col13\" class=\"data row8 col13\" >-0.08</td>\n",
              "                        <td id=\"T_050d147a_a518_11eb_b043_0242ac1c0002row8_col14\" class=\"data row8 col14\" >-0.09</td>\n",
              "                        <td id=\"T_050d147a_a518_11eb_b043_0242ac1c0002row8_col15\" class=\"data row8 col15\" >-0.07</td>\n",
              "            </tr>\n",
              "            <tr>\n",
              "                        <th id=\"T_050d147a_a518_11eb_b043_0242ac1c0002level0_row9\" class=\"row_heading level0 row9\" >department_index</th>\n",
              "                        <td id=\"T_050d147a_a518_11eb_b043_0242ac1c0002row9_col0\" class=\"data row9 col0\" >0.01</td>\n",
              "                        <td id=\"T_050d147a_a518_11eb_b043_0242ac1c0002row9_col1\" class=\"data row9 col1\" >-0.03</td>\n",
              "                        <td id=\"T_050d147a_a518_11eb_b043_0242ac1c0002row9_col2\" class=\"data row9 col2\" >-0.02</td>\n",
              "                        <td id=\"T_050d147a_a518_11eb_b043_0242ac1c0002row9_col3\" class=\"data row9 col3\" >-0.03</td>\n",
              "                        <td id=\"T_050d147a_a518_11eb_b043_0242ac1c0002row9_col4\" class=\"data row9 col4\" >-0.09</td>\n",
              "                        <td id=\"T_050d147a_a518_11eb_b043_0242ac1c0002row9_col5\" class=\"data row9 col5\" >0.05</td>\n",
              "                        <td id=\"T_050d147a_a518_11eb_b043_0242ac1c0002row9_col6\" class=\"data row9 col6\" >-0.01</td>\n",
              "                        <td id=\"T_050d147a_a518_11eb_b043_0242ac1c0002row9_col7\" class=\"data row9 col7\" >0.01</td>\n",
              "                        <td id=\"T_050d147a_a518_11eb_b043_0242ac1c0002row9_col8\" class=\"data row9 col8\" >0.08</td>\n",
              "                        <td id=\"T_050d147a_a518_11eb_b043_0242ac1c0002row9_col9\" class=\"data row9 col9\" >1.00</td>\n",
              "                        <td id=\"T_050d147a_a518_11eb_b043_0242ac1c0002row9_col10\" class=\"data row9 col10\" >-0.01</td>\n",
              "                        <td id=\"T_050d147a_a518_11eb_b043_0242ac1c0002row9_col11\" class=\"data row9 col11\" >0.02</td>\n",
              "                        <td id=\"T_050d147a_a518_11eb_b043_0242ac1c0002row9_col12\" class=\"data row9 col12\" >0.00</td>\n",
              "                        <td id=\"T_050d147a_a518_11eb_b043_0242ac1c0002row9_col13\" class=\"data row9 col13\" >-0.02</td>\n",
              "                        <td id=\"T_050d147a_a518_11eb_b043_0242ac1c0002row9_col14\" class=\"data row9 col14\" >-0.00</td>\n",
              "                        <td id=\"T_050d147a_a518_11eb_b043_0242ac1c0002row9_col15\" class=\"data row9 col15\" >0.06</td>\n",
              "            </tr>\n",
              "            <tr>\n",
              "                        <th id=\"T_050d147a_a518_11eb_b043_0242ac1c0002level0_row10\" class=\"row_heading level0 row10\" >ward_facility_index</th>\n",
              "                        <td id=\"T_050d147a_a518_11eb_b043_0242ac1c0002row10_col0\" class=\"data row10 col0\" >0.13</td>\n",
              "                        <td id=\"T_050d147a_a518_11eb_b043_0242ac1c0002row10_col1\" class=\"data row10 col1\" >0.26</td>\n",
              "                        <td id=\"T_050d147a_a518_11eb_b043_0242ac1c0002row10_col2\" class=\"data row10 col2\" >0.10</td>\n",
              "                        <td id=\"T_050d147a_a518_11eb_b043_0242ac1c0002row10_col3\" class=\"data row10 col3\" >0.51</td>\n",
              "                        <td id=\"T_050d147a_a518_11eb_b043_0242ac1c0002row10_col4\" class=\"data row10 col4\" >-0.05</td>\n",
              "                        <td id=\"T_050d147a_a518_11eb_b043_0242ac1c0002row10_col5\" class=\"data row10 col5\" >-0.08</td>\n",
              "                        <td id=\"T_050d147a_a518_11eb_b043_0242ac1c0002row10_col6\" class=\"data row10 col6\" >0.14</td>\n",
              "                        <td id=\"T_050d147a_a518_11eb_b043_0242ac1c0002row10_col7\" class=\"data row10 col7\" >-0.03</td>\n",
              "                        <td id=\"T_050d147a_a518_11eb_b043_0242ac1c0002row10_col8\" class=\"data row10 col8\" >0.02</td>\n",
              "                        <td id=\"T_050d147a_a518_11eb_b043_0242ac1c0002row10_col9\" class=\"data row10 col9\" >-0.01</td>\n",
              "                        <td id=\"T_050d147a_a518_11eb_b043_0242ac1c0002row10_col10\" class=\"data row10 col10\" >1.00</td>\n",
              "                        <td id=\"T_050d147a_a518_11eb_b043_0242ac1c0002row10_col11\" class=\"data row10 col11\" >0.22</td>\n",
              "                        <td id=\"T_050d147a_a518_11eb_b043_0242ac1c0002row10_col12\" class=\"data row10 col12\" >0.01</td>\n",
              "                        <td id=\"T_050d147a_a518_11eb_b043_0242ac1c0002row10_col13\" class=\"data row10 col13\" >0.07</td>\n",
              "                        <td id=\"T_050d147a_a518_11eb_b043_0242ac1c0002row10_col14\" class=\"data row10 col14\" >0.03</td>\n",
              "                        <td id=\"T_050d147a_a518_11eb_b043_0242ac1c0002row10_col15\" class=\"data row10 col15\" >0.10</td>\n",
              "            </tr>\n",
              "            <tr>\n",
              "                        <th id=\"T_050d147a_a518_11eb_b043_0242ac1c0002level0_row11\" class=\"row_heading level0 row11\" >ward_type_index</th>\n",
              "                        <td id=\"T_050d147a_a518_11eb_b043_0242ac1c0002row11_col0\" class=\"data row11 col0\" >0.01</td>\n",
              "                        <td id=\"T_050d147a_a518_11eb_b043_0242ac1c0002row11_col1\" class=\"data row11 col1\" >0.22</td>\n",
              "                        <td id=\"T_050d147a_a518_11eb_b043_0242ac1c0002row11_col2\" class=\"data row11 col2\" >-0.04</td>\n",
              "                        <td id=\"T_050d147a_a518_11eb_b043_0242ac1c0002row11_col3\" class=\"data row11 col3\" >0.19</td>\n",
              "                        <td id=\"T_050d147a_a518_11eb_b043_0242ac1c0002row11_col4\" class=\"data row11 col4\" >-0.05</td>\n",
              "                        <td id=\"T_050d147a_a518_11eb_b043_0242ac1c0002row11_col5\" class=\"data row11 col5\" >-0.02</td>\n",
              "                        <td id=\"T_050d147a_a518_11eb_b043_0242ac1c0002row11_col6\" class=\"data row11 col6\" >0.08</td>\n",
              "                        <td id=\"T_050d147a_a518_11eb_b043_0242ac1c0002row11_col7\" class=\"data row11 col7\" >0.05</td>\n",
              "                        <td id=\"T_050d147a_a518_11eb_b043_0242ac1c0002row11_col8\" class=\"data row11 col8\" >-0.03</td>\n",
              "                        <td id=\"T_050d147a_a518_11eb_b043_0242ac1c0002row11_col9\" class=\"data row11 col9\" >0.02</td>\n",
              "                        <td id=\"T_050d147a_a518_11eb_b043_0242ac1c0002row11_col10\" class=\"data row11 col10\" >0.22</td>\n",
              "                        <td id=\"T_050d147a_a518_11eb_b043_0242ac1c0002row11_col11\" class=\"data row11 col11\" >1.00</td>\n",
              "                        <td id=\"T_050d147a_a518_11eb_b043_0242ac1c0002row11_col12\" class=\"data row11 col12\" >0.01</td>\n",
              "                        <td id=\"T_050d147a_a518_11eb_b043_0242ac1c0002row11_col13\" class=\"data row11 col13\" >0.03</td>\n",
              "                        <td id=\"T_050d147a_a518_11eb_b043_0242ac1c0002row11_col14\" class=\"data row11 col14\" >0.08</td>\n",
              "                        <td id=\"T_050d147a_a518_11eb_b043_0242ac1c0002row11_col15\" class=\"data row11 col15\" >0.07</td>\n",
              "            </tr>\n",
              "            <tr>\n",
              "                        <th id=\"T_050d147a_a518_11eb_b043_0242ac1c0002level0_row12\" class=\"row_heading level0 row12\" >illness_severity_index</th>\n",
              "                        <td id=\"T_050d147a_a518_11eb_b043_0242ac1c0002row12_col0\" class=\"data row12 col0\" >0.00</td>\n",
              "                        <td id=\"T_050d147a_a518_11eb_b043_0242ac1c0002row12_col1\" class=\"data row12 col1\" >0.00</td>\n",
              "                        <td id=\"T_050d147a_a518_11eb_b043_0242ac1c0002row12_col2\" class=\"data row12 col2\" >-0.00</td>\n",
              "                        <td id=\"T_050d147a_a518_11eb_b043_0242ac1c0002row12_col3\" class=\"data row12 col3\" >0.01</td>\n",
              "                        <td id=\"T_050d147a_a518_11eb_b043_0242ac1c0002row12_col4\" class=\"data row12 col4\" >-0.02</td>\n",
              "                        <td id=\"T_050d147a_a518_11eb_b043_0242ac1c0002row12_col5\" class=\"data row12 col5\" >-0.05</td>\n",
              "                        <td id=\"T_050d147a_a518_11eb_b043_0242ac1c0002row12_col6\" class=\"data row12 col6\" >0.01</td>\n",
              "                        <td id=\"T_050d147a_a518_11eb_b043_0242ac1c0002row12_col7\" class=\"data row12 col7\" >0.02</td>\n",
              "                        <td id=\"T_050d147a_a518_11eb_b043_0242ac1c0002row12_col8\" class=\"data row12 col8\" >-0.02</td>\n",
              "                        <td id=\"T_050d147a_a518_11eb_b043_0242ac1c0002row12_col9\" class=\"data row12 col9\" >0.00</td>\n",
              "                        <td id=\"T_050d147a_a518_11eb_b043_0242ac1c0002row12_col10\" class=\"data row12 col10\" >0.01</td>\n",
              "                        <td id=\"T_050d147a_a518_11eb_b043_0242ac1c0002row12_col11\" class=\"data row12 col11\" >0.01</td>\n",
              "                        <td id=\"T_050d147a_a518_11eb_b043_0242ac1c0002row12_col12\" class=\"data row12 col12\" >1.00</td>\n",
              "                        <td id=\"T_050d147a_a518_11eb_b043_0242ac1c0002row12_col13\" class=\"data row12 col13\" >0.00</td>\n",
              "                        <td id=\"T_050d147a_a518_11eb_b043_0242ac1c0002row12_col14\" class=\"data row12 col14\" >0.03</td>\n",
              "                        <td id=\"T_050d147a_a518_11eb_b043_0242ac1c0002row12_col15\" class=\"data row12 col15\" >0.00</td>\n",
              "            </tr>\n",
              "            <tr>\n",
              "                        <th id=\"T_050d147a_a518_11eb_b043_0242ac1c0002level0_row13\" class=\"row_heading level0 row13\" >type_of_admission_index</th>\n",
              "                        <td id=\"T_050d147a_a518_11eb_b043_0242ac1c0002row13_col0\" class=\"data row13 col0\" >-0.00</td>\n",
              "                        <td id=\"T_050d147a_a518_11eb_b043_0242ac1c0002row13_col1\" class=\"data row13 col1\" >-0.01</td>\n",
              "                        <td id=\"T_050d147a_a518_11eb_b043_0242ac1c0002row13_col2\" class=\"data row13 col2\" >0.04</td>\n",
              "                        <td id=\"T_050d147a_a518_11eb_b043_0242ac1c0002row13_col3\" class=\"data row13 col3\" >0.05</td>\n",
              "                        <td id=\"T_050d147a_a518_11eb_b043_0242ac1c0002row13_col4\" class=\"data row13 col4\" >0.04</td>\n",
              "                        <td id=\"T_050d147a_a518_11eb_b043_0242ac1c0002row13_col5\" class=\"data row13 col5\" >-0.06</td>\n",
              "                        <td id=\"T_050d147a_a518_11eb_b043_0242ac1c0002row13_col6\" class=\"data row13 col6\" >0.04</td>\n",
              "                        <td id=\"T_050d147a_a518_11eb_b043_0242ac1c0002row13_col7\" class=\"data row13 col7\" >-0.02</td>\n",
              "                        <td id=\"T_050d147a_a518_11eb_b043_0242ac1c0002row13_col8\" class=\"data row13 col8\" >-0.08</td>\n",
              "                        <td id=\"T_050d147a_a518_11eb_b043_0242ac1c0002row13_col9\" class=\"data row13 col9\" >-0.02</td>\n",
              "                        <td id=\"T_050d147a_a518_11eb_b043_0242ac1c0002row13_col10\" class=\"data row13 col10\" >0.07</td>\n",
              "                        <td id=\"T_050d147a_a518_11eb_b043_0242ac1c0002row13_col11\" class=\"data row13 col11\" >0.03</td>\n",
              "                        <td id=\"T_050d147a_a518_11eb_b043_0242ac1c0002row13_col12\" class=\"data row13 col12\" >0.00</td>\n",
              "                        <td id=\"T_050d147a_a518_11eb_b043_0242ac1c0002row13_col13\" class=\"data row13 col13\" >1.00</td>\n",
              "                        <td id=\"T_050d147a_a518_11eb_b043_0242ac1c0002row13_col14\" class=\"data row13 col14\" >-0.00</td>\n",
              "                        <td id=\"T_050d147a_a518_11eb_b043_0242ac1c0002row13_col15\" class=\"data row13 col15\" >-0.04</td>\n",
              "            </tr>\n",
              "            <tr>\n",
              "                        <th id=\"T_050d147a_a518_11eb_b043_0242ac1c0002level0_row14\" class=\"row_heading level0 row14\" >stay_days_index</th>\n",
              "                        <td id=\"T_050d147a_a518_11eb_b043_0242ac1c0002row14_col0\" class=\"data row14 col0\" >0.04</td>\n",
              "                        <td id=\"T_050d147a_a518_11eb_b043_0242ac1c0002row14_col1\" class=\"data row14 col1\" >0.05</td>\n",
              "                        <td id=\"T_050d147a_a518_11eb_b043_0242ac1c0002row14_col2\" class=\"data row14 col2\" >0.01</td>\n",
              "                        <td id=\"T_050d147a_a518_11eb_b043_0242ac1c0002row14_col3\" class=\"data row14 col3\" >0.04</td>\n",
              "                        <td id=\"T_050d147a_a518_11eb_b043_0242ac1c0002row14_col4\" class=\"data row14 col4\" >-0.10</td>\n",
              "                        <td id=\"T_050d147a_a518_11eb_b043_0242ac1c0002row14_col5\" class=\"data row14 col5\" >0.04</td>\n",
              "                        <td id=\"T_050d147a_a518_11eb_b043_0242ac1c0002row14_col6\" class=\"data row14 col6\" >0.02</td>\n",
              "                        <td id=\"T_050d147a_a518_11eb_b043_0242ac1c0002row14_col7\" class=\"data row14 col7\" >0.40</td>\n",
              "                        <td id=\"T_050d147a_a518_11eb_b043_0242ac1c0002row14_col8\" class=\"data row14 col8\" >-0.09</td>\n",
              "                        <td id=\"T_050d147a_a518_11eb_b043_0242ac1c0002row14_col9\" class=\"data row14 col9\" >-0.00</td>\n",
              "                        <td id=\"T_050d147a_a518_11eb_b043_0242ac1c0002row14_col10\" class=\"data row14 col10\" >0.03</td>\n",
              "                        <td id=\"T_050d147a_a518_11eb_b043_0242ac1c0002row14_col11\" class=\"data row14 col11\" >0.08</td>\n",
              "                        <td id=\"T_050d147a_a518_11eb_b043_0242ac1c0002row14_col12\" class=\"data row14 col12\" >0.03</td>\n",
              "                        <td id=\"T_050d147a_a518_11eb_b043_0242ac1c0002row14_col13\" class=\"data row14 col13\" >-0.00</td>\n",
              "                        <td id=\"T_050d147a_a518_11eb_b043_0242ac1c0002row14_col14\" class=\"data row14 col14\" >1.00</td>\n",
              "                        <td id=\"T_050d147a_a518_11eb_b043_0242ac1c0002row14_col15\" class=\"data row14 col15\" >0.38</td>\n",
              "            </tr>\n",
              "            <tr>\n",
              "                        <th id=\"T_050d147a_a518_11eb_b043_0242ac1c0002level0_row15\" class=\"row_heading level0 row15\" >prediction</th>\n",
              "                        <td id=\"T_050d147a_a518_11eb_b043_0242ac1c0002row15_col0\" class=\"data row15 col0\" >0.01</td>\n",
              "                        <td id=\"T_050d147a_a518_11eb_b043_0242ac1c0002row15_col1\" class=\"data row15 col1\" >0.06</td>\n",
              "                        <td id=\"T_050d147a_a518_11eb_b043_0242ac1c0002row15_col2\" class=\"data row15 col2\" >0.06</td>\n",
              "                        <td id=\"T_050d147a_a518_11eb_b043_0242ac1c0002row15_col3\" class=\"data row15 col3\" >0.04</td>\n",
              "                        <td id=\"T_050d147a_a518_11eb_b043_0242ac1c0002row15_col4\" class=\"data row15 col4\" >-0.22</td>\n",
              "                        <td id=\"T_050d147a_a518_11eb_b043_0242ac1c0002row15_col5\" class=\"data row15 col5\" >0.30</td>\n",
              "                        <td id=\"T_050d147a_a518_11eb_b043_0242ac1c0002row15_col6\" class=\"data row15 col6\" >-0.01</td>\n",
              "                        <td id=\"T_050d147a_a518_11eb_b043_0242ac1c0002row15_col7\" class=\"data row15 col7\" >0.69</td>\n",
              "                        <td id=\"T_050d147a_a518_11eb_b043_0242ac1c0002row15_col8\" class=\"data row15 col8\" >-0.07</td>\n",
              "                        <td id=\"T_050d147a_a518_11eb_b043_0242ac1c0002row15_col9\" class=\"data row15 col9\" >0.06</td>\n",
              "                        <td id=\"T_050d147a_a518_11eb_b043_0242ac1c0002row15_col10\" class=\"data row15 col10\" >0.10</td>\n",
              "                        <td id=\"T_050d147a_a518_11eb_b043_0242ac1c0002row15_col11\" class=\"data row15 col11\" >0.07</td>\n",
              "                        <td id=\"T_050d147a_a518_11eb_b043_0242ac1c0002row15_col12\" class=\"data row15 col12\" >0.00</td>\n",
              "                        <td id=\"T_050d147a_a518_11eb_b043_0242ac1c0002row15_col13\" class=\"data row15 col13\" >-0.04</td>\n",
              "                        <td id=\"T_050d147a_a518_11eb_b043_0242ac1c0002row15_col14\" class=\"data row15 col14\" >0.38</td>\n",
              "                        <td id=\"T_050d147a_a518_11eb_b043_0242ac1c0002row15_col15\" class=\"data row15 col15\" >1.00</td>\n",
              "            </tr>\n",
              "    </tbody></table>"
            ],
            "text/plain": [
              "<pandas.io.formats.style.Styler at 0x7f38b452b610>"
            ]
          },
          "metadata": {
            "tags": []
          },
          "execution_count": 53
        }
      ]
    },
    {
      "cell_type": "markdown",
      "metadata": {
        "id": "iU5XXEqIlXmV"
      },
      "source": [
        "#### ***3D Scatter Plot***"
      ]
    },
    {
      "cell_type": "code",
      "metadata": {
        "id": "i5iqpjEallG1"
      },
      "source": [
        "import matplotlib.pyplot as plt\n",
        "import matplotlib.cm as cm"
      ],
      "execution_count": 55,
      "outputs": []
    },
    {
      "cell_type": "code",
      "metadata": {
        "id": "rjjK-GE7kpkn"
      },
      "source": [
        "def scatter_plot(df, z_value):\n",
        "  if z_value:\n",
        "    try:\n",
        "      fig=plt.figure(figsize=(10,10))\n",
        "      fig.subplots_adjust(bottom=0.2)\n",
        "      ax = fig.add_subplot(111)\n",
        "      z_label = z_value.replace('_index', '').replace('_', ' ').title()\n",
        "      \n",
        "      ax= plt.axes(projection='3d')\n",
        "      ax.dist = 10\n",
        "      ax.set_xlabel('Stay days')\n",
        "      ax.set_ylabel('Prediction')\n",
        "      ax.set_zlabel(z_label)\n",
        "      ax.set_title(f'Predicted Vs Stay days Vs {z_label}')\n",
        "      ax.scatter(df['stay_days'],df['predictedLabel'],df[z_value])\n",
        "      plt.show()\n",
        "    except ValueError:\n",
        "      pass\n",
        "    else: pass\n",
        "\n",
        "\n",
        "z_value = 'illness_severity_index'"
      ],
      "execution_count": 63,
      "outputs": []
    },
    {
      "cell_type": "markdown",
      "metadata": {
        "id": "she1EZoXq6U8"
      },
      "source": [
        "##### **Decision Tree**"
      ]
    },
    {
      "cell_type": "code",
      "metadata": {
        "id": "3kkPMWCAGR_i",
        "colab": {
          "base_uri": "https://localhost:8080/",
          "height": 575
        },
        "outputId": "0ccbd91a-5783-418b-990c-b63737ea8959"
      },
      "source": [
        "scatter_plot(df1, z_value)"
      ],
      "execution_count": 65,
      "outputs": [
        {
          "output_type": "stream",
          "text": [
            "/usr/local/lib/python3.7/dist-packages/ipykernel_launcher.py:11: MatplotlibDeprecationWarning: Adding an axes using the same arguments as a previous axes currently reuses the earlier instance.  In a future version, a new instance will always be created and returned.  Meanwhile, this warning can be suppressed, and the future behavior ensured, by passing a unique label to each axes instance.\n",
            "  # This is added back by InteractiveShellApp.init_path()\n"
          ],
          "name": "stderr"
        },
        {
          "output_type": "display_data",
          "data": {
            "image/png": "[encoded data removed]",
            "text/plain": [
              "<Figure size 720x720 with 1 Axes>"
            ]
          },
          "metadata": {
            "tags": [],
            "needs_background": "light"
          }
        }
      ]
    },
    {
      "cell_type": "markdown",
      "metadata": {
        "id": "Glq66JFlrUea"
      },
      "source": [
        "##### **Random Forest**"
      ]
    },
    {
      "cell_type": "code",
      "metadata": {
        "colab": {
          "base_uri": "https://localhost:8080/",
          "height": 575
        },
        "id": "Lf8POHe0rLAP",
        "outputId": "4870b803-b96c-4c5b-ff6b-f35e19200783"
      },
      "source": [
        "scatter_plot(df2, z_value)"
      ],
      "execution_count": 66,
      "outputs": [
        {
          "output_type": "stream",
          "text": [
            "/usr/local/lib/python3.7/dist-packages/ipykernel_launcher.py:11: MatplotlibDeprecationWarning: Adding an axes using the same arguments as a previous axes currently reuses the earlier instance.  In a future version, a new instance will always be created and returned.  Meanwhile, this warning can be suppressed, and the future behavior ensured, by passing a unique label to each axes instance.\n",
            "  # This is added back by InteractiveShellApp.init_path()\n"
          ],
          "name": "stderr"
        },
        {
          "output_type": "display_data",
          "data": {
            "image/png": "[encoded data removed]",
            "text/plain": [
              "<Figure size 720x720 with 1 Axes>"
            ]
          },
          "metadata": {
            "tags": [],
            "needs_background": "light"
          }
        }
      ]
    }
  ]
}