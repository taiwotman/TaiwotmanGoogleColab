{
  "nbformat": 4,
  "nbformat_minor": 0,
  "metadata": {
    "colab": {
      "name": "COVID HOSPITAL TREATMENT: Predicting Patient's Length of Stay(LOS) using Kaggle Data",
      "provenance": [],
      "collapsed_sections": [],
      "toc_visible": true,
      "mount_file_id": "1wAq-QKbVWDxrZSokGnSCuNC1xs3rk_0S",
      "authorship_tag": "ABX9TyNpdmWryEAolPXKv8ayn3I0",
      "include_colab_link": true
    },
    "kernelspec": {
      "name": "python3",
      "display_name": "Python 3"
    }
  },
  "cells": [
    {
      "cell_type": "markdown",
      "metadata": {
        "id": "view-in-github",
        "colab_type": "text"
      },
      "source": [
        "<a href=\"https://colab.research.google.com/github/taiwotman/TaiwotmanGoogleColab/blob/main/COVID_HOSPITAL_TREATMENT_Predicting_Patient's_Length_of_Stay(LOS)_using_Kaggle_Data.ipynb\" target=\"_parent\"><img src=\"https://colab.research.google.com/assets/colab-badge.svg\" alt=\"Open In Colab\"/></a>"
      ]
    },
    {
      "cell_type": "markdown",
      "metadata": {
        "id": "7TAj51jFn_-z"
      },
      "source": [
        "**[COVID HOSPITAL TREATMENT](https://www.kaggle.com/arashnic/covid19-hospital-treatment)**\n",
        "\n",
        "Dataset available on Kaggle for download: [data](https://www.kaggle.com/arashnic/covid19-hospital-treatment/download)\n",
        "\n",
        "---\n",
        "\n",
        "\n"
      ]
    },
    {
      "cell_type": "markdown",
      "metadata": {
        "id": "pRvqT1spUfIJ"
      },
      "source": [
        "**Mount content from Google Drive**\n"
      ]
    },
    {
      "cell_type": "code",
      "metadata": {
        "colab": {
          "base_uri": "https://localhost:8080/"
        },
        "id": "TsKj0QruWGpn",
        "outputId": "9e282750-d825-45a3-fdef-e38ad9f71b96"
      },
      "source": [
        "from google.colab import drive\n",
        "drive.mount('/content/drive')"
      ],
      "execution_count": 1,
      "outputs": [
        {
          "output_type": "stream",
          "text": [
            "Drive already mounted at /content/drive; to attempt to forcibly remount, call drive.mount(\"/content/drive\", force_remount=True).\n"
          ],
          "name": "stdout"
        }
      ]
    },
    {
      "cell_type": "markdown",
      "metadata": {
        "id": "159mQnlapRTV"
      },
      "source": [
        "**Install Java 8**"
      ]
    },
    {
      "cell_type": "code",
      "metadata": {
        "id": "uokR5JVBYM8g"
      },
      "source": [
        "!apt-get install openjdk-8-jdk-headless -qq > /dev/null"
      ],
      "execution_count": 2,
      "outputs": []
    },
    {
      "cell_type": "markdown",
      "metadata": {
        "id": "-N-VRSYZpi91"
      },
      "source": [
        "**Install pyspark libraries**"
      ]
    },
    {
      "cell_type": "code",
      "metadata": {
        "id": "VRdIhnUCYPbJ",
        "colab": {
          "base_uri": "https://localhost:8080/"
        },
        "outputId": "438f2572-749c-4517-e4fd-12d6277d60c6"
      },
      "source": [
        "!pip install -q findspark\n",
        "!pip install pyspark\n"
      ],
      "execution_count": 3,
      "outputs": [
        {
          "output_type": "stream",
          "text": [
            "Requirement already satisfied: pyspark in /usr/local/lib/python3.7/dist-packages (3.1.1)\n",
            "Requirement already satisfied: py4j==0.10.9 in /usr/local/lib/python3.7/dist-packages (from pyspark) (0.10.9)\n"
          ],
          "name": "stdout"
        }
      ]
    },
    {
      "cell_type": "markdown",
      "metadata": {
        "id": "HNvqk9-CptIV"
      },
      "source": [
        "**Set JAVA_HOME and SPARK_HOME**"
      ]
    },
    {
      "cell_type": "code",
      "metadata": {
        "id": "BuakdVqeXCyE"
      },
      "source": [
        "import os\n",
        "os.environ[\"JAVA_HOME\"] = \"/usr/lib/jvm/java-8-openjdk-amd64\"\n",
        "os.environ[\"SPARK_HOME\"] = \"/usr/local/lib/python3.7/dist-packages/pyspark\"\n"
      ],
      "execution_count": 15,
      "outputs": []
    },
    {
      "cell_type": "markdown",
      "metadata": {
        "id": "Vh54uX-sp3Vj"
      },
      "source": [
        "**Ensure spark is set up and running.**\n"
      ]
    },
    {
      "cell_type": "code",
      "metadata": {
        "colab": {
          "base_uri": "https://localhost:8080/",
          "height": 35
        },
        "id": "OXbtvVTvgQW7",
        "outputId": "e2f1d5a1-3e5d-41cc-9f08-93a1013fc796"
      },
      "source": [
        "import findspark \n",
        "findspark.find()"
      ],
      "execution_count": 16,
      "outputs": [
        {
          "output_type": "execute_result",
          "data": {
            "application/vnd.google.colaboratory.intrinsic+json": {
              "type": "string"
            },
            "text/plain": [
              "'/usr/local/lib/python3.7/dist-packages/pyspark'"
            ]
          },
          "metadata": {
            "tags": []
          },
          "execution_count": 16
        }
      ]
    },
    {
      "cell_type": "code",
      "metadata": {
        "id": "UdY-CWvCXEmQ"
      },
      "source": [
        "\n",
        "from pyspark.sql import SparkSession\n",
        "\n",
        "spark = SparkSession.builder.master('local')\\\n",
        ".appName(\"Predicting LOS for High Risk Patient\")\\\n",
        ".getOrCreate()"
      ],
      "execution_count": 18,
      "outputs": []
    },
    {
      "cell_type": "code",
      "metadata": {
        "colab": {
          "base_uri": "https://localhost:8080/",
          "height": 216
        },
        "id": "IyWFnKUtf7d0",
        "outputId": "91ca5850-9573-474f-bff4-a940a883bb55"
      },
      "source": [
        "spark"
      ],
      "execution_count": 19,
      "outputs": [
        {
          "output_type": "execute_result",
          "data": {
            "text/html": [
              "\n",
              "            <div>\n",
              "                <p><b>SparkSession - in-memory</b></p>\n",
              "                \n",
              "        <div>\n",
              "            <p><b>SparkContext</b></p>\n",
              "\n",
              "            <p><a href=\"http://d3ed8975f0c9:4040\">Spark UI</a></p>\n",
              "\n",
              "            <dl>\n",
              "              <dt>Version</dt>\n",
              "                <dd><code>v3.1.1</code></dd>\n",
              "              <dt>Master</dt>\n",
              "                <dd><code>local</code></dd>\n",
              "              <dt>AppName</dt>\n",
              "                <dd><code>Predicting LOS for High Risk Patient</code></dd>\n",
              "            </dl>\n",
              "        </div>\n",
              "        \n",
              "            </div>\n",
              "        "
            ],
            "text/plain": [
              "<pyspark.sql.session.SparkSession at 0x7f208140fc90>"
            ]
          },
          "metadata": {
            "tags": []
          },
          "execution_count": 19
        }
      ]
    },
    {
      "cell_type": "markdown",
      "metadata": {
        "id": "uhZktJMQqCif"
      },
      "source": [
        "**Read file from the mounted Drive in spark dataframe**"
      ]
    },
    {
      "cell_type": "code",
      "metadata": {
        "id": "zyDaR2-_gjbI"
      },
      "source": [
        "filepath = \"/content/drive/MyDrive/Colab Notebooks/data/host_train.csv\" #Change this to your data filepath\n",
        "\n",
        "df  = spark.read.option(\"header\", \"true\").csv(filepath)\n"
      ],
      "execution_count": 20,
      "outputs": []
    },
    {
      "cell_type": "markdown",
      "metadata": {
        "id": "V9kIQjI0qVEt"
      },
      "source": [
        "**Data Preparation**\n"
      ]
    },
    {
      "cell_type": "code",
      "metadata": {
        "colab": {
          "base_uri": "https://localhost:8080/"
        },
        "id": "-Wy2E0bLhSi5",
        "outputId": "509beaeb-6b7a-4e84-d5d1-8694723bbaa1"
      },
      "source": [
        "df.printSchema()"
      ],
      "execution_count": 21,
      "outputs": [
        {
          "output_type": "stream",
          "text": [
            "root\n",
            " |-- case_id: string (nullable = true)\n",
            " |-- Hospital: string (nullable = true)\n",
            " |-- Hospital_type: string (nullable = true)\n",
            " |-- Hospital_city: string (nullable = true)\n",
            " |-- Hospital_region: string (nullable = true)\n",
            " |-- Available_Extra_Rooms_in_Hospital: string (nullable = true)\n",
            " |-- Department: string (nullable = true)\n",
            " |-- Ward_Type: string (nullable = true)\n",
            " |-- Ward_Facility: string (nullable = true)\n",
            " |-- Bed_Grade: string (nullable = true)\n",
            " |-- patientid: string (nullable = true)\n",
            " |-- City_Code_Patient: string (nullable = true)\n",
            " |-- Type of Admission: string (nullable = true)\n",
            " |-- Illness_Severity: string (nullable = true)\n",
            " |-- Patient_Visitors: string (nullable = true)\n",
            " |-- Age: string (nullable = true)\n",
            " |-- Admission_Deposit: string (nullable = true)\n",
            " |-- Stay_Days: string (nullable = true)\n",
            "\n"
          ],
          "name": "stdout"
        }
      ]
    },
    {
      "cell_type": "code",
      "metadata": {
        "colab": {
          "base_uri": "https://localhost:8080/"
        },
        "id": "I8Pv9OcshUnw",
        "outputId": "14e42d6f-2d13-439b-90c2-2a665263d7ae"
      },
      "source": [
        "df.count()"
      ],
      "execution_count": 22,
      "outputs": [
        {
          "output_type": "execute_result",
          "data": {
            "text/plain": [
              "318438"
            ]
          },
          "metadata": {
            "tags": []
          },
          "execution_count": 22
        }
      ]
    },
    {
      "cell_type": "code",
      "metadata": {
        "colab": {
          "base_uri": "https://localhost:8080/"
        },
        "id": "u9Ejddl0hYVC",
        "outputId": "c38cff40-26ad-4110-e024-0e46ab5c77e0"
      },
      "source": [
        "df.show(30)"
      ],
      "execution_count": 32,
      "outputs": [
        {
          "output_type": "stream",
          "text": [
            "+-------+--------+-------------+-------------+---------------+---------------------------------+------------+---------+-------------+---------+---------+-----------------+-----------------+----------------+----------------+-----+-----------------+---------+\n",
            "|case_id|Hospital|Hospital_type|Hospital_city|Hospital_region|Available_Extra_Rooms_in_Hospital|  Department|Ward_Type|Ward_Facility|Bed_Grade|patientid|City_Code_Patient|Type of Admission|Illness_Severity|Patient_Visitors|  Age|Admission_Deposit|Stay_Days|\n",
            "+-------+--------+-------------+-------------+---------------+---------------------------------+------------+---------+-------------+---------+---------+-----------------+-----------------+----------------+----------------+-----+-----------------+---------+\n",
            "|      1|       8|            2|            3|              2|                                3|radiotherapy|        R|            F|      2.0|    31397|              7.0|        Emergency|         Extreme|               2|51-60|           4911.0|     0-10|\n",
            "|      2|       2|            2|            5|              2|                                2|radiotherapy|        S|            F|      2.0|    31397|              7.0|           Trauma|         Extreme|               2|51-60|           5954.0|    41-50|\n",
            "|      3|      10|            4|            1|              0|                                2|  anesthesia|        S|            E|      2.0|    31397|              7.0|           Trauma|         Extreme|               2|51-60|           4745.0|    31-40|\n",
            "|      4|      26|            1|            2|              1|                                2|radiotherapy|        R|            D|      2.0|    31397|              7.0|           Trauma|         Extreme|               2|51-60|           7272.0|    41-50|\n",
            "|      5|      26|            1|            2|              1|                                2|radiotherapy|        S|            D|      2.0|    31397|              7.0|           Trauma|         Extreme|               2|51-60|           5558.0|    41-50|\n",
            "|      6|      23|            0|            6|              0|                                2|  anesthesia|        S|            F|      2.0|    31397|              7.0|           Trauma|         Extreme|               2|51-60|           4449.0|    11-20|\n",
            "|      7|      32|            5|            9|              1|                                1|radiotherapy|        S|            B|      3.0|    31397|              7.0|        Emergency|         Extreme|               2|51-60|           6167.0|     0-10|\n",
            "|      8|      23|            0|            6|              0|                                4|radiotherapy|        Q|            F|      3.0|    31397|              7.0|           Trauma|         Extreme|               2|51-60|           5571.0|    41-50|\n",
            "|      9|       1|            3|           10|              1|                                2|  gynecology|        R|            B|      4.0|    31397|              7.0|           Trauma|         Extreme|               2|51-60|           7223.0|    51-60|\n",
            "|     10|      10|            4|            1|              0|                                2|  gynecology|        S|            E|      3.0|    31397|              7.0|           Trauma|         Extreme|               2|51-60|           6056.0|    31-40|\n",
            "|     11|      22|            6|            9|              1|                                2|radiotherapy|        S|            B|      2.0|    31397|              7.0|           Urgent|         Extreme|               2|51-60|           5797.0|    21-30|\n",
            "|     12|      26|            1|            2|              1|                                4|radiotherapy|        R|            D|      1.0|    31397|              7.0|           Urgent|         Extreme|               2|51-60|           5993.0|    11-20|\n",
            "|     13|      16|            2|            3|              2|                                2|radiotherapy|        R|            A|      3.0|    31397|              7.0|        Emergency|         Extreme|               2|51-60|           5141.0|     0-10|\n",
            "|     14|       9|            3|            5|              2|                                3|radiotherapy|        S|            F|      3.0|    31397|              7.0|           Urgent|         Extreme|               2|51-60|           8477.0|    21-30|\n",
            "|     15|       6|            0|            6|              0|                                4|  gynecology|        Q|            F|      3.0|    63418|              8.0|        Emergency|         Extreme|               2|71-80|           2685.0|     0-10|\n",
            "|     16|       6|            0|            6|              0|                                3|  gynecology|        Q|            F|      3.0|    63418|              8.0|        Emergency|         Extreme|               2|71-80|           9398.0|     0-10|\n",
            "|     17|      23|            0|            6|              0|                                4|radiotherapy|        Q|            F|      3.0|    63418|              8.0|           Urgent|         Extreme|               4|71-80|           2933.0|     0-10|\n",
            "|     18|      29|            0|            4|              0|                                4|  anesthesia|        S|            F|      3.0|    63418|              8.0|        Emergency|         Extreme|               2|71-80|           5342.0|    11-20|\n",
            "|     19|      32|            5|            9|              1|                                4|radiotherapy|        S|            B|      2.0|    63418|              8.0|           Trauma|         Extreme|               2|71-80|           7442.0|    21-30|\n",
            "|     20|      12|            0|            9|              1|                                4|radiotherapy|        Q|            B|      2.0|    63418|              8.0|           Trauma|         Extreme|               2|71-80|           5155.0|    31-40|\n",
            "|     21|      16|            2|            3|              2|                                2|  anesthesia|        S|            A|      3.0|    63418|              8.0|           Trauma|         Extreme|               2|71-80|           8181.0|    31-40|\n",
            "|     22|       3|            2|            3|              2|                                2|  anesthesia|        R|            A|      3.0|    63418|              8.0|           Trauma|         Extreme|               2|71-80|           6672.0|    21-30|\n",
            "|     23|      21|            2|            3|              2|                                2|  anesthesia|        S|            A|      3.0|    63418|              8.0|           Trauma|         Extreme|               2|71-80|           6364.0|    11-20|\n",
            "|     24|       6|            0|            6|              0|                                3|  anesthesia|        R|            F|      3.0|    63418|              8.0|           Urgent|         Extreme|               2|71-80|           4664.0|    21-30|\n",
            "|     25|      26|            1|            2|              1|                                4|radiotherapy|        Q|            D|      1.0|    63418|              8.0|           Trauma|         Extreme|               4|71-80|           4091.0|    31-40|\n",
            "|     26|      28|            1|           11|              0|                                4|  gynecology|        R|            F|      2.0|     8088|              2.0|        Emergency|        Moderate|               2|31-40|           2405.0|    11-20|\n",
            "|     27|      26|            1|            2|              1|                                4|  anesthesia|        Q|            D|      3.0|     8088|              2.0|           Trauma|        Moderate|               2|31-40|           5164.0|    11-20|\n",
            "|     28|      26|            1|            2|              1|                                4|  gynecology|        R|            D|      3.0|     8088|              2.0|           Trauma|        Moderate|               2|31-40|           5055.0|    21-30|\n",
            "|     29|       6|            0|            6|              0|                                4|  gynecology|        Q|            F|      2.0|     8088|              2.0|           Trauma|        Moderate|               4|31-40|           3339.0|    31-40|\n",
            "|     30|      27|            0|            7|              1|                                4|  gynecology|        R|            C|      2.0|     8088|              2.0|           Trauma|        Moderate|               2|31-40|           5757.0|    21-30|\n",
            "+-------+--------+-------------+-------------+---------------+---------------------------------+------------+---------+-------------+---------+---------+-----------------+-----------------+----------------+----------------+-----+-----------------+---------+\n",
            "only showing top 30 rows\n",
            "\n"
          ],
          "name": "stdout"
        }
      ]
    },
    {
      "cell_type": "markdown",
      "metadata": {
        "id": "iiQaJ_86NR5J"
      },
      "source": [
        "**Observations on Dataframe Schema**\n",
        "\n",
        "\n",
        "\\begin{array}{ccc}\n",
        "Column\\:Name&Critical\\:Factor&Data\\:Type&Transformation\\:required&Transformation\\\\\n",
        "case\\_id & No &String &No&N/A \\\\ \n",
        "Hospital & Yes &String&Yes&String\\:to\\:integer\\\\\n",
        "Hospital\\_type & Yes &String&Yes& String\\:to\\:integer\\\\\n",
        "Hospital\\_city & Yes &String&Yes&String\\:to\\:integer\\\\\n",
        "Hospital\\_region & Yes &String&Yes&String\\:to\\:integer\\\\\n",
        "Available\\_extra\\_rooms\\_in\\_hospital & Yes &String&Yes&String\\:to\\:integer\\\\\n",
        "Department & Yes &String&Yes&String\\:to\\:index\\\\\n",
        "Ward\\_type & Yes &String&Yes&String\\:to\\:index\\\\\n",
        "Ward\\_facility & Yes &String&Yes&String\\:to\\:index\\\\\n",
        "Bed\\_grade & Yes &String&Yes&String\\:to\\:integer\\\\\n",
        "Patientid & No &String&Yes&String\\:to\\:integer\\\\\n",
        "City\\_Code\\_Patient & Yes &String&Yes&String\\:to\\:integer\\\\\n",
        "Type\\:of\\:Admission & Yes &String&Yes&String\\:to\\:index\\\\\n",
        "Illness\\_Severity & Yes &String&Yes&String\\:to\\:index\\\\\n",
        "Patient\\_Visitors & Yes &String&Yes&String\\:to\\:index\\\\\n",
        "Age & Yes &String&Yes&String\\:to\\:index\\\\\n",
        "Admission\\_Deposit& Yes &String&Yes&String\\:to\\:integer\\\\\n",
        "Stay\\_Days & Target\\:variable\\:or\\:Label &String&Yes&String\\:to\\:index\\\\\n",
        "\\end{array}\n",
        "\n",
        "\n"
      ]
    },
    {
      "cell_type": "markdown",
      "metadata": {
        "id": "zAKmYoIubpql"
      },
      "source": [
        "**First Level Transformation**"
      ]
    },
    {
      "cell_type": "code",
      "metadata": {
        "colab": {
          "base_uri": "https://localhost:8080/"
        },
        "id": "MOwgFU9siyPk",
        "outputId": "34196f19-fbb8-4b2a-b0c6-06ca1d320c3e"
      },
      "source": [
        "## Rename column \"Type of Admission\" and \"patientid\"\n",
        "df2 = df.withColumnRenamed(\"Type of Admission\", \"Type_of_Admission\")\\\n",
        "      .withColumnRenamed(\"patientid\", \"Patient_id\")\n",
        "\n",
        "## Convert all columns to lower case for uniformity\n",
        "df3 = df2.toDF(*[c.lower() for c in df2.columns])\n",
        "df3.printSchema()\n",
        "\n"
      ],
      "execution_count": 31,
      "outputs": [
        {
          "output_type": "stream",
          "text": [
            "root\n",
            " |-- case_id: string (nullable = true)\n",
            " |-- hospital: string (nullable = true)\n",
            " |-- hospital_type: string (nullable = true)\n",
            " |-- hospital_city: string (nullable = true)\n",
            " |-- hospital_region: string (nullable = true)\n",
            " |-- available_extra_rooms_in_hospital: string (nullable = true)\n",
            " |-- department: string (nullable = true)\n",
            " |-- ward_type: string (nullable = true)\n",
            " |-- ward_facility: string (nullable = true)\n",
            " |-- bed_grade: string (nullable = true)\n",
            " |-- patient_id: string (nullable = true)\n",
            " |-- city_code_patient: string (nullable = true)\n",
            " |-- type_of_admission: string (nullable = true)\n",
            " |-- illness_severity: string (nullable = true)\n",
            " |-- patient_visitors: string (nullable = true)\n",
            " |-- age: string (nullable = true)\n",
            " |-- admission_deposit: string (nullable = true)\n",
            " |-- stay_days: string (nullable = true)\n",
            "\n"
          ],
          "name": "stdout"
        }
      ]
    },
    {
      "cell_type": "code",
      "metadata": {
        "id": "0G74Qd7YbUxm"
      },
      "source": [
        "string_to_integer_list = \n",
        "df3 = df.withColumn(\"id\", F.col(\"id\").astype(IntegerType()))"
      ],
      "execution_count": null,
      "outputs": []
    }
  ]
}