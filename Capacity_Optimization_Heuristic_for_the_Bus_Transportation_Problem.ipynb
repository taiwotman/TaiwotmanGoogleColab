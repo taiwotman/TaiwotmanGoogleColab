{
  "nbformat": 4,
  "nbformat_minor": 0,
  "metadata": {
    "colab": {
      "name": "Capacity Optimization Heuristic for the Bus Transportation Problem",
      "provenance": [],
      "collapsed_sections": [],
      "authorship_tag": "ABX9TyMqTsIKkZxC72GmP0COBcs0",
      "include_colab_link": true
    },
    "kernelspec": {
      "name": "python3",
      "display_name": "Python 3"
    },
    "language_info": {
      "name": "python"
    }
  },
  "cells": [
    {
      "cell_type": "markdown",
      "metadata": {
        "id": "view-in-github",
        "colab_type": "text"
      },
      "source": [
        "<a href=\"https://colab.research.google.com/github/taiwotman/TaiwotmanGoogleColab/blob/main/Capacity_Optimization_Heuristic_for_the_Bus_Transportation_Problem.ipynb\" target=\"_parent\"><img src=\"https://colab.research.google.com/assets/colab-badge.svg\" alt=\"Open In Colab\"/></a>"
      ]
    },
    {
      "cell_type": "code",
      "execution_count": 1,
      "metadata": {
        "id": "-sG3xQ3sJuVV"
      },
      "outputs": [],
      "source": [
        "import random \n",
        "\n",
        "'''\n",
        "   n - Seating capacity of the bus, which is an integer\n",
        "   p - a list comprising weights of the people in wait denoted \n",
        "      e.g. p = [50,300, 20, 32, 93]\n",
        "   w - The maximum weight that a bus can hold, which is an integer\n",
        "'''\n",
        "\n",
        "### Implement the constraints function:\n",
        "\n",
        "def get_eligible_people(n, w, p):\n",
        "  sum = 0\n",
        "  for i in range(0, n):\n",
        "     sum = sum + p[i]\n",
        "  \n",
        "  if sum == w:\n",
        "     return sorted(p[0:n], reverse=True)\n",
        "\n",
        "def capacity_optimization_heuritics_approach(n, w, p):\n",
        "  seed = 10000  # seed to initialize the random number generator\n",
        "  arr_sort = []  ## An empty  list to hold the sorted result lists\n",
        "\n",
        "  '''\n",
        "   Create the solution sample space with random shuffle\n",
        "  '''\n",
        "  for i in range(seed): \n",
        "     random.shuffle(p)\n",
        "     arr = get_eligible_people(n, w, p)\n",
        "     if arr != None:\n",
        "       arr_sort.append(arr)\n",
        "\n",
        "  '''\n",
        "   Deduplication process\n",
        "  '''\n",
        "  set_list = list(map(list, set(map(tuple, arr_sort))))\n",
        "  \n",
        "  for item in set_list:\n",
        "      if item != None: \n",
        "        print(item)\n",
        "\n",
        "\n"
      ]
    },
    {
      "cell_type": "code",
      "source": [
        "  '''\n",
        "    Provide the test case function\n",
        "  '''\n",
        "\n",
        "w = 800\n",
        "p = [205, 150, 140, 170, 230, 90, 110, 250, 135]\n",
        "\n",
        "def do_tests(n,w,p):\n",
        "   try:\n",
        "      print( f\"If seating capacity n={n}\\n\")\n",
        "      print(f\"List p comprising weights of people that can enter the push with maximum weight {w}:\\n\")\n",
        "      capacity_optimization_heuritics_approach(n, w, p)\n",
        "           \n",
        "   except:\n",
        "      print(\"Value entered not allowed\")"
      ],
      "metadata": {
        "id": "FpNeiddVLWA2"
      },
      "execution_count": 2,
      "outputs": []
    },
    {
      "cell_type": "code",
      "source": [
        "# Test suite\n",
        "test_suite = [5, 4, 3, 10]\n",
        "count = 1\n",
        "for n in test_suite:\n",
        "  print(f\"\\nTest case {count}\")\n",
        "  print(\"---\" * 10) \n",
        "  do_tests(n,w,p)\n",
        "  count = count + 1\n",
        "\n"
      ],
      "metadata": {
        "colab": {
          "base_uri": "https://localhost:8080/"
        },
        "id": "dYL8M-b-OI3L",
        "outputId": "a019cd84-7112-4b74-c770-f8bd1e99f894"
      },
      "execution_count": 6,
      "outputs": [
        {
          "output_type": "stream",
          "name": "stdout",
          "text": [
            "\n",
            "Test case 1\n",
            "------------------------------\n",
            "If seating capacity n=5\n",
            "\n",
            "List p comprising weights of people that can enter the push with maximum weight 800:\n",
            "\n",
            "[230, 170, 150, 140, 110]\n",
            "[250, 170, 150, 140, 90]\n",
            "[205, 170, 150, 140, 135]\n",
            "[230, 205, 140, 135, 90]\n",
            "\n",
            "Test case 2\n",
            "------------------------------\n",
            "If seating capacity n=4\n",
            "\n",
            "List p comprising weights of people that can enter the push with maximum weight 800:\n",
            "\n",
            "[250, 230, 170, 150]\n",
            "\n",
            "Test case 3\n",
            "------------------------------\n",
            "If seating capacity n=3\n",
            "\n",
            "List p comprising weights of people that can enter the push with maximum weight 800:\n",
            "\n",
            "\n",
            "Test case 4\n",
            "------------------------------\n",
            "If seating capacity n=10\n",
            "\n",
            "List p comprising weights of people that can enter the push with maximum weight 800:\n",
            "\n",
            "Value entered not allowed\n"
          ]
        }
      ]
    }
  ]
}