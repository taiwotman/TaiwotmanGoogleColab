{
  "nbformat": 4,
  "nbformat_minor": 0,
  "metadata": {
    "colab": {
      "name": "Json_reader_with_unittest.ipynb",
      "provenance": [],
      "collapsed_sections": [],
      "authorship_tag": "ABX9TyO2lc/UGkEgIUJZj85Srb9n",
      "include_colab_link": true
    },
    "kernelspec": {
      "name": "python3",
      "display_name": "Python 3"
    }
  },
  "cells": [
    {
      "cell_type": "markdown",
      "metadata": {
        "id": "view-in-github",
        "colab_type": "text"
      },
      "source": [
        "<a href=\"https://colab.research.google.com/github/taiwotman/TaiwotmanGoogleColab/blob/main/Json_reader_with_unittest.ipynb\" target=\"_parent\"><img src=\"https://colab.research.google.com/assets/colab-badge.svg\" alt=\"Open In Colab\"/></a>"
      ]
    },
    {
      "cell_type": "markdown",
      "metadata": {
        "id": "ke6SDQpT1DC8"
      },
      "source": [
        "## **Loading JSON schema and testing the types from the string key path with an assert statement**  \n",
        "###**- A Python tutorial**"
      ]
    },
    {
      "cell_type": "markdown",
      "metadata": {
        "id": "rEbGzD852IkP"
      },
      "source": [
        "**Tutorial by:** Taiwo Adetiloye | [Website](https://taiwotman.github.io/)\n",
        "\n",
        "**Date:** April 17, 2020 "
      ]
    },
    {
      "cell_type": "code",
      "metadata": {
        "id": "98Wok0Da7jWs"
      },
      "source": [
        "####\n",
        "## Import the JSON python library\n",
        "####\n",
        "import json  \n",
        "\n",
        "####\n",
        "## Load the JSON Schema\n",
        "####\n",
        "schema = json.loads('''{\n",
        "  \"$id\": \"https://example.com/nested-schema.json\",\n",
        "  \"title\": \"nested-schema\",\n",
        "  \"$schema\": \"http://json-schema.org/draft-07/schema#\",\n",
        "  \"required\": [\n",
        "    \"EmploymentInformation\",\n",
        "    \"EmployeePartyID\",\n",
        "    \"Age\"\n",
        "  ],\n",
        "  \"properties\": {\n",
        "    \"EmployeePartyID\": {\n",
        "      \"type\": \"string\",\n",
        "      \"minLength\": 1,\n",
        "      \"maxLength\": 3\n",
        "    },\n",
        "    \"EmploymentInformation\": {\n",
        "      \"$ref\": \"#/definitions/EmploymentInformation\"\n",
        "    },\n",
        "    \"Age\": {\n",
        "      \"type\": \"integer\",\n",
        "      \"minimum\": 16,\n",
        "      \"maximum\": 80\n",
        "    }\n",
        "  },\n",
        "  \"definitions\": {\n",
        "    \"EmploymentInformation\": {\n",
        "      \"type\": \"object\",\n",
        "      \"required\": [\n",
        "        \"OriginalHireDate\"\n",
        "      ],\n",
        "      \"properties\": {\n",
        "        \"OriginalHireDate\": {\n",
        "          \"type\": \"string\",\n",
        "          \"format\": \"date\"\n",
        "        },\n",
        "        \"Beneficiary\": {\n",
        "          \"$ref\": \"#/definitions/DependantInformation\"\n",
        "        }\n",
        "      }\n",
        "    },\n",
        "    \"DependantInformation\": {\n",
        "      \"type\": \"object\",\n",
        "      \"required\": [\n",
        "        \"Name\"\n",
        "      ],\n",
        "      \"properties\": {\n",
        "        \"Name\": {\n",
        "          \"type\": \"string\",\n",
        "          \"minLength\": 5\n",
        "        }\n",
        "      }\n",
        "    }\n",
        "  },\n",
        "  \"description\": \"nested-schema\"\n",
        "}''')\n"
      ],
      "execution_count": null,
      "outputs": []
    },
    {
      "cell_type": "markdown",
      "metadata": {
        "id": "RS8vTO-b2gCr"
      },
      "source": [
        "**Implement python function to get type from the json schema dictionary  and keypath.**"
      ]
    },
    {
      "cell_type": "code",
      "metadata": {
        "id": "zD4t2uts7fg8"
      },
      "source": [
        "def get_type_for_key_path(schema: dict, key_path: str) -> str: \n",
        "    ####\n",
        "    ## Assign values to the declared variables\n",
        "    ####\n",
        "    key_path_str_split = key_path.split('.')      # split key_path string variable into a list using the dot delimiter\n",
        "    key_path_str_length = len(key_path_str_split) # get length of list key_path_str_split\n",
        "    \n",
        "    ####\n",
        "    ## Handle KeyError in try-except block. KeyError is a common error in JSON when a wrong key is provided.\n",
        "    ####\n",
        "    try:\n",
        "        if key_path_str_length==1:\n",
        "             return schema['properties'][key_path_str_split[key_path_str_length-1]]['type']\n",
        "        elif key_path_str_length==2:\n",
        "             return schema['definitions']['EmploymentInformation']['properties'][key_path_str_split[key_path_str_length-1]]['type']\n",
        "        elif key_path_str_length==3 and (key_path_str_split[key_path_str_length-2] in schema['definitions']['EmploymentInformation']['properties']): \n",
        "             return schema['definitions']['DependantInformation']['properties'][key_path_str_split[key_path_str_length-1]]['type']\n",
        "        else:\n",
        "            return None\n",
        "            \n",
        "    except KeyError:\n",
        "             return None"
      ],
      "execution_count": null,
      "outputs": []
    },
    {
      "cell_type": "markdown",
      "metadata": {
        "id": "ho9FS81Z1fr2"
      },
      "source": [
        "**Test using Assert Statement.**"
      ]
    },
    {
      "cell_type": "code",
      "metadata": {
        "id": "p7D-PPCYGxyf"
      },
      "source": [
        "####\n",
        "## Test case1\n",
        "####\n",
        "assert(get_type_for_key_path(schema, \"EmploymentInformation.OriginalHireDate\") == \"string\") # True\n"
      ],
      "execution_count": null,
      "outputs": []
    },
    {
      "cell_type": "code",
      "metadata": {
        "id": "jEJPvN1yG5xi"
      },
      "source": [
        "####\n",
        "## Test case2\n",
        "####\n",
        "assert(get_type_for_key_path(schema, \"EmploymentInformation.Beneficiary.Name\") == \"string\") # True\n"
      ],
      "execution_count": null,
      "outputs": []
    },
    {
      "cell_type": "code",
      "metadata": {
        "id": "D671qHvrG7Ql"
      },
      "source": [
        "####\n",
        "## Test case3\n",
        "####\n",
        "assert(get_type_for_key_path(schema, \"foo.bar\") == None)                                    # True"
      ],
      "execution_count": null,
      "outputs": []
    },
    {
      "cell_type": "code",
      "metadata": {
        "id": "AJvxZgaR1elc",
        "colab": {
          "base_uri": "https://localhost:8080/",
          "height": 164
        },
        "outputId": "c7876788-6e1d-43e5-9c6b-fe5c483e22dc"
      },
      "source": [
        "####\n",
        "## Test case4\n",
        "####\n",
        "assert(get_type_for_key_path(schema, \"Age\") == \"string\")                                    # False - Throws AssertionError\n"
      ],
      "execution_count": null,
      "outputs": [
        {
          "output_type": "error",
          "ename": "AssertionError",
          "evalue": "ignored",
          "traceback": [
            "\u001b[0;31m---------------------------------------------------------------------------\u001b[0m",
            "\u001b[0;31mAssertionError\u001b[0m                            Traceback (most recent call last)",
            "\u001b[0;32m<ipython-input-4-34518ee1c711>\u001b[0m in \u001b[0;36m<module>\u001b[0;34m()\u001b[0m\n\u001b[0;32m----> 1\u001b[0;31m \u001b[0;32massert\u001b[0m\u001b[0;34m(\u001b[0m\u001b[0mget_type_for_key_path\u001b[0m\u001b[0;34m(\u001b[0m\u001b[0mschema\u001b[0m\u001b[0;34m,\u001b[0m \u001b[0;34m\"Age\"\u001b[0m\u001b[0;34m)\u001b[0m \u001b[0;34m==\u001b[0m \u001b[0;34m\"string\"\u001b[0m\u001b[0;34m)\u001b[0m                                   \u001b[0;31m# False - Throws AssertionError\u001b[0m\u001b[0;34m\u001b[0m\u001b[0;34m\u001b[0m\u001b[0m\n\u001b[0m",
            "\u001b[0;31mAssertionError\u001b[0m: "
          ]
        }
      ]
    },
    {
      "cell_type": "markdown",
      "metadata": {
        "id": "X0Arvl104kRL"
      },
      "source": [
        "**This example can be a good starting point to learn JSON Schema with Python. To learn more and solve your interesting python coding problems, feel free to reach me. Thank you.**\n"
      ]
    }
  ]
}